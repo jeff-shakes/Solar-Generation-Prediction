{
 "cells": [
  {
   "cell_type": "code",
   "execution_count": 16,
   "id": "325d33b5-231a-4d40-bfde-47ff96c88337",
   "metadata": {},
   "outputs": [],
   "source": [
    "import pandas as pd\n",
    "import numpy as np\n",
    "import matplotlib.pyplot as plt\n",
    "import missingno as msno"
   ]
  },
  {
   "cell_type": "code",
   "execution_count": 17,
   "id": "1b74cd26-90f8-4845-a0b0-72b1dab9f744",
   "metadata": {},
   "outputs": [
    {
     "data": {
      "text/html": [
       "<div>\n",
       "<style scoped>\n",
       "    .dataframe tbody tr th:only-of-type {\n",
       "        vertical-align: middle;\n",
       "    }\n",
       "\n",
       "    .dataframe tbody tr th {\n",
       "        vertical-align: top;\n",
       "    }\n",
       "\n",
       "    .dataframe thead th {\n",
       "        text-align: right;\n",
       "    }\n",
       "</style>\n",
       "<table border=\"1\" class=\"dataframe\">\n",
       "  <thead>\n",
       "    <tr style=\"text-align: right;\">\n",
       "      <th></th>\n",
       "      <th>CampusKey</th>\n",
       "      <th>SiteKey</th>\n",
       "      <th>Timestamp</th>\n",
       "      <th>SolarGeneration</th>\n",
       "    </tr>\n",
       "  </thead>\n",
       "  <tbody>\n",
       "    <tr>\n",
       "      <th>0</th>\n",
       "      <td>2</td>\n",
       "      <td>1</td>\n",
       "      <td>2020-01-01 00:15:00</td>\n",
       "      <td>NaN</td>\n",
       "    </tr>\n",
       "    <tr>\n",
       "      <th>1</th>\n",
       "      <td>2</td>\n",
       "      <td>1</td>\n",
       "      <td>2020-01-01 00:30:00</td>\n",
       "      <td>NaN</td>\n",
       "    </tr>\n",
       "    <tr>\n",
       "      <th>2</th>\n",
       "      <td>2</td>\n",
       "      <td>1</td>\n",
       "      <td>2020-01-01 00:45:00</td>\n",
       "      <td>NaN</td>\n",
       "    </tr>\n",
       "    <tr>\n",
       "      <th>3</th>\n",
       "      <td>2</td>\n",
       "      <td>1</td>\n",
       "      <td>2020-01-01 01:00:00</td>\n",
       "      <td>NaN</td>\n",
       "    </tr>\n",
       "    <tr>\n",
       "      <th>4</th>\n",
       "      <td>2</td>\n",
       "      <td>1</td>\n",
       "      <td>2020-01-01 01:15:00</td>\n",
       "      <td>NaN</td>\n",
       "    </tr>\n",
       "  </tbody>\n",
       "</table>\n",
       "</div>"
      ],
      "text/plain": [
       "   CampusKey  SiteKey            Timestamp  SolarGeneration\n",
       "0          2        1  2020-01-01 00:15:00              NaN\n",
       "1          2        1  2020-01-01 00:30:00              NaN\n",
       "2          2        1  2020-01-01 00:45:00              NaN\n",
       "3          2        1  2020-01-01 01:00:00              NaN\n",
       "4          2        1  2020-01-01 01:15:00              NaN"
      ]
     },
     "execution_count": 17,
     "metadata": {},
     "output_type": "execute_result"
    }
   ],
   "source": [
    "df = pd.read_csv('../data/raw/Solar_Energy_Generation.csv')\n",
    "df.head()"
   ]
  },
  {
   "cell_type": "code",
   "execution_count": 18,
   "id": "98d12f86-6052-4029-b334-a3bce9541b1a",
   "metadata": {},
   "outputs": [
    {
     "data": {
      "text/plain": [
       "(2731946, 4)"
      ]
     },
     "execution_count": 18,
     "metadata": {},
     "output_type": "execute_result"
    }
   ],
   "source": [
    "df.shape"
   ]
  },
  {
   "cell_type": "code",
   "execution_count": 19,
   "id": "6f55df33-068b-414e-ad1f-4f0bca0d21fe",
   "metadata": {},
   "outputs": [
    {
     "data": {
      "text/plain": [
       "1365973.0"
      ]
     },
     "execution_count": 19,
     "metadata": {},
     "output_type": "execute_result"
    }
   ],
   "source": [
    "df.shape[0]/2"
   ]
  },
  {
   "cell_type": "code",
   "execution_count": 20,
   "id": "a2a4567a-315f-43a5-9f68-0cc042a834dc",
   "metadata": {},
   "outputs": [
    {
     "data": {
      "text/plain": [
       "CampusKey                0\n",
       "SiteKey                  0\n",
       "Timestamp                0\n",
       "SolarGeneration    1536301\n",
       "dtype: int64"
      ]
     },
     "execution_count": 20,
     "metadata": {},
     "output_type": "execute_result"
    }
   ],
   "source": [
    "df.isnull().sum()"
   ]
  },
  {
   "cell_type": "code",
   "execution_count": 21,
   "id": "51e11883-90f7-4b94-b16b-3963e504e0ad",
   "metadata": {},
   "outputs": [],
   "source": [
    "df1 = pd.DataFrame(df.groupby(['Timestamp', 'CampusKey'])['SolarGeneration'].sum())\n",
    "df1.reset_index(inplace = True)\n",
    "df1['Timestamp'] = pd.to_datetime(df1['Timestamp'])\n",
    "df1['time'] = df1.Timestamp.dt.time"
   ]
  },
  {
   "cell_type": "code",
   "execution_count": 22,
   "id": "95f5aefa-9a26-40f4-83d6-5781c070f869",
   "metadata": {},
   "outputs": [],
   "source": [
    "df1.set_index('Timestamp', inplace = True, drop = True)"
   ]
  },
  {
   "cell_type": "code",
   "execution_count": 23,
   "id": "5ba46db0-248e-4962-8ef3-b62657360f98",
   "metadata": {},
   "outputs": [],
   "source": [
    "camp1 = df1[df1['CampusKey'] == 1]\n",
    "camp2 = df1[df1['CampusKey'] == 2]\n",
    "camp3 = df1[df1['CampusKey'] == 3]\n",
    "camp4 = df1[df1['CampusKey'] == 4]\n",
    "camp5 = df1[df1['CampusKey'] == 5]"
   ]
  },
  {
   "cell_type": "markdown",
   "id": "c5a57db2-ef22-401a-a896-c3509239d79e",
   "metadata": {},
   "source": [
    "---"
   ]
  },
  {
   "cell_type": "code",
   "execution_count": 24,
   "id": "77367daf-b143-4839-a9d9-7a26451c3333",
   "metadata": {},
   "outputs": [
    {
     "data": {
      "text/html": [
       "<div>\n",
       "<style scoped>\n",
       "    .dataframe tbody tr th:only-of-type {\n",
       "        vertical-align: middle;\n",
       "    }\n",
       "\n",
       "    .dataframe tbody tr th {\n",
       "        vertical-align: top;\n",
       "    }\n",
       "\n",
       "    .dataframe thead th {\n",
       "        text-align: right;\n",
       "    }\n",
       "</style>\n",
       "<table border=\"1\" class=\"dataframe\">\n",
       "  <thead>\n",
       "    <tr style=\"text-align: right;\">\n",
       "      <th></th>\n",
       "      <th>CampusKey</th>\n",
       "      <th>Timestamp</th>\n",
       "      <th>ApparentTemperature</th>\n",
       "      <th>AirTemperature</th>\n",
       "      <th>DewPointTemperature</th>\n",
       "      <th>RelativeHumidity</th>\n",
       "      <th>WindSpeed</th>\n",
       "      <th>WindDirection</th>\n",
       "    </tr>\n",
       "  </thead>\n",
       "  <tbody>\n",
       "    <tr>\n",
       "      <th>0</th>\n",
       "      <td>1</td>\n",
       "      <td>2020-01-01 00:00:00</td>\n",
       "      <td>13.666667</td>\n",
       "      <td>13.880000</td>\n",
       "      <td>8.960000</td>\n",
       "      <td>72.400000</td>\n",
       "      <td>0.000000</td>\n",
       "      <td>188.133333</td>\n",
       "    </tr>\n",
       "    <tr>\n",
       "      <th>1</th>\n",
       "      <td>1</td>\n",
       "      <td>2020-01-01 00:15:00</td>\n",
       "      <td>13.206667</td>\n",
       "      <td>13.666667</td>\n",
       "      <td>9.040000</td>\n",
       "      <td>73.466667</td>\n",
       "      <td>1.200000</td>\n",
       "      <td>203.866667</td>\n",
       "    </tr>\n",
       "    <tr>\n",
       "      <th>2</th>\n",
       "      <td>1</td>\n",
       "      <td>2020-01-01 00:30:00</td>\n",
       "      <td>12.840000</td>\n",
       "      <td>13.553333</td>\n",
       "      <td>9.053333</td>\n",
       "      <td>74.000000</td>\n",
       "      <td>2.520000</td>\n",
       "      <td>222.800000</td>\n",
       "    </tr>\n",
       "    <tr>\n",
       "      <th>3</th>\n",
       "      <td>1</td>\n",
       "      <td>2020-01-01 00:45:00</td>\n",
       "      <td>12.113333</td>\n",
       "      <td>13.506667</td>\n",
       "      <td>9.100000</td>\n",
       "      <td>74.466667</td>\n",
       "      <td>5.986667</td>\n",
       "      <td>231.133333</td>\n",
       "    </tr>\n",
       "    <tr>\n",
       "      <th>4</th>\n",
       "      <td>1</td>\n",
       "      <td>2020-01-01 01:00:00</td>\n",
       "      <td>11.946667</td>\n",
       "      <td>13.260000</td>\n",
       "      <td>9.266667</td>\n",
       "      <td>76.533333</td>\n",
       "      <td>5.946667</td>\n",
       "      <td>247.866667</td>\n",
       "    </tr>\n",
       "  </tbody>\n",
       "</table>\n",
       "</div>"
      ],
      "text/plain": [
       "   CampusKey            Timestamp  ApparentTemperature  AirTemperature  \\\n",
       "0          1  2020-01-01 00:00:00            13.666667       13.880000   \n",
       "1          1  2020-01-01 00:15:00            13.206667       13.666667   \n",
       "2          1  2020-01-01 00:30:00            12.840000       13.553333   \n",
       "3          1  2020-01-01 00:45:00            12.113333       13.506667   \n",
       "4          1  2020-01-01 01:00:00            11.946667       13.260000   \n",
       "\n",
       "   DewPointTemperature  RelativeHumidity  WindSpeed  WindDirection  \n",
       "0             8.960000         72.400000   0.000000     188.133333  \n",
       "1             9.040000         73.466667   1.200000     203.866667  \n",
       "2             9.053333         74.000000   2.520000     222.800000  \n",
       "3             9.100000         74.466667   5.986667     231.133333  \n",
       "4             9.266667         76.533333   5.946667     247.866667  "
      ]
     },
     "execution_count": 24,
     "metadata": {},
     "output_type": "execute_result"
    }
   ],
   "source": [
    "weather = pd.read_csv('../data/raw/Weather_Data_reordered_all.csv')\n",
    "weather.head()"
   ]
  },
  {
   "cell_type": "code",
   "execution_count": 25,
   "id": "30a50e01-bd6b-4df5-bb5a-7305a7077efa",
   "metadata": {},
   "outputs": [
    {
     "data": {
      "text/plain": [
       "array([1, 2, 3, 4, 5], dtype=int64)"
      ]
     },
     "execution_count": 25,
     "metadata": {},
     "output_type": "execute_result"
    }
   ],
   "source": [
    "weather.CampusKey.unique()"
   ]
  },
  {
   "cell_type": "markdown",
   "id": "15526f3b-79a5-49a9-97b9-4b292f2bd8f5",
   "metadata": {},
   "source": [
    "Separating the Solar Generation data and the Weather data into CampusKeys"
   ]
  },
  {
   "cell_type": "code",
   "execution_count": 26,
   "id": "e883d3b6-088e-4bb2-9a84-7228b75fdc3b",
   "metadata": {},
   "outputs": [],
   "source": [
    "weather['Timestamp'] = pd.to_datetime(weather['Timestamp'])\n",
    "weather.set_index('Timestamp', inplace = True)\n",
    "weather.sort_index(inplace = True)"
   ]
  },
  {
   "cell_type": "code",
   "execution_count": 27,
   "id": "469f1f52-c01c-45da-a9fc-1a8b1ddf5c78",
   "metadata": {},
   "outputs": [
    {
     "data": {
      "text/plain": [
       "(371769, 7)"
      ]
     },
     "execution_count": 27,
     "metadata": {},
     "output_type": "execute_result"
    }
   ],
   "source": [
    "weather.shape"
   ]
  },
  {
   "cell_type": "code",
   "execution_count": 28,
   "id": "88ea8a3b-3847-4857-b515-f3cf1831bce4",
   "metadata": {},
   "outputs": [
    {
     "data": {
      "text/plain": [
       "CampusKey                   0\n",
       "ApparentTemperature    107113\n",
       "AirTemperature         107113\n",
       "DewPointTemperature    107113\n",
       "RelativeHumidity       107113\n",
       "WindSpeed              162890\n",
       "WindDirection          162890\n",
       "dtype: int64"
      ]
     },
     "execution_count": 28,
     "metadata": {},
     "output_type": "execute_result"
    }
   ],
   "source": [
    "weather.isnull().sum()"
   ]
  },
  {
   "cell_type": "code",
   "execution_count": 29,
   "id": "b9146dc5-58d2-4980-913a-017cac7a915c",
   "metadata": {},
   "outputs": [],
   "source": [
    "campus1 = weather[weather['CampusKey'] == 1]\n",
    "campus2 = weather[weather['CampusKey'] == 2]\n",
    "campus3 = weather[weather['CampusKey'] == 3]\n",
    "campus4 = weather[weather['CampusKey'] == 4]\n",
    "campus5 = weather[weather['CampusKey'] == 5]"
   ]
  },
  {
   "cell_type": "code",
   "execution_count": 30,
   "id": "726ac900-9314-40d7-990c-7c8eb8dc3744",
   "metadata": {},
   "outputs": [
    {
     "data": {
      "text/html": [
       "<div>\n",
       "<style scoped>\n",
       "    .dataframe tbody tr th:only-of-type {\n",
       "        vertical-align: middle;\n",
       "    }\n",
       "\n",
       "    .dataframe tbody tr th {\n",
       "        vertical-align: top;\n",
       "    }\n",
       "\n",
       "    .dataframe thead th {\n",
       "        text-align: right;\n",
       "    }\n",
       "</style>\n",
       "<table border=\"1\" class=\"dataframe\">\n",
       "  <thead>\n",
       "    <tr style=\"text-align: right;\">\n",
       "      <th></th>\n",
       "      <th>CampusKey</th>\n",
       "      <th>ApparentTemperature</th>\n",
       "      <th>AirTemperature</th>\n",
       "      <th>DewPointTemperature</th>\n",
       "      <th>RelativeHumidity</th>\n",
       "      <th>WindSpeed</th>\n",
       "      <th>WindDirection</th>\n",
       "    </tr>\n",
       "    <tr>\n",
       "      <th>Timestamp</th>\n",
       "      <th></th>\n",
       "      <th></th>\n",
       "      <th></th>\n",
       "      <th></th>\n",
       "      <th></th>\n",
       "      <th></th>\n",
       "      <th></th>\n",
       "    </tr>\n",
       "  </thead>\n",
       "  <tbody>\n",
       "    <tr>\n",
       "      <th>2020-12-13 01:00:00</th>\n",
       "      <td>5</td>\n",
       "      <td>15.173333</td>\n",
       "      <td>19.386667</td>\n",
       "      <td>7.786667</td>\n",
       "      <td>47.000000</td>\n",
       "      <td>19.04</td>\n",
       "      <td>36.533333</td>\n",
       "    </tr>\n",
       "    <tr>\n",
       "      <th>2020-12-13 01:15:00</th>\n",
       "      <td>5</td>\n",
       "      <td>15.113333</td>\n",
       "      <td>19.186667</td>\n",
       "      <td>7.893333</td>\n",
       "      <td>48.000000</td>\n",
       "      <td>18.38</td>\n",
       "      <td>33.933333</td>\n",
       "    </tr>\n",
       "    <tr>\n",
       "      <th>2020-12-13 01:30:00</th>\n",
       "      <td>5</td>\n",
       "      <td>14.680000</td>\n",
       "      <td>19.166667</td>\n",
       "      <td>7.940000</td>\n",
       "      <td>48.200000</td>\n",
       "      <td>20.60</td>\n",
       "      <td>34.866667</td>\n",
       "    </tr>\n",
       "    <tr>\n",
       "      <th>2020-12-13 01:45:00</th>\n",
       "      <td>5</td>\n",
       "      <td>14.640000</td>\n",
       "      <td>19.146667</td>\n",
       "      <td>7.846667</td>\n",
       "      <td>48.000000</td>\n",
       "      <td>20.64</td>\n",
       "      <td>35.400000</td>\n",
       "    </tr>\n",
       "    <tr>\n",
       "      <th>2020-12-13 02:00:00</th>\n",
       "      <td>5</td>\n",
       "      <td>14.966667</td>\n",
       "      <td>18.906667</td>\n",
       "      <td>7.846667</td>\n",
       "      <td>48.533333</td>\n",
       "      <td>17.64</td>\n",
       "      <td>39.733333</td>\n",
       "    </tr>\n",
       "  </tbody>\n",
       "</table>\n",
       "</div>"
      ],
      "text/plain": [
       "                     CampusKey  ApparentTemperature  AirTemperature  \\\n",
       "Timestamp                                                             \n",
       "2020-12-13 01:00:00          5            15.173333       19.386667   \n",
       "2020-12-13 01:15:00          5            15.113333       19.186667   \n",
       "2020-12-13 01:30:00          5            14.680000       19.166667   \n",
       "2020-12-13 01:45:00          5            14.640000       19.146667   \n",
       "2020-12-13 02:00:00          5            14.966667       18.906667   \n",
       "\n",
       "                     DewPointTemperature  RelativeHumidity  WindSpeed  \\\n",
       "Timestamp                                                               \n",
       "2020-12-13 01:00:00             7.786667         47.000000      19.04   \n",
       "2020-12-13 01:15:00             7.893333         48.000000      18.38   \n",
       "2020-12-13 01:30:00             7.940000         48.200000      20.60   \n",
       "2020-12-13 01:45:00             7.846667         48.000000      20.64   \n",
       "2020-12-13 02:00:00             7.846667         48.533333      17.64   \n",
       "\n",
       "                     WindDirection  \n",
       "Timestamp                           \n",
       "2020-12-13 01:00:00      36.533333  \n",
       "2020-12-13 01:15:00      33.933333  \n",
       "2020-12-13 01:30:00      34.866667  \n",
       "2020-12-13 01:45:00      35.400000  \n",
       "2020-12-13 02:00:00      39.733333  "
      ]
     },
     "execution_count": 30,
     "metadata": {},
     "output_type": "execute_result"
    }
   ],
   "source": [
    "campus5.head()"
   ]
  },
  {
   "cell_type": "code",
   "execution_count": 16,
   "id": "451b6158-d420-4624-9ef9-23623bd4ec0a",
   "metadata": {},
   "outputs": [
    {
     "data": {
      "text/plain": [
       "((39817, 3), (81017, 7))"
      ]
     },
     "execution_count": 16,
     "metadata": {},
     "output_type": "execute_result"
    }
   ],
   "source": [
    "camp1.shape, campus1.shape"
   ]
  },
  {
   "cell_type": "code",
   "execution_count": 17,
   "id": "49b691fb-3827-4eea-90fa-12dcac00a3c2",
   "metadata": {},
   "outputs": [],
   "source": [
    "df1 = pd.merge(left = camp1, right = campus1, on=['Timestamp', 'CampusKey'], how='left')\n",
    "df1.to_csv('../data/cleaned/campus1.csv')\n",
    "df2 = pd.merge(left = camp2, right = campus2, on=['Timestamp', 'CampusKey'], how='left')\n",
    "df2.to_csv('../data/cleaned/campus2.csv')\n",
    "df3 = pd.merge(left = camp3, right = campus3, on=['Timestamp', 'CampusKey'], how='left')\n",
    "df3.to_csv('../data/cleaned/campus3.csv')\n",
    "df4 = pd.merge(left = camp4, right = campus4, on=['Timestamp', 'CampusKey'], how='left')\n",
    "df4.to_csv('../data/cleaned/campus4.csv')\n",
    "df5 = pd.merge(left = camp5, right = campus5, on=['Timestamp', 'CampusKey'], how='left')\n",
    "df5.to_csv('../data/cleaned/campus5.csv')"
   ]
  },
  {
   "cell_type": "code",
   "execution_count": null,
   "id": "3164d59a-71a5-48fd-b6a7-6572f85ffaa9",
   "metadata": {},
   "outputs": [],
   "source": []
  }
 ],
 "metadata": {
  "kernelspec": {
   "display_name": "Python 3 (ipykernel)",
   "language": "python",
   "name": "python3"
  },
  "language_info": {
   "codemirror_mode": {
    "name": "ipython",
    "version": 3
   },
   "file_extension": ".py",
   "mimetype": "text/x-python",
   "name": "python",
   "nbconvert_exporter": "python",
   "pygments_lexer": "ipython3",
   "version": "3.9.13"
  }
 },
 "nbformat": 4,
 "nbformat_minor": 5
}
