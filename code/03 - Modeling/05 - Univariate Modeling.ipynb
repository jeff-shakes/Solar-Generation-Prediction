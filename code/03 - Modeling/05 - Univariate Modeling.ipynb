{
 "cells": [
  {
   "cell_type": "markdown",
   "metadata": {
    "id": "7Xgs0Ql62tqA"
   },
   "source": [
    "# Univariate Modeling Using RNN\n",
    "\n",
    "#### (Meant to be run within Google Colab)"
   ]
  },
  {
   "cell_type": "code",
   "execution_count": 1,
   "metadata": {
    "id": "yPc8ZaawFY_n"
   },
   "outputs": [],
   "source": [
    "import pandas as pd\n",
    "import numpy as np\n",
    "import pickle\n",
    "\n",
    "from sklearn.preprocessing import StandardScaler\n",
    "from sklearn.model_selection import train_test_split\n",
    "from sklearn.metrics import accuracy_score, mean_squared_error, mean_absolute_error\n",
    "\n",
    "from tensorflow.keras.models import Sequential\n",
    "from tensorflow.keras.layers import Dense, Dropout, LSTM, SimpleRNN\n",
    "from tensorflow.keras.optimizers import Adam\n",
    "from tensorflow.keras.preprocessing.sequence import TimeseriesGenerator\n",
    "from tensorflow.keras.utils import timeseries_dataset_from_array\n",
    "from tensorflow.keras.callbacks import EarlyStopping\n",
    "\n",
    "import matplotlib.pyplot as plt\n",
    "\n",
    "import random\n",
    "random.seed(42)\n",
    "np.random.seed(42)\n",
    "import tensorflow as tf\n",
    "tf.random.set_seed(42)"
   ]
  },
  {
   "cell_type": "code",
   "execution_count": null,
   "metadata": {
    "colab": {
     "base_uri": "https://localhost:8080/"
    },
    "id": "jwH247IiFckc",
    "outputId": "e328fa4e-965d-473f-fdce-d34549ca6cd5"
   },
   "outputs": [
    {
     "name": "stdout",
     "output_type": "stream",
     "text": [
      "Mounted at /content/drive\n"
     ]
    }
   ],
   "source": [
    "#mount drive\n",
    "from google.colab import drive\n",
    "drive.mount('/content/drive')"
   ]
  },
  {
   "cell_type": "code",
   "execution_count": 121,
   "metadata": {
    "colab": {
     "base_uri": "https://localhost:8080/",
     "height": 74
    },
    "id": "ZCgDELDMFly-",
    "outputId": "3d989d63-5084-45d6-c081-14c9d909c132"
   },
   "outputs": [
    {
     "data": {
      "text/html": [
       "\n",
       "     <input type=\"file\" id=\"files-194c333d-30b6-454d-9abf-87ea75517ed3\" name=\"files[]\" multiple disabled\n",
       "        style=\"border:none\" />\n",
       "     <output id=\"result-194c333d-30b6-454d-9abf-87ea75517ed3\">\n",
       "      Upload widget is only available when the cell has been executed in the\n",
       "      current browser session. Please rerun this cell to enable.\n",
       "      </output>\n",
       "      <script>// Copyright 2017 Google LLC\n",
       "//\n",
       "// Licensed under the Apache License, Version 2.0 (the \"License\");\n",
       "// you may not use this file except in compliance with the License.\n",
       "// You may obtain a copy of the License at\n",
       "//\n",
       "//      http://www.apache.org/licenses/LICENSE-2.0\n",
       "//\n",
       "// Unless required by applicable law or agreed to in writing, software\n",
       "// distributed under the License is distributed on an \"AS IS\" BASIS,\n",
       "// WITHOUT WARRANTIES OR CONDITIONS OF ANY KIND, either express or implied.\n",
       "// See the License for the specific language governing permissions and\n",
       "// limitations under the License.\n",
       "\n",
       "/**\n",
       " * @fileoverview Helpers for google.colab Python module.\n",
       " */\n",
       "(function(scope) {\n",
       "function span(text, styleAttributes = {}) {\n",
       "  const element = document.createElement('span');\n",
       "  element.textContent = text;\n",
       "  for (const key of Object.keys(styleAttributes)) {\n",
       "    element.style[key] = styleAttributes[key];\n",
       "  }\n",
       "  return element;\n",
       "}\n",
       "\n",
       "// Max number of bytes which will be uploaded at a time.\n",
       "const MAX_PAYLOAD_SIZE = 100 * 1024;\n",
       "\n",
       "function _uploadFiles(inputId, outputId) {\n",
       "  const steps = uploadFilesStep(inputId, outputId);\n",
       "  const outputElement = document.getElementById(outputId);\n",
       "  // Cache steps on the outputElement to make it available for the next call\n",
       "  // to uploadFilesContinue from Python.\n",
       "  outputElement.steps = steps;\n",
       "\n",
       "  return _uploadFilesContinue(outputId);\n",
       "}\n",
       "\n",
       "// This is roughly an async generator (not supported in the browser yet),\n",
       "// where there are multiple asynchronous steps and the Python side is going\n",
       "// to poll for completion of each step.\n",
       "// This uses a Promise to block the python side on completion of each step,\n",
       "// then passes the result of the previous step as the input to the next step.\n",
       "function _uploadFilesContinue(outputId) {\n",
       "  const outputElement = document.getElementById(outputId);\n",
       "  const steps = outputElement.steps;\n",
       "\n",
       "  const next = steps.next(outputElement.lastPromiseValue);\n",
       "  return Promise.resolve(next.value.promise).then((value) => {\n",
       "    // Cache the last promise value to make it available to the next\n",
       "    // step of the generator.\n",
       "    outputElement.lastPromiseValue = value;\n",
       "    return next.value.response;\n",
       "  });\n",
       "}\n",
       "\n",
       "/**\n",
       " * Generator function which is called between each async step of the upload\n",
       " * process.\n",
       " * @param {string} inputId Element ID of the input file picker element.\n",
       " * @param {string} outputId Element ID of the output display.\n",
       " * @return {!Iterable<!Object>} Iterable of next steps.\n",
       " */\n",
       "function* uploadFilesStep(inputId, outputId) {\n",
       "  const inputElement = document.getElementById(inputId);\n",
       "  inputElement.disabled = false;\n",
       "\n",
       "  const outputElement = document.getElementById(outputId);\n",
       "  outputElement.innerHTML = '';\n",
       "\n",
       "  const pickedPromise = new Promise((resolve) => {\n",
       "    inputElement.addEventListener('change', (e) => {\n",
       "      resolve(e.target.files);\n",
       "    });\n",
       "  });\n",
       "\n",
       "  const cancel = document.createElement('button');\n",
       "  inputElement.parentElement.appendChild(cancel);\n",
       "  cancel.textContent = 'Cancel upload';\n",
       "  const cancelPromise = new Promise((resolve) => {\n",
       "    cancel.onclick = () => {\n",
       "      resolve(null);\n",
       "    };\n",
       "  });\n",
       "\n",
       "  // Wait for the user to pick the files.\n",
       "  const files = yield {\n",
       "    promise: Promise.race([pickedPromise, cancelPromise]),\n",
       "    response: {\n",
       "      action: 'starting',\n",
       "    }\n",
       "  };\n",
       "\n",
       "  cancel.remove();\n",
       "\n",
       "  // Disable the input element since further picks are not allowed.\n",
       "  inputElement.disabled = true;\n",
       "\n",
       "  if (!files) {\n",
       "    return {\n",
       "      response: {\n",
       "        action: 'complete',\n",
       "      }\n",
       "    };\n",
       "  }\n",
       "\n",
       "  for (const file of files) {\n",
       "    const li = document.createElement('li');\n",
       "    li.append(span(file.name, {fontWeight: 'bold'}));\n",
       "    li.append(span(\n",
       "        `(${file.type || 'n/a'}) - ${file.size} bytes, ` +\n",
       "        `last modified: ${\n",
       "            file.lastModifiedDate ? file.lastModifiedDate.toLocaleDateString() :\n",
       "                                    'n/a'} - `));\n",
       "    const percent = span('0% done');\n",
       "    li.appendChild(percent);\n",
       "\n",
       "    outputElement.appendChild(li);\n",
       "\n",
       "    const fileDataPromise = new Promise((resolve) => {\n",
       "      const reader = new FileReader();\n",
       "      reader.onload = (e) => {\n",
       "        resolve(e.target.result);\n",
       "      };\n",
       "      reader.readAsArrayBuffer(file);\n",
       "    });\n",
       "    // Wait for the data to be ready.\n",
       "    let fileData = yield {\n",
       "      promise: fileDataPromise,\n",
       "      response: {\n",
       "        action: 'continue',\n",
       "      }\n",
       "    };\n",
       "\n",
       "    // Use a chunked sending to avoid message size limits. See b/62115660.\n",
       "    let position = 0;\n",
       "    do {\n",
       "      const length = Math.min(fileData.byteLength - position, MAX_PAYLOAD_SIZE);\n",
       "      const chunk = new Uint8Array(fileData, position, length);\n",
       "      position += length;\n",
       "\n",
       "      const base64 = btoa(String.fromCharCode.apply(null, chunk));\n",
       "      yield {\n",
       "        response: {\n",
       "          action: 'append',\n",
       "          file: file.name,\n",
       "          data: base64,\n",
       "        },\n",
       "      };\n",
       "\n",
       "      let percentDone = fileData.byteLength === 0 ?\n",
       "          100 :\n",
       "          Math.round((position / fileData.byteLength) * 100);\n",
       "      percent.textContent = `${percentDone}% done`;\n",
       "\n",
       "    } while (position < fileData.byteLength);\n",
       "  }\n",
       "\n",
       "  // All done.\n",
       "  yield {\n",
       "    response: {\n",
       "      action: 'complete',\n",
       "    }\n",
       "  };\n",
       "}\n",
       "\n",
       "scope.google = scope.google || {};\n",
       "scope.google.colab = scope.google.colab || {};\n",
       "scope.google.colab._files = {\n",
       "  _uploadFiles,\n",
       "  _uploadFilesContinue,\n",
       "};\n",
       "})(self);\n",
       "</script> "
      ],
      "text/plain": [
       "<IPython.core.display.HTML object>"
      ]
     },
     "metadata": {},
     "output_type": "display_data"
    },
    {
     "name": "stdout",
     "output_type": "stream",
     "text": [
      "Saving campus5.csv to campus5 (1).csv\n"
     ]
    }
   ],
   "source": [
    "#import campus5\n",
    "from google.colab import files\n",
    "import io\n",
    "\n",
    "uploaded = files.upload()\n",
    "\n",
    "campus5 = io.BytesIO(uploaded['campus5.csv'])\n",
    "df = pd.read_csv(campus5)"
   ]
  },
  {
   "cell_type": "code",
   "execution_count": 122,
   "metadata": {
    "id": "8bqMyLOBFvxG"
   },
   "outputs": [],
   "source": [
    "df.index = pd.to_datetime(df['Timestamp'])"
   ]
  },
  {
   "cell_type": "code",
   "execution_count": 92,
   "metadata": {
    "id": "ggiky3JwFwxW"
   },
   "outputs": [],
   "source": [
    "#Looking at just Solar Generation to Predict Solar Generation. And train/test/splitting\n",
    "df = df[['SolarGeneration']]\n",
    "y_train, y_test = train_test_split(df['SolarGeneration'], shuffle = False, test_size = 0.15)"
   ]
  },
  {
   "cell_type": "code",
   "execution_count": 93,
   "metadata": {
    "id": "dWgrGFAZdWWS"
   },
   "outputs": [],
   "source": [
    "def print_last(res):\n",
    "  '''\n",
    "  Helper function to just print out the last training and testing loss \n",
    "  function values as well as the last metrics of a fitted model\n",
    "  '''\n",
    "  print(f\"Mean Absolute Error - Training: {np.round(res.history['loss'][-1], 5)}\")\n",
    "  print(f\"Mean Absolute Error - Testing: {np.round(res.history['val_loss'][-1], 5)}\")\n",
    "  print(f\"Root Mean Squared Error - Training: {np.round(np.sqrt(res.history['mse'][-1]), 5)}\")\n",
    "  print(f\"Root Mean Squared Error - Testing: {np.round(np.sqrt(res.history['val_mse'][-1]), 5)}\")"
   ]
  },
  {
   "cell_type": "code",
   "execution_count": 94,
   "metadata": {
    "id": "uH3Wj-9Zd9Gc"
   },
   "outputs": [],
   "source": [
    "early_stop = EarlyStopping(monitor = 'val_loss', patience = 5)"
   ]
  },
  {
   "cell_type": "markdown",
   "metadata": {
    "id": "s-hazI0I3eys"
   },
   "source": [
    "First investigating 12 lengths (15min) at a time to look at 3-hour intervals  \n",
    "\n",
    "Examining the different types of models with various numbers of SimpleRNN layers, Dense layers, and nodes for each."
   ]
  },
  {
   "cell_type": "code",
   "execution_count": 95,
   "metadata": {
    "id": "CWgKdXzMIn37"
   },
   "outputs": [],
   "source": [
    "seq_length = 12\n",
    "train_ds = timeseries_dataset_from_array(\n",
    "    y_train.to_numpy(),\n",
    "    targets = y_train[seq_length:],\n",
    "    sequence_length = seq_length,\n",
    "    batch_size = 32,\n",
    "    shuffle = True,\n",
    "    seed = 42\n",
    ")\n",
    "\n",
    "val_ds = timeseries_dataset_from_array(\n",
    "    y_test.to_numpy(),\n",
    "    targets = y_test[seq_length:],\n",
    "    sequence_length = seq_length,\n",
    "    batch_size = 32,\n",
    ")"
   ]
  },
  {
   "cell_type": "code",
   "execution_count": 96,
   "metadata": {
    "colab": {
     "base_uri": "https://localhost:8080/"
    },
    "id": "_GEQGM_0GktX",
    "outputId": "ea3a4cf9-8281-4dc7-d81f-35ab5c7fffbb"
   },
   "outputs": [
    {
     "name": "stdout",
     "output_type": "stream",
     "text": [
      "Mean Absolute Error - Training: 0.24034\n",
      "Mean Absolute Error - Testing: 0.23555\n",
      "Root Mean Squared Error - Training: 0.67961\n",
      "Root Mean Squared Error - Testing: 0.6221\n"
     ]
    }
   ],
   "source": [
    "model = Sequential()\n",
    "model.add(SimpleRNN(1, input_shape = [None,1]))\n",
    "model.add(Dense(1, activation = 'linear'))\n",
    "\n",
    "model.compile(loss = 'mae',\n",
    "              optimizer = Adam(learning_rate = 0.001), \n",
    "              metrics = ['mse'])\n",
    "\n",
    "res = model.fit(train_ds, \n",
    "                validation_data = val_ds, \n",
    "                epochs = 50, \n",
    "                verbose = 0,\n",
    "                callbacks = [early_stop])\n",
    "\n",
    "print_last(res)"
   ]
  },
  {
   "cell_type": "code",
   "execution_count": 97,
   "metadata": {
    "colab": {
     "base_uri": "https://localhost:8080/"
    },
    "id": "SDQOyg6FHI5i",
    "outputId": "d2a4a4be-d2f4-45cb-af2e-9af0779b0c5d"
   },
   "outputs": [
    {
     "name": "stdout",
     "output_type": "stream",
     "text": [
      "Mean Absolute Error - Training: 0.19899\n",
      "Mean Absolute Error - Testing: 0.18984\n",
      "Root Mean Squared Error - Training: 0.64007\n",
      "Root Mean Squared Error - Testing: 0.57907\n"
     ]
    }
   ],
   "source": [
    "model = Sequential()\n",
    "\n",
    "model.add(SimpleRNN(32, input_shape = [None,1]))\n",
    "model.add(Dense(1, activation = 'linear'))\n",
    "\n",
    "model.compile(loss = 'mae',\n",
    "              optimizer = Adam(learning_rate = 0.001), \n",
    "              metrics = ['mse'])\n",
    "\n",
    "res = model.fit(train_ds, \n",
    "                validation_data = val_ds, \n",
    "                epochs = 50, \n",
    "                verbose = 0,\n",
    "                callbacks = [early_stop])\n",
    "\n",
    "print_last(res)"
   ]
  },
  {
   "cell_type": "code",
   "execution_count": 98,
   "metadata": {
    "colab": {
     "base_uri": "https://localhost:8080/"
    },
    "id": "vq0vWK_L4L1j",
    "outputId": "44a1502c-dcd6-47e3-d8ff-223329629743"
   },
   "outputs": [
    {
     "name": "stdout",
     "output_type": "stream",
     "text": [
      "Mean Absolute Error - Training: 0.19957\n",
      "Mean Absolute Error - Testing: 0.19663\n",
      "Root Mean Squared Error - Training: 0.63343\n",
      "Root Mean Squared Error - Testing: 0.57871\n"
     ]
    }
   ],
   "source": [
    "model = Sequential()\n",
    "\n",
    "model.add(SimpleRNN(32, input_shape = [None,1], return_sequences = True))\n",
    "model.add(SimpleRNN(32, input_shape = [None,1]))\n",
    "model.add(Dense(1, activation = 'linear'))\n",
    "\n",
    "model.compile(loss = 'mae',\n",
    "              optimizer = Adam(learning_rate = 0.001), \n",
    "              metrics = ['mse'])\n",
    "\n",
    "res = model.fit(train_ds, \n",
    "                validation_data = val_ds, \n",
    "                epochs = 50, \n",
    "                verbose = 0,\n",
    "                callbacks = [early_stop])\n",
    "\n",
    "print_last(res)"
   ]
  },
  {
   "cell_type": "code",
   "execution_count": 99,
   "metadata": {
    "colab": {
     "base_uri": "https://localhost:8080/"
    },
    "id": "mcw6vbavLo8t",
    "outputId": "ec80fa3d-15d9-4049-c716-0e975fb36dda"
   },
   "outputs": [
    {
     "name": "stdout",
     "output_type": "stream",
     "text": [
      "Mean Absolute Error - Training: 0.20633\n",
      "Mean Absolute Error - Testing: 0.19282\n",
      "Root Mean Squared Error - Training: 0.63873\n",
      "Root Mean Squared Error - Testing: 0.58261\n"
     ]
    }
   ],
   "source": [
    "model = Sequential()\n",
    "\n",
    "model.add(SimpleRNN(32, input_shape = [None,1], return_sequences = True))\n",
    "model.add(SimpleRNN(32, input_shape = [None,1], return_sequences = True))\n",
    "model.add(SimpleRNN(32, input_shape = [None,1]))\n",
    "model.add(Dense(1, activation = 'linear'))\n",
    "\n",
    "model.compile(loss = 'mae',\n",
    "              optimizer = Adam(learning_rate = 0.001), \n",
    "              metrics = ['mse'])\n",
    "\n",
    "res = model.fit(train_ds, \n",
    "                validation_data = val_ds, \n",
    "                epochs = 50, \n",
    "                verbose = 0,\n",
    "                callbacks = [early_stop])\n",
    "\n",
    "print_last(res)"
   ]
  },
  {
   "cell_type": "code",
   "execution_count": 100,
   "metadata": {
    "colab": {
     "base_uri": "https://localhost:8080/"
    },
    "id": "wEC6DkHmL0ID",
    "outputId": "4c82d91e-0c48-44f5-dc75-e6eb1dd578ab"
   },
   "outputs": [
    {
     "name": "stdout",
     "output_type": "stream",
     "text": [
      "Mean Absolute Error - Training: 0.2013\n",
      "Mean Absolute Error - Testing: 0.24388\n",
      "Root Mean Squared Error - Training: 0.63756\n",
      "Root Mean Squared Error - Testing: 0.59736\n"
     ]
    }
   ],
   "source": [
    "model = Sequential()\n",
    "\n",
    "model.add(SimpleRNN(32, input_shape = [None,1], return_sequences = True))\n",
    "model.add(SimpleRNN(32, input_shape = [None,1], return_sequences = True))\n",
    "model.add(SimpleRNN(32, input_shape = [None,1]))\n",
    "model.add(Dense(32, activation = 'relu'))\n",
    "model.add(Dense(1, activation = 'linear'))\n",
    "\n",
    "model.compile(loss = 'mae',\n",
    "              optimizer = Adam(learning_rate = 0.001), \n",
    "              metrics = ['mse'])\n",
    "\n",
    "res = model.fit(train_ds, \n",
    "                validation_data = val_ds, \n",
    "                epochs = 50, \n",
    "                verbose = 0,\n",
    "                callbacks = [early_stop])\n",
    "\n",
    "print_last(res)"
   ]
  },
  {
   "cell_type": "markdown",
   "metadata": {
    "id": "o56w1wld34OS"
   },
   "source": [
    "---"
   ]
  },
  {
   "cell_type": "markdown",
   "metadata": {
    "id": "PuQwRB6D33ox"
   },
   "source": [
    "Next investigating 16 lengths (15min) at a time to look at 4-hour intervals  \n",
    "\n",
    "Examining the different types of models with various numbers of SimpleRNN layers, Dense layers, and nodes for each."
   ]
  },
  {
   "cell_type": "code",
   "execution_count": 101,
   "metadata": {
    "id": "hLW7a9HfeTfx"
   },
   "outputs": [],
   "source": [
    "seq_length = 16\n",
    "train_ds = timeseries_dataset_from_array(\n",
    "    y_train.to_numpy(),\n",
    "    targets = y_train[seq_length:],\n",
    "    sequence_length = seq_length,\n",
    "    batch_size = 96,\n",
    "    shuffle = True,\n",
    "    seed = 42\n",
    ")\n",
    "\n",
    "val_ds = timeseries_dataset_from_array(\n",
    "    y_test.to_numpy(),\n",
    "    targets = y_test[seq_length:],\n",
    "    sequence_length = seq_length,\n",
    "    batch_size = 96,\n",
    ")"
   ]
  },
  {
   "cell_type": "code",
   "execution_count": 102,
   "metadata": {
    "colab": {
     "base_uri": "https://localhost:8080/"
    },
    "id": "sjSEtXjheXx3",
    "outputId": "0ce9bfbf-31d9-4766-dcaa-2e2ff8784d7b"
   },
   "outputs": [
    {
     "name": "stdout",
     "output_type": "stream",
     "text": [
      "Mean Absolute Error - Training: 0.19621\n",
      "Mean Absolute Error - Testing: 0.18977\n",
      "Root Mean Squared Error - Training: 0.63986\n",
      "Root Mean Squared Error - Testing: 0.58625\n"
     ]
    }
   ],
   "source": [
    "model = Sequential()\n",
    "\n",
    "model.add(SimpleRNN(32, input_shape = [None,1]))\n",
    "model.add(Dense(1, activation = 'linear'))\n",
    "\n",
    "model.compile(loss = 'mae',\n",
    "              optimizer = Adam(learning_rate = 0.001), \n",
    "              metrics = ['mse'])\n",
    "\n",
    "res = model.fit(train_ds, \n",
    "                validation_data = val_ds, \n",
    "                epochs = 50, \n",
    "                verbose = 0,\n",
    "                callbacks = [early_stop])\n",
    "\n",
    "print_last(res)"
   ]
  },
  {
   "cell_type": "code",
   "execution_count": 103,
   "metadata": {
    "colab": {
     "base_uri": "https://localhost:8080/"
    },
    "id": "F77ZwyugeYEV",
    "outputId": "53f68059-40e2-4501-8540-1cbba40d3c4c"
   },
   "outputs": [
    {
     "name": "stdout",
     "output_type": "stream",
     "text": [
      "Mean Absolute Error - Training: 0.1993\n",
      "Mean Absolute Error - Testing: 0.19424\n",
      "Root Mean Squared Error - Training: 0.63645\n",
      "Root Mean Squared Error - Testing: 0.57289\n"
     ]
    }
   ],
   "source": [
    "model = Sequential()\n",
    "\n",
    "model.add(SimpleRNN(32, input_shape = [None,1], return_sequences = True))\n",
    "model.add(SimpleRNN(32, input_shape = [None,1]))\n",
    "model.add(Dense(1, activation = 'linear'))\n",
    "\n",
    "model.compile(loss = 'mae',\n",
    "              optimizer = Adam(learning_rate = 0.001), \n",
    "              metrics = ['mse'])\n",
    "\n",
    "res = model.fit(train_ds, \n",
    "                validation_data = val_ds, \n",
    "                epochs = 50, \n",
    "                verbose = 0,\n",
    "                callbacks = [early_stop])\n",
    "\n",
    "print_last(res)"
   ]
  },
  {
   "cell_type": "markdown",
   "metadata": {
    "id": "rhojqWaE4b9N"
   },
   "source": [
    "---"
   ]
  },
  {
   "cell_type": "markdown",
   "metadata": {
    "id": "tWVa9FCV4VRr"
   },
   "source": [
    "Investigating 96 lengths (15min) at a time to look at 24-hour intervals  \n",
    "\n",
    "Examining the different types of models with various numbers of SimpleRNN layers, Dense layers, and nodes for each."
   ]
  },
  {
   "cell_type": "code",
   "execution_count": 104,
   "metadata": {
    "id": "u7APd6qUeukm"
   },
   "outputs": [],
   "source": [
    "seq_length = 96\n",
    "train_ds = timeseries_dataset_from_array(\n",
    "    y_train.to_numpy(),\n",
    "    targets = y_train[seq_length:],\n",
    "    sequence_length = seq_length,\n",
    "    batch_size = 672,\n",
    "    shuffle = True,\n",
    "    seed = 42\n",
    ")\n",
    "\n",
    "val_ds = timeseries_dataset_from_array(\n",
    "    y_test.to_numpy(),\n",
    "    targets = y_test[seq_length:],\n",
    "    sequence_length = seq_length,\n",
    "    batch_size = 672,\n",
    ")"
   ]
  },
  {
   "cell_type": "code",
   "execution_count": 105,
   "metadata": {
    "colab": {
     "base_uri": "https://localhost:8080/"
    },
    "id": "t6D2s8HZewSo",
    "outputId": "d87e9dd1-61d5-4e39-91d6-ace5a42a697d"
   },
   "outputs": [
    {
     "name": "stdout",
     "output_type": "stream",
     "text": [
      "Mean Absolute Error - Training: 0.20041\n",
      "Mean Absolute Error - Testing: 0.18551\n",
      "Root Mean Squared Error - Training: 0.64097\n",
      "Root Mean Squared Error - Testing: 0.58078\n"
     ]
    }
   ],
   "source": [
    "model = Sequential()\n",
    "\n",
    "model.add(SimpleRNN(32, input_shape = [None,1]))\n",
    "model.add(Dense(1, activation = 'linear'))\n",
    "\n",
    "model.compile(loss = 'mae',\n",
    "              optimizer = Adam(learning_rate = 0.001), \n",
    "              metrics = ['mse'])\n",
    "\n",
    "res = model.fit(train_ds, \n",
    "                validation_data = val_ds, \n",
    "                epochs = 50, \n",
    "                verbose = 0,\n",
    "                callbacks = [early_stop])\n",
    "\n",
    "print_last(res)"
   ]
  },
  {
   "cell_type": "code",
   "execution_count": 106,
   "metadata": {
    "colab": {
     "base_uri": "https://localhost:8080/"
    },
    "id": "PiypDqK5ewgP",
    "outputId": "874fe227-499b-4d96-ca56-8b61117f0bd1"
   },
   "outputs": [
    {
     "name": "stdout",
     "output_type": "stream",
     "text": [
      "Mean Absolute Error - Training: 0.20062\n",
      "Mean Absolute Error - Testing: 0.18666\n",
      "Root Mean Squared Error - Training: 0.64015\n",
      "Root Mean Squared Error - Testing: 0.58121\n"
     ]
    }
   ],
   "source": [
    "model = Sequential()\n",
    "\n",
    "model.add(SimpleRNN(32, input_shape = [None,1], return_sequences = True))\n",
    "model.add(SimpleRNN(32, input_shape = [None,1]))\n",
    "model.add(Dense(1, activation = 'linear'))\n",
    "\n",
    "model.compile(loss = 'mae',\n",
    "              optimizer = Adam(learning_rate = 0.001), \n",
    "              metrics = ['mse'])\n",
    "\n",
    "res = model.fit(train_ds, \n",
    "                validation_data = val_ds, \n",
    "                epochs = 50, \n",
    "                verbose = 0,\n",
    "                callbacks = [early_stop])\n",
    "\n",
    "print_last(res)"
   ]
  },
  {
   "cell_type": "code",
   "execution_count": 107,
   "metadata": {
    "colab": {
     "base_uri": "https://localhost:8080/"
    },
    "id": "frNnhdKce5OE",
    "outputId": "8369f321-a09d-4120-ba82-f8889861ae80"
   },
   "outputs": [
    {
     "name": "stdout",
     "output_type": "stream",
     "text": [
      "Mean Absolute Error - Training: 0.19532\n",
      "Mean Absolute Error - Testing: 0.19348\n",
      "Root Mean Squared Error - Training: 0.64109\n",
      "Root Mean Squared Error - Testing: 0.5844\n"
     ]
    }
   ],
   "source": [
    "model = Sequential()\n",
    "\n",
    "model.add(SimpleRNN(64, input_shape = [None,1]))\n",
    "model.add(Dense(1, activation = 'linear'))\n",
    "\n",
    "model.compile(loss = 'mae',\n",
    "              optimizer = Adam(learning_rate = 0.001), \n",
    "              metrics = ['mse'])\n",
    "\n",
    "res = model.fit(train_ds, \n",
    "                validation_data = val_ds, \n",
    "                epochs = 50, \n",
    "                verbose = 0,\n",
    "                callbacks = [early_stop])\n",
    "\n",
    "print_last(res)"
   ]
  },
  {
   "cell_type": "code",
   "execution_count": 108,
   "metadata": {
    "colab": {
     "base_uri": "https://localhost:8080/"
    },
    "id": "Kh89hXaABGfB",
    "outputId": "a1cb2cbe-3472-4739-a89a-1f3589bc77c9"
   },
   "outputs": [
    {
     "name": "stdout",
     "output_type": "stream",
     "text": [
      "Mean Absolute Error - Training: 0.19598\n",
      "Mean Absolute Error - Testing: 0.18363\n",
      "Root Mean Squared Error - Training: 0.64333\n",
      "Root Mean Squared Error - Testing: 0.58579\n"
     ]
    }
   ],
   "source": [
    "model = Sequential()\n",
    "\n",
    "model.add(SimpleRNN(96, input_shape = [None,1]))\n",
    "model.add(Dense(1, activation = 'linear'))\n",
    "\n",
    "model.compile(loss = 'mae',\n",
    "              optimizer = Adam(learning_rate = 0.001), \n",
    "              metrics = ['mse'])\n",
    "\n",
    "res = model.fit(train_ds, \n",
    "                validation_data = val_ds, \n",
    "                epochs = 50, \n",
    "                verbose = 0,\n",
    "                callbacks = [early_stop])\n",
    "\n",
    "print_last(res)"
   ]
  },
  {
   "cell_type": "markdown",
   "metadata": {
    "id": "3nXd9lWiTngc"
   },
   "source": [
    "# Tuning Optimizer of the Top Two Models\n",
    "### (with corresponding sequence lengths)\n"
   ]
  },
  {
   "cell_type": "code",
   "execution_count": 119,
   "metadata": {
    "id": "-KTvCs_8aWZT"
   },
   "outputs": [],
   "source": [
    "seq_length = 96\n",
    "train_ds = timeseries_dataset_from_array(\n",
    "    y_train.to_numpy(),\n",
    "    targets = y_train[seq_length:],\n",
    "    sequence_length = seq_length,\n",
    "    batch_size = 672,\n",
    "    shuffle = True,\n",
    "    seed = 42\n",
    ")\n",
    "\n",
    "val_ds = timeseries_dataset_from_array(\n",
    "    y_test.to_numpy(),\n",
    "    targets = y_test[seq_length:],\n",
    "    sequence_length = seq_length,\n",
    "    batch_size = 672,\n",
    ")"
   ]
  },
  {
   "cell_type": "code",
   "execution_count": 110,
   "metadata": {
    "colab": {
     "base_uri": "https://localhost:8080/"
    },
    "id": "_MGW_2neaFlT",
    "outputId": "9db7ecb6-911f-4a9d-d8f4-957bafe75646"
   },
   "outputs": [
    {
     "name": "stdout",
     "output_type": "stream",
     "text": [
      "Mean Absolute Error - Training: 0.19748\n",
      "Mean Absolute Error - Testing: 0.18931\n",
      "Root Mean Squared Error - Training: 0.64481\n",
      "Root Mean Squared Error - Testing: 0.58588\n"
     ]
    }
   ],
   "source": [
    "model = Sequential()\n",
    "\n",
    "model.add(SimpleRNN(96, input_shape = [None,1]))\n",
    "model.add(Dense(1, activation = 'linear'))\n",
    "\n",
    "model.compile(loss = 'mae',\n",
    "              optimizer = Adam(learning_rate = 0.0008), \n",
    "              metrics = ['mse'])\n",
    "\n",
    "res = model.fit(train_ds, \n",
    "                validation_data = val_ds, \n",
    "                epochs = 50, \n",
    "                verbose = 0,\n",
    "                callbacks = [early_stop])\n",
    "\n",
    "print_last(res)"
   ]
  },
  {
   "cell_type": "code",
   "execution_count": 111,
   "metadata": {
    "colab": {
     "base_uri": "https://localhost:8080/"
    },
    "id": "KvaSsp_raKoi",
    "outputId": "d79dbe7e-7c5e-46ce-c301-7b34304663bd"
   },
   "outputs": [
    {
     "name": "stdout",
     "output_type": "stream",
     "text": [
      "Mean Absolute Error - Training: 0.20201\n",
      "Mean Absolute Error - Testing: 0.19343\n",
      "Root Mean Squared Error - Training: 0.64533\n",
      "Root Mean Squared Error - Testing: 0.58699\n"
     ]
    }
   ],
   "source": [
    "model = Sequential()\n",
    "\n",
    "model.add(SimpleRNN(96, input_shape = [None,1]))\n",
    "model.add(Dense(1, activation = 'linear'))\n",
    "\n",
    "model.compile(loss = 'mae',\n",
    "              optimizer = Adam(learning_rate = 0.001), \n",
    "              metrics = ['mse'])\n",
    "\n",
    "res = model.fit(train_ds, \n",
    "                validation_data = val_ds, \n",
    "                epochs = 50, \n",
    "                verbose = 0,\n",
    "                callbacks = [early_stop])\n",
    "\n",
    "print_last(res)"
   ]
  },
  {
   "cell_type": "code",
   "execution_count": 112,
   "metadata": {
    "colab": {
     "base_uri": "https://localhost:8080/"
    },
    "id": "ztMulmIcaZXO",
    "outputId": "b6d9c36d-05a8-40fe-d9fa-923c0b44b01e"
   },
   "outputs": [
    {
     "name": "stdout",
     "output_type": "stream",
     "text": [
      "Mean Absolute Error - Training: 0.19604\n",
      "Mean Absolute Error - Testing: 0.20313\n",
      "Root Mean Squared Error - Training: 0.64105\n",
      "Root Mean Squared Error - Testing: 0.58618\n"
     ]
    }
   ],
   "source": [
    "model = Sequential()\n",
    "\n",
    "model.add(SimpleRNN(96, input_shape = [None,1]))\n",
    "model.add(Dense(1, activation = 'linear'))\n",
    "\n",
    "model.compile(loss = 'mae',\n",
    "              optimizer = Adam(learning_rate = 0.0015), \n",
    "              metrics = ['mse'])\n",
    "\n",
    "res = model.fit(train_ds, \n",
    "                validation_data = val_ds, \n",
    "                epochs = 50, \n",
    "                verbose = 0,\n",
    "                callbacks = [early_stop])\n",
    "\n",
    "print_last(res)"
   ]
  },
  {
   "cell_type": "code",
   "execution_count": 113,
   "metadata": {
    "colab": {
     "base_uri": "https://localhost:8080/"
    },
    "id": "YLsHJCLTaZUZ",
    "outputId": "4dbabbf3-4ebd-4114-ad87-06519f68059f"
   },
   "outputs": [
    {
     "name": "stdout",
     "output_type": "stream",
     "text": [
      "Mean Absolute Error - Training: 0.19904\n",
      "Mean Absolute Error - Testing: 0.18806\n",
      "Root Mean Squared Error - Training: 0.64129\n",
      "Root Mean Squared Error - Testing: 0.5882\n"
     ]
    }
   ],
   "source": [
    "model = Sequential()\n",
    "\n",
    "model.add(SimpleRNN(96, input_shape = [None,1]))\n",
    "model.add(Dense(1, activation = 'linear'))\n",
    "\n",
    "model.compile(loss = 'mae',\n",
    "              optimizer = Adam(learning_rate = 0.002), \n",
    "              metrics = ['mse'])\n",
    "\n",
    "res = model.fit(train_ds, \n",
    "                validation_data = val_ds, \n",
    "                epochs = 50, \n",
    "                verbose = 0,\n",
    "                callbacks = [early_stop])\n",
    "\n",
    "print_last(res)"
   ]
  },
  {
   "cell_type": "code",
   "execution_count": 120,
   "metadata": {
    "colab": {
     "base_uri": "https://localhost:8080/"
    },
    "id": "8meE-05njA0e",
    "outputId": "708a9e1d-de99-4889-87c0-2480203e7297"
   },
   "outputs": [
    {
     "name": "stdout",
     "output_type": "stream",
     "text": [
      "Mean Absolute Error - Training: 0.19681\n",
      "Mean Absolute Error - Testing: 0.18769\n",
      "Root Mean Squared Error - Training: 0.64021\n",
      "Root Mean Squared Error - Testing: 0.58013\n"
     ]
    }
   ],
   "source": [
    "model = Sequential()\n",
    "\n",
    "model.add(SimpleRNN(96, input_shape = [None,1]))\n",
    "model.add(Dense(1, activation = 'linear'))\n",
    "\n",
    "model.compile(loss = 'mae',\n",
    "              optimizer = Adam(learning_rate = 0.0025), \n",
    "              metrics = ['mse'])\n",
    "\n",
    "res = model.fit(train_ds, \n",
    "                validation_data = val_ds, \n",
    "                epochs = 50, \n",
    "                verbose = 0,\n",
    "                callbacks = [early_stop])\n",
    "\n",
    "print_last(res)"
   ]
  },
  {
   "cell_type": "markdown",
   "metadata": {
    "id": "w-YNN5gfIAAt"
   },
   "source": [
    "---\n",
    "---\n",
    "---"
   ]
  },
  {
   "cell_type": "code",
   "execution_count": 114,
   "metadata": {
    "id": "MglGYXSna0Hi"
   },
   "outputs": [],
   "source": [
    "seq_length = 16\n",
    "train_ds = timeseries_dataset_from_array(\n",
    "    y_train.to_numpy(),\n",
    "    targets = y_train[seq_length:],\n",
    "    sequence_length = seq_length,\n",
    "    batch_size = 96,\n",
    "    shuffle = True,\n",
    "    seed = 42\n",
    ")\n",
    "\n",
    "val_ds = timeseries_dataset_from_array(\n",
    "    y_test.to_numpy(),\n",
    "    targets = y_test[seq_length:],\n",
    "    sequence_length = seq_length,\n",
    "    batch_size = 96,\n",
    ")"
   ]
  },
  {
   "cell_type": "code",
   "execution_count": 115,
   "metadata": {
    "colab": {
     "base_uri": "https://localhost:8080/"
    },
    "id": "tF6aOM7oa0EG",
    "outputId": "d95b64e1-d9f8-4636-acc8-993972478d48"
   },
   "outputs": [
    {
     "name": "stdout",
     "output_type": "stream",
     "text": [
      "Mean Absolute Error - Training: 0.2003\n",
      "Mean Absolute Error - Testing: 0.18711\n",
      "Root Mean Squared Error - Training: 0.64188\n",
      "Root Mean Squared Error - Testing: 0.57652\n"
     ]
    }
   ],
   "source": [
    "model = Sequential()\n",
    "\n",
    "model.add(SimpleRNN(32, input_shape = [None,1], return_sequences = True))\n",
    "model.add(SimpleRNN(32, input_shape = [None,1]))\n",
    "model.add(Dense(1, activation = 'linear'))\n",
    "\n",
    "model.compile(loss = 'mae',\n",
    "              optimizer = Adam(learning_rate = 0.0008), \n",
    "              metrics = ['mse'])\n",
    "\n",
    "res = model.fit(train_ds, \n",
    "                validation_data = val_ds, \n",
    "                epochs = 50, \n",
    "                verbose = 0,\n",
    "                callbacks = [early_stop])\n",
    "\n",
    "print_last(res)"
   ]
  },
  {
   "cell_type": "code",
   "execution_count": 116,
   "metadata": {
    "colab": {
     "base_uri": "https://localhost:8080/"
    },
    "id": "pBd7HXrma2lD",
    "outputId": "423b11f7-8c37-4bf0-8ea6-05c6dceba28d"
   },
   "outputs": [
    {
     "name": "stdout",
     "output_type": "stream",
     "text": [
      "Mean Absolute Error - Training: 0.20041\n",
      "Mean Absolute Error - Testing: 0.18713\n",
      "Root Mean Squared Error - Training: 0.63707\n",
      "Root Mean Squared Error - Testing: 0.57442\n"
     ]
    }
   ],
   "source": [
    "model = Sequential()\n",
    "\n",
    "model.add(SimpleRNN(32, input_shape = [None,1], return_sequences = True))\n",
    "model.add(SimpleRNN(32, input_shape = [None,1]))\n",
    "model.add(Dense(1, activation = 'linear'))\n",
    "\n",
    "model.compile(loss = 'mae',\n",
    "              optimizer = Adam(learning_rate = 0.001), \n",
    "              metrics = ['mse'])\n",
    "\n",
    "res = model.fit(train_ds, \n",
    "                validation_data = val_ds, \n",
    "                epochs = 50, \n",
    "                verbose = 0,\n",
    "                callbacks = [early_stop])\n",
    "\n",
    "print_last(res)"
   ]
  },
  {
   "cell_type": "code",
   "execution_count": 117,
   "metadata": {
    "colab": {
     "base_uri": "https://localhost:8080/"
    },
    "id": "1yXZ0aMLa0BL",
    "outputId": "48685a84-7e23-4fce-ab00-a81063a04963"
   },
   "outputs": [
    {
     "name": "stdout",
     "output_type": "stream",
     "text": [
      "Mean Absolute Error - Training: 0.20164\n",
      "Mean Absolute Error - Testing: 0.19037\n",
      "Root Mean Squared Error - Training: 0.64363\n",
      "Root Mean Squared Error - Testing: 0.58374\n"
     ]
    }
   ],
   "source": [
    "model = Sequential()\n",
    "\n",
    "model.add(SimpleRNN(32, input_shape = [None,1], return_sequences = True))\n",
    "model.add(SimpleRNN(32, input_shape = [None,1]))\n",
    "model.add(Dense(1, activation = 'linear'))\n",
    "\n",
    "model.compile(loss = 'mae',\n",
    "              optimizer = Adam(learning_rate = 0.0015), \n",
    "              metrics = ['mse'])\n",
    "\n",
    "res = model.fit(train_ds, \n",
    "                validation_data = val_ds, \n",
    "                epochs = 50, \n",
    "                verbose = 0,\n",
    "                callbacks = [early_stop])\n",
    "\n",
    "print_last(res)"
   ]
  },
  {
   "cell_type": "code",
   "execution_count": 118,
   "metadata": {
    "colab": {
     "base_uri": "https://localhost:8080/"
    },
    "id": "FXEncCy0az9_",
    "outputId": "c37d4113-d231-4635-9d0f-45b19d42d3e8"
   },
   "outputs": [
    {
     "name": "stdout",
     "output_type": "stream",
     "text": [
      "Mean Absolute Error - Training: 0.20048\n",
      "Mean Absolute Error - Testing: 0.19652\n",
      "Root Mean Squared Error - Training: 0.63161\n",
      "Root Mean Squared Error - Testing: 0.57564\n"
     ]
    }
   ],
   "source": [
    "model = Sequential()\n",
    "\n",
    "model.add(SimpleRNN(32, input_shape = [None,1], return_sequences = True))\n",
    "model.add(SimpleRNN(32, input_shape = [None,1]))\n",
    "model.add(Dense(1, activation = 'linear'))\n",
    "\n",
    "model.compile(loss = 'mae',\n",
    "              optimizer = Adam(learning_rate = 0.002), \n",
    "              metrics = ['mse'])\n",
    "\n",
    "res = model.fit(train_ds, \n",
    "                validation_data = val_ds, \n",
    "                epochs = 50, \n",
    "                verbose = 0,\n",
    "                callbacks = [early_stop])\n",
    "\n",
    "print_last(res)"
   ]
  },
  {
   "cell_type": "markdown",
   "metadata": {
    "id": "WmjFahALkfIx"
   },
   "source": [
    "The BEST model for Mean Absolute Error is two SimpleRNNs with 32 nodes each, adam optimizer with 0.0008 learning rate, and with 15-min intervals of 16 (4 hours)\n",
    "\n",
    "Best MAE - 0.1871"
   ]
  },
  {
   "cell_type": "markdown",
   "metadata": {
    "id": "ujA6aND3TM_0"
   },
   "source": [
    "---\n",
    "# Hourly Modeling\n",
    "---"
   ]
  },
  {
   "cell_type": "code",
   "execution_count": 16,
   "metadata": {
    "id": "YZ6XQUABTaiw"
   },
   "outputs": [],
   "source": [
    "hourly = df.resample('H').mean()\n",
    "hourly = hourly.interpolate(method = 'pad')"
   ]
  },
  {
   "cell_type": "code",
   "execution_count": 17,
   "metadata": {
    "id": "lGfP9sEwTMgx"
   },
   "outputs": [],
   "source": [
    "y_train, y_test = train_test_split(hourly, shuffle = False, test_size = 0.15)"
   ]
  },
  {
   "cell_type": "markdown",
   "metadata": {
    "id": "PsGdxEen4zTX"
   },
   "source": [
    "Investigating at 13-hour intervals"
   ]
  },
  {
   "cell_type": "code",
   "execution_count": 18,
   "metadata": {
    "id": "cvOqpKTETMXo"
   },
   "outputs": [],
   "source": [
    "seq_length = 13\n",
    "train_ds = timeseries_dataset_from_array(\n",
    "    y_train.to_numpy(),\n",
    "    targets = y_train[seq_length:],\n",
    "    sequence_length = seq_length,\n",
    "    batch_size = 48,\n",
    "    shuffle = True,\n",
    "    seed = 42\n",
    ")\n",
    "\n",
    "val_ds = timeseries_dataset_from_array(\n",
    "    y_test.to_numpy(),\n",
    "    targets = y_test[seq_length:],\n",
    "    sequence_length = seq_length,\n",
    "    batch_size = 48,\n",
    ")"
   ]
  },
  {
   "cell_type": "code",
   "execution_count": 19,
   "metadata": {
    "colab": {
     "base_uri": "https://localhost:8080/"
    },
    "id": "62ZFWK3UTMVe",
    "outputId": "d82df80e-3fe0-4614-92ea-65576110a4a5"
   },
   "outputs": [
    {
     "name": "stdout",
     "output_type": "stream",
     "text": [
      "Mean Absolute Error - Training: 1.09033\n",
      "Mean Absolute Error - Testing: 1.40736\n",
      "Root Mean Squared Error - Training: 2.00456\n",
      "Root Mean Squared Error - Testing: 2.40214\n"
     ]
    }
   ],
   "source": [
    "model = Sequential()\n",
    "model.add(SimpleRNN(1, input_shape = [None,1]))\n",
    "model.add(Dense(1, activation = 'linear'))\n",
    "\n",
    "model.compile(loss = 'mae',\n",
    "              optimizer = Adam(learning_rate = 0.001), \n",
    "              metrics = ['mse'])\n",
    "\n",
    "res = model.fit(train_ds, \n",
    "                validation_data = val_ds, \n",
    "                epochs = 50, \n",
    "                verbose = 0)\n",
    "\n",
    "print_last(res)"
   ]
  },
  {
   "cell_type": "code",
   "execution_count": 20,
   "metadata": {
    "colab": {
     "base_uri": "https://localhost:8080/"
    },
    "id": "ImbVJYVCTMRK",
    "outputId": "f2ed9a32-6575-4614-c819-a0b3511a59f8"
   },
   "outputs": [
    {
     "name": "stdout",
     "output_type": "stream",
     "text": [
      "Mean Absolute Error - Training: 0.25123\n",
      "Mean Absolute Error - Testing: 0.27612\n",
      "Root Mean Squared Error - Training: 0.60023\n",
      "Root Mean Squared Error - Testing: 0.60838\n"
     ]
    }
   ],
   "source": [
    "model = Sequential()\n",
    "\n",
    "model.add(SimpleRNN(48, input_shape = [None,1]))\n",
    "model.add(Dense(1, activation = 'linear'))\n",
    "\n",
    "model.compile(loss = 'mae',\n",
    "              optimizer = Adam(learning_rate = 0.001), \n",
    "              metrics = ['mse'])\n",
    "\n",
    "res = model.fit(train_ds, \n",
    "                validation_data = val_ds, \n",
    "                epochs = 50, \n",
    "                verbose = 0,\n",
    "                callbacks = [early_stop])\n",
    "\n",
    "print_last(res)"
   ]
  },
  {
   "cell_type": "code",
   "execution_count": 21,
   "metadata": {
    "colab": {
     "base_uri": "https://localhost:8080/"
    },
    "id": "IkKOIMdmTMKh",
    "outputId": "f790906c-fb1e-4f5b-d27c-02b21f67fa0d"
   },
   "outputs": [
    {
     "name": "stdout",
     "output_type": "stream",
     "text": [
      "Mean Absolute Error - Training: 0.25297\n",
      "Mean Absolute Error - Testing: 0.26065\n",
      "Root Mean Squared Error - Training: 0.59523\n",
      "Root Mean Squared Error - Testing: 0.59247\n"
     ]
    }
   ],
   "source": [
    "model = Sequential()\n",
    "\n",
    "model.add(SimpleRNN(48, input_shape = [None,1], return_sequences = True))\n",
    "model.add(SimpleRNN(48, input_shape = [None,1]))\n",
    "model.add(Dense(1, activation = 'linear'))\n",
    "\n",
    "model.compile(loss = 'mae',\n",
    "              optimizer = Adam(learning_rate = 0.001), \n",
    "              metrics = ['mse'])\n",
    "\n",
    "res = model.fit(train_ds, \n",
    "                validation_data = val_ds, \n",
    "                epochs = 50, \n",
    "                verbose = 0,\n",
    "                callbacks = [early_stop])\n",
    "\n",
    "print_last(res)"
   ]
  },
  {
   "cell_type": "markdown",
   "metadata": {
    "id": "vbXE7hJ1iKbj"
   },
   "source": [
    "Investigating 24-hour intervals"
   ]
  },
  {
   "cell_type": "code",
   "execution_count": 22,
   "metadata": {
    "id": "nDoSonnSTMCQ"
   },
   "outputs": [],
   "source": [
    "seq_length = 24\n",
    "train_ds = timeseries_dataset_from_array(\n",
    "    y_train.to_numpy(),\n",
    "    targets = y_train[seq_length:],\n",
    "    sequence_length = seq_length,\n",
    "    batch_size = 48,\n",
    "    shuffle = True,\n",
    "    seed = 42\n",
    ")\n",
    "\n",
    "val_ds = timeseries_dataset_from_array(\n",
    "    y_test.to_numpy(),\n",
    "    targets = y_test[seq_length:],\n",
    "    sequence_length = seq_length,\n",
    "    batch_size = 48,\n",
    ")"
   ]
  },
  {
   "cell_type": "code",
   "execution_count": 23,
   "metadata": {
    "colab": {
     "base_uri": "https://localhost:8080/"
    },
    "id": "l3JHGAENTL_y",
    "outputId": "da940d7d-f3ec-4119-8ecd-92f4042c7e4d"
   },
   "outputs": [
    {
     "name": "stdout",
     "output_type": "stream",
     "text": [
      "Mean Absolute Error - Training: 0.2373\n",
      "Mean Absolute Error - Testing: 0.23883\n",
      "Root Mean Squared Error - Training: 0.58628\n",
      "Root Mean Squared Error - Testing: 0.56281\n"
     ]
    }
   ],
   "source": [
    "model = Sequential()\n",
    "\n",
    "model.add(SimpleRNN(48, input_shape = [None,1]))\n",
    "model.add(Dense(1, activation = 'linear'))\n",
    "\n",
    "model.compile(loss = 'mae',\n",
    "              optimizer = Adam(learning_rate = 0.001), \n",
    "              metrics = ['mse'])\n",
    "\n",
    "res = model.fit(train_ds, \n",
    "                validation_data = val_ds, \n",
    "                epochs = 50, \n",
    "                verbose = 0,\n",
    "                callbacks = [early_stop])\n",
    "\n",
    "print_last(res)"
   ]
  },
  {
   "cell_type": "code",
   "execution_count": 24,
   "metadata": {
    "colab": {
     "base_uri": "https://localhost:8080/"
    },
    "id": "UhZO4J2eTL9H",
    "outputId": "d3519cdf-94c1-49cf-eef0-61988a6622db"
   },
   "outputs": [
    {
     "name": "stdout",
     "output_type": "stream",
     "text": [
      "Mean Absolute Error - Training: 0.23527\n",
      "Mean Absolute Error - Testing: 0.23566\n",
      "Root Mean Squared Error - Training: 0.57025\n",
      "Root Mean Squared Error - Testing: 0.55458\n"
     ]
    }
   ],
   "source": [
    "model = Sequential()\n",
    "\n",
    "model.add(SimpleRNN(48, input_shape = [None,1], return_sequences = True))\n",
    "model.add(SimpleRNN(48, input_shape = [None,1]))\n",
    "model.add(Dense(1, activation = 'linear'))\n",
    "\n",
    "model.compile(loss = 'mae',\n",
    "              optimizer = Adam(learning_rate = 0.001), \n",
    "              metrics = ['mse'])\n",
    "\n",
    "res = model.fit(train_ds, \n",
    "                validation_data = val_ds, \n",
    "                epochs = 50, \n",
    "                verbose = 0,\n",
    "                callbacks = [early_stop])\n",
    "\n",
    "print_last(res)"
   ]
  },
  {
   "cell_type": "code",
   "execution_count": 25,
   "metadata": {
    "colab": {
     "base_uri": "https://localhost:8080/"
    },
    "id": "GIFEKEdn5gVn",
    "outputId": "f8834626-5e2c-42e7-d3f6-64b521f81d66"
   },
   "outputs": [
    {
     "name": "stdout",
     "output_type": "stream",
     "text": [
      "Mean Absolute Error - Training: 0.23691\n",
      "Mean Absolute Error - Testing: 0.23858\n",
      "Root Mean Squared Error - Training: 0.57434\n",
      "Root Mean Squared Error - Testing: 0.54871\n"
     ]
    }
   ],
   "source": [
    "model = Sequential()\n",
    "\n",
    "model.add(SimpleRNN(72, input_shape = [None,1]))\n",
    "model.add(Dense(1, activation = 'linear'))\n",
    "\n",
    "model.compile(loss = 'mae',\n",
    "              optimizer = Adam(learning_rate = 0.001), \n",
    "              metrics = ['mse'])\n",
    "\n",
    "res = model.fit(train_ds, \n",
    "                validation_data = val_ds, \n",
    "                epochs = 50, \n",
    "                verbose = 0,\n",
    "                callbacks = [early_stop])\n",
    "\n",
    "print_last(res)"
   ]
  },
  {
   "cell_type": "code",
   "execution_count": 26,
   "metadata": {
    "colab": {
     "base_uri": "https://localhost:8080/"
    },
    "id": "Z2yS-u3W5hyf",
    "outputId": "ab44a387-efe9-4dc8-def9-ed5eea3fa971"
   },
   "outputs": [
    {
     "name": "stdout",
     "output_type": "stream",
     "text": [
      "Mean Absolute Error - Training: 0.22803\n",
      "Mean Absolute Error - Testing: 0.23764\n",
      "Root Mean Squared Error - Training: 0.5555\n",
      "Root Mean Squared Error - Testing: 0.55176\n"
     ]
    }
   ],
   "source": [
    "model = Sequential()\n",
    "\n",
    "model.add(SimpleRNN(72, input_shape = [None,1], return_sequences = True))\n",
    "model.add(SimpleRNN(48, input_shape = [None,1]))\n",
    "model.add(Dense(1, activation = 'linear'))\n",
    "\n",
    "model.compile(loss = 'mae',\n",
    "              optimizer = Adam(learning_rate = 0.001), \n",
    "              metrics = ['mse'])\n",
    "\n",
    "res = model.fit(train_ds, \n",
    "                validation_data = val_ds, \n",
    "                epochs = 50, \n",
    "                verbose = 0,\n",
    "                callbacks = [early_stop])\n",
    "\n",
    "print_last(res)"
   ]
  },
  {
   "cell_type": "code",
   "execution_count": 27,
   "metadata": {
    "colab": {
     "base_uri": "https://localhost:8080/"
    },
    "id": "WQ_CL1q15nDJ",
    "outputId": "e1f5f4de-2496-457e-9b02-ad27fb0bc7e9"
   },
   "outputs": [
    {
     "name": "stdout",
     "output_type": "stream",
     "text": [
      "Mean Absolute Error - Training: 0.24563\n",
      "Mean Absolute Error - Testing: 0.25973\n",
      "Root Mean Squared Error - Training: 0.58067\n",
      "Root Mean Squared Error - Testing: 0.57408\n"
     ]
    }
   ],
   "source": [
    "model = Sequential()\n",
    "\n",
    "model.add(SimpleRNN(48, input_shape = [None,1], return_sequences = True))\n",
    "model.add(SimpleRNN(72, input_shape = [None,1]))\n",
    "model.add(Dense(1, activation = 'linear'))\n",
    "\n",
    "model.compile(loss = 'mae',\n",
    "              optimizer = Adam(learning_rate = 0.001), \n",
    "              metrics = ['mse'])\n",
    "\n",
    "res = model.fit(train_ds, \n",
    "                validation_data = val_ds, \n",
    "                epochs = 50, \n",
    "                verbose = 0,\n",
    "                callbacks = [early_stop])\n",
    "\n",
    "print_last(res)"
   ]
  },
  {
   "cell_type": "markdown",
   "metadata": {
    "id": "TWa-AoHwe6Z7"
   },
   "source": [
    "---\n",
    "# Daily Modeling\n",
    "---"
   ]
  },
  {
   "cell_type": "code",
   "execution_count": 48,
   "metadata": {
    "id": "ZvqK_fbLTL5C"
   },
   "outputs": [],
   "source": [
    "daily = df.resample('D').max().ffill()"
   ]
  },
  {
   "cell_type": "code",
   "execution_count": 49,
   "metadata": {
    "id": "cpXAD3EVTL2l"
   },
   "outputs": [],
   "source": [
    "y_train, y_test = train_test_split(daily, shuffle = False, test_size = 0.15)"
   ]
  },
  {
   "cell_type": "markdown",
   "metadata": {
    "id": "5wQFGONoiSSA"
   },
   "source": [
    "Investigating 1-week intervals"
   ]
  },
  {
   "cell_type": "code",
   "execution_count": 50,
   "metadata": {
    "id": "lgZPEcmeTLxo"
   },
   "outputs": [],
   "source": [
    "seq_length = 7\n",
    "train_ds = timeseries_dataset_from_array(\n",
    "    y_train.to_numpy(),\n",
    "    targets = y_train[seq_length:],\n",
    "    sequence_length = seq_length,\n",
    "    batch_size = 28,\n",
    "    shuffle = True,\n",
    "    seed = 42\n",
    ")\n",
    "\n",
    "val_ds = timeseries_dataset_from_array(\n",
    "    y_test.to_numpy(),\n",
    "    targets = y_test[seq_length:],\n",
    "    sequence_length = seq_length,\n",
    "    batch_size = 28,\n",
    ")"
   ]
  },
  {
   "cell_type": "code",
   "execution_count": 51,
   "metadata": {
    "colab": {
     "base_uri": "https://localhost:8080/"
    },
    "id": "Uc7twTJKTLvE",
    "outputId": "b00529bc-e42c-43fa-940c-4da764c2a320"
   },
   "outputs": [
    {
     "name": "stdout",
     "output_type": "stream",
     "text": [
      "Mean Absolute Error - Training: 2.63027\n",
      "Mean Absolute Error - Testing: 3.08085\n",
      "Root Mean Squared Error - Training: 2.85879\n",
      "Root Mean Squared Error - Testing: 3.16829\n"
     ]
    }
   ],
   "source": [
    "model = Sequential()\n",
    "\n",
    "model.add(SimpleRNN(1, input_shape = [None,1]))\n",
    "model.add(Dense(1, activation = 'linear'))\n",
    "\n",
    "model.compile(loss = 'mae',\n",
    "              optimizer = Adam(learning_rate = 0.001), \n",
    "              metrics = ['mse'])\n",
    "\n",
    "res = model.fit(train_ds, \n",
    "                validation_data = val_ds, \n",
    "                epochs = 50, \n",
    "                verbose = 0,\n",
    "                callbacks = [early_stop])\n",
    "\n",
    "print_last(res)"
   ]
  },
  {
   "cell_type": "code",
   "execution_count": 52,
   "metadata": {
    "colab": {
     "base_uri": "https://localhost:8080/"
    },
    "id": "y9YV5qgsfwaT",
    "outputId": "6e67ed9c-bc92-404d-b243-166e0f831bd8"
   },
   "outputs": [
    {
     "name": "stdout",
     "output_type": "stream",
     "text": [
      "Mean Absolute Error - Training: 0.61969\n",
      "Mean Absolute Error - Testing: 0.45712\n",
      "Root Mean Squared Error - Training: 1.06081\n",
      "Root Mean Squared Error - Testing: 0.89066\n"
     ]
    }
   ],
   "source": [
    "model = Sequential()\n",
    "\n",
    "model.add(SimpleRNN(7, input_shape = [None,1]))\n",
    "model.add(Dense(1, activation = 'linear'))\n",
    "\n",
    "model.compile(loss = 'mae',\n",
    "              optimizer = Adam(learning_rate = 0.001), \n",
    "              metrics = ['mse'])\n",
    "\n",
    "res = model.fit(train_ds, \n",
    "                validation_data = val_ds, \n",
    "                epochs = 50, \n",
    "                verbose = 0,\n",
    "                callbacks = [early_stop])\n",
    "\n",
    "print_last(res)"
   ]
  },
  {
   "cell_type": "code",
   "execution_count": 53,
   "metadata": {
    "colab": {
     "base_uri": "https://localhost:8080/"
    },
    "id": "z6p76hBZf4Z8",
    "outputId": "0cc70804-c264-4dcb-98c4-39274adf90c2"
   },
   "outputs": [
    {
     "name": "stdout",
     "output_type": "stream",
     "text": [
      "Mean Absolute Error - Training: 0.63252\n",
      "Mean Absolute Error - Testing: 0.48603\n",
      "Root Mean Squared Error - Training: 1.06603\n",
      "Root Mean Squared Error - Testing: 0.9151\n"
     ]
    }
   ],
   "source": [
    "model = Sequential()\n",
    "\n",
    "model.add(SimpleRNN(12, input_shape = [None,1]))\n",
    "model.add(Dense(1, activation = 'linear'))\n",
    "\n",
    "model.compile(loss = 'mae',\n",
    "              optimizer = Adam(learning_rate = 0.001), \n",
    "              metrics = ['mse'])\n",
    "\n",
    "res = model.fit(train_ds, \n",
    "                validation_data = val_ds, \n",
    "                epochs = 50, \n",
    "                verbose = 0,\n",
    "                callbacks = [early_stop])\n",
    "\n",
    "print_last(res)"
   ]
  },
  {
   "cell_type": "code",
   "execution_count": 54,
   "metadata": {
    "colab": {
     "base_uri": "https://localhost:8080/"
    },
    "id": "0PLxBjFWf-tU",
    "outputId": "4ff990c0-28a0-4407-df86-144b82d191a7"
   },
   "outputs": [
    {
     "name": "stdout",
     "output_type": "stream",
     "text": [
      "Mean Absolute Error - Training: 0.61306\n",
      "Mean Absolute Error - Testing: 0.46041\n",
      "Root Mean Squared Error - Training: 1.05342\n",
      "Root Mean Squared Error - Testing: 0.89714\n"
     ]
    }
   ],
   "source": [
    "model = Sequential()\n",
    "\n",
    "model.add(SimpleRNN(31, input_shape = [None,1]))\n",
    "model.add(Dense(1, activation = 'linear'))\n",
    "\n",
    "model.compile(loss = 'mae',\n",
    "              optimizer = Adam(learning_rate = 0.001), \n",
    "              metrics = ['mse'])\n",
    "\n",
    "res = model.fit(train_ds, \n",
    "                validation_data = val_ds, \n",
    "                epochs = 50, \n",
    "                verbose = 0,\n",
    "                callbacks = [early_stop])\n",
    "\n",
    "print_last(res)"
   ]
  },
  {
   "cell_type": "code",
   "execution_count": 55,
   "metadata": {
    "colab": {
     "base_uri": "https://localhost:8080/"
    },
    "id": "85YkZiZYgPX3",
    "outputId": "18ca0a97-1892-4e0b-d7ba-e15621615c0e"
   },
   "outputs": [
    {
     "name": "stdout",
     "output_type": "stream",
     "text": [
      "Mean Absolute Error - Training: 0.72348\n",
      "Mean Absolute Error - Testing: 0.47793\n",
      "Root Mean Squared Error - Training: 1.10367\n",
      "Root Mean Squared Error - Testing: 0.86883\n"
     ]
    }
   ],
   "source": [
    "model = Sequential()\n",
    "\n",
    "model.add(SimpleRNN(365, input_shape = [None,1]))\n",
    "model.add(Dense(1, activation = 'linear'))\n",
    "\n",
    "model.compile(loss = 'mae',\n",
    "              optimizer = Adam(learning_rate = 0.001), \n",
    "              metrics = ['mse'])\n",
    "\n",
    "res = model.fit(train_ds, \n",
    "                validation_data = val_ds, \n",
    "                epochs = 50, \n",
    "                verbose = 0,\n",
    "                callbacks = [early_stop])\n",
    "\n",
    "print_last(res)"
   ]
  },
  {
   "cell_type": "code",
   "execution_count": 56,
   "metadata": {
    "colab": {
     "base_uri": "https://localhost:8080/"
    },
    "id": "EEu26COfTLhO",
    "outputId": "a66a6ef3-f5c1-48e8-e920-eaee81222102"
   },
   "outputs": [
    {
     "name": "stdout",
     "output_type": "stream",
     "text": [
      "Mean Absolute Error - Training: 0.62544\n",
      "Mean Absolute Error - Testing: 0.47534\n",
      "Root Mean Squared Error - Training: 1.06193\n",
      "Root Mean Squared Error - Testing: 0.93186\n"
     ]
    }
   ],
   "source": [
    "model = Sequential()\n",
    "\n",
    "model.add(SimpleRNN(7, input_shape = [None,1], return_sequences = True))\n",
    "model.add(SimpleRNN(7, input_shape = [None,1]))\n",
    "model.add(Dense(1, activation = 'linear'))\n",
    "\n",
    "model.compile(loss = 'mae',\n",
    "              optimizer = Adam(learning_rate = 0.001), \n",
    "              metrics = ['mse'])\n",
    "\n",
    "res = model.fit(train_ds, \n",
    "                validation_data = val_ds, \n",
    "                epochs = 50, \n",
    "                verbose = 0,\n",
    "                callbacks = [early_stop])\n",
    "\n",
    "print_last(res)"
   ]
  },
  {
   "cell_type": "code",
   "execution_count": 57,
   "metadata": {
    "colab": {
     "base_uri": "https://localhost:8080/"
    },
    "id": "thpl3799fuWs",
    "outputId": "367675d7-8657-4320-b881-cfe534a26629"
   },
   "outputs": [
    {
     "name": "stdout",
     "output_type": "stream",
     "text": [
      "Mean Absolute Error - Training: 0.64554\n",
      "Mean Absolute Error - Testing: 0.45283\n",
      "Root Mean Squared Error - Training: 1.04567\n",
      "Root Mean Squared Error - Testing: 0.90361\n"
     ]
    }
   ],
   "source": [
    "model = Sequential()\n",
    "\n",
    "model.add(SimpleRNN(30, input_shape = [None,1], return_sequences = True))\n",
    "model.add(SimpleRNN(365, input_shape = [None,1]))\n",
    "model.add(Dense(1, activation = 'linear'))\n",
    "\n",
    "model.compile(loss = 'mae',\n",
    "              optimizer = Adam(learning_rate = 0.001), \n",
    "              metrics = ['mse'])\n",
    "\n",
    "res = model.fit(train_ds, \n",
    "                validation_data = val_ds, \n",
    "                epochs = 50, \n",
    "                verbose = 0,\n",
    "                callbacks = [early_stop])\n",
    "\n",
    "print_last(res)"
   ]
  },
  {
   "cell_type": "code",
   "execution_count": 58,
   "metadata": {
    "colab": {
     "base_uri": "https://localhost:8080/"
    },
    "id": "qEEu0j9uioIC",
    "outputId": "4bc4b5af-66b7-44a5-8024-492e28722003"
   },
   "outputs": [
    {
     "name": "stdout",
     "output_type": "stream",
     "text": [
      "Mean Absolute Error - Training: 0.64174\n",
      "Mean Absolute Error - Testing: 0.49721\n",
      "Root Mean Squared Error - Training: 1.05389\n",
      "Root Mean Squared Error - Testing: 0.97802\n"
     ]
    }
   ],
   "source": [
    "model = Sequential()\n",
    "\n",
    "model.add(SimpleRNN(30, input_shape = [None,1], return_sequences = True))\n",
    "model.add(SimpleRNN(90, input_shape = [None,1], return_sequences = True))\n",
    "model.add(SimpleRNN(365, input_shape = [None,1]))\n",
    "model.add(Dense(1, activation = 'linear'))\n",
    "\n",
    "model.compile(loss = 'mae',\n",
    "              optimizer = Adam(learning_rate = 0.001), \n",
    "              metrics = ['mse'])\n",
    "\n",
    "res = model.fit(train_ds, \n",
    "                validation_data = val_ds, \n",
    "                epochs = 50, \n",
    "                verbose = 0,\n",
    "                callbacks = [early_stop])\n",
    "\n",
    "print_last(res)"
   ]
  },
  {
   "cell_type": "code",
   "execution_count": 59,
   "metadata": {
    "colab": {
     "base_uri": "https://localhost:8080/"
    },
    "id": "_yt2igGX5ImR",
    "outputId": "6d291bf4-26d0-430c-e29a-45d0567f6d63"
   },
   "outputs": [
    {
     "name": "stdout",
     "output_type": "stream",
     "text": [
      "Mean Absolute Error - Training: 0.6237\n",
      "Mean Absolute Error - Testing: 0.50574\n",
      "Root Mean Squared Error - Training: 1.05238\n",
      "Root Mean Squared Error - Testing: 0.85971\n"
     ]
    }
   ],
   "source": [
    "model = Sequential()\n",
    "\n",
    "model.add(SimpleRNN(30, input_shape = [None,1], return_sequences = True))\n",
    "model.add(SimpleRNN(365, input_shape = [None,1], return_sequences = True))\n",
    "model.add(SimpleRNN(365, input_shape = [None,1]))\n",
    "model.add(Dense(1, activation = 'linear'))\n",
    "\n",
    "model.compile(loss = 'mae',\n",
    "              optimizer = Adam(learning_rate = 0.001), \n",
    "              metrics = ['mse'])\n",
    "\n",
    "res = model.fit(train_ds, \n",
    "                validation_data = val_ds, \n",
    "                epochs = 50, \n",
    "                verbose = 0,\n",
    "                callbacks = [early_stop])\n",
    "\n",
    "print_last(res)"
   ]
  },
  {
   "cell_type": "code",
   "execution_count": 60,
   "metadata": {
    "colab": {
     "base_uri": "https://localhost:8080/"
    },
    "id": "KVJhCPvK5UQI",
    "outputId": "003bd699-986b-4efb-dfb8-95ebf3090840"
   },
   "outputs": [
    {
     "name": "stdout",
     "output_type": "stream",
     "text": [
      "Mean Absolute Error - Training: 0.68168\n",
      "Mean Absolute Error - Testing: 0.44837\n",
      "Root Mean Squared Error - Training: 1.08119\n",
      "Root Mean Squared Error - Testing: 0.89723\n"
     ]
    }
   ],
   "source": [
    "model = Sequential()\n",
    "\n",
    "model.add(SimpleRNN(7, input_shape = [None,1], return_sequences = True))\n",
    "model.add(SimpleRNN(30, input_shape = [None,1], return_sequences = True))\n",
    "model.add(SimpleRNN(365, input_shape = [None,1]))\n",
    "model.add(Dense(1, activation = 'linear'))\n",
    "\n",
    "model.compile(loss = 'mae',\n",
    "              optimizer = Adam(learning_rate = 0.001), \n",
    "              metrics = ['mse'])\n",
    "\n",
    "res = model.fit(train_ds, \n",
    "                validation_data = val_ds, \n",
    "                epochs = 50, \n",
    "                verbose = 0,\n",
    "                callbacks = [early_stop])\n",
    "\n",
    "print_last(res)"
   ]
  },
  {
   "cell_type": "markdown",
   "metadata": {
    "id": "Fm87PmmYiXoo"
   },
   "source": [
    "Investigating 30-day intervals\n"
   ]
  },
  {
   "cell_type": "code",
   "execution_count": 61,
   "metadata": {
    "id": "t-dWEbDY5I5_"
   },
   "outputs": [],
   "source": [
    "seq_length = 30\n",
    "train_ds = timeseries_dataset_from_array(\n",
    "    y_train.to_numpy(),\n",
    "    targets = y_train[seq_length:],\n",
    "    sequence_length = seq_length,\n",
    "    batch_size = 90,\n",
    "    shuffle = True,\n",
    "    seed = 42\n",
    ")\n",
    "\n",
    "val_ds = timeseries_dataset_from_array(\n",
    "    y_test.to_numpy(),\n",
    "    targets = y_test[seq_length:],\n",
    "    sequence_length = seq_length,\n",
    "    batch_size = 90,\n",
    ")"
   ]
  },
  {
   "cell_type": "code",
   "execution_count": 62,
   "metadata": {
    "colab": {
     "base_uri": "https://localhost:8080/"
    },
    "id": "LfoIoJAY5K2P",
    "outputId": "b7ee73bb-6899-4e78-9151-44fbc87f70fc"
   },
   "outputs": [
    {
     "name": "stdout",
     "output_type": "stream",
     "text": [
      "Mean Absolute Error - Training: 0.65454\n",
      "Mean Absolute Error - Testing: 0.49901\n",
      "Root Mean Squared Error - Training: 1.06471\n",
      "Root Mean Squared Error - Testing: 0.9847\n"
     ]
    }
   ],
   "source": [
    "model = Sequential()\n",
    "\n",
    "model.add(SimpleRNN(30, input_shape = [None,1], return_sequences = True))\n",
    "model.add(SimpleRNN(365, input_shape = [None,1]))\n",
    "model.add(Dense(1, activation = 'linear'))\n",
    "\n",
    "model.compile(loss = 'mae',\n",
    "              optimizer = Adam(learning_rate = 0.001), \n",
    "              metrics = ['mse'])\n",
    "\n",
    "res = model.fit(train_ds, \n",
    "                validation_data = val_ds, \n",
    "                epochs = 50, \n",
    "                verbose = 0,\n",
    "                callbacks = [early_stop])\n",
    "\n",
    "print_last(res)"
   ]
  },
  {
   "cell_type": "code",
   "execution_count": 63,
   "metadata": {
    "colab": {
     "base_uri": "https://localhost:8080/"
    },
    "id": "3R0aCvFu7jkr",
    "outputId": "a9c2a433-81d1-4f3a-d41d-6f4e4e8d311d"
   },
   "outputs": [
    {
     "name": "stdout",
     "output_type": "stream",
     "text": [
      "Mean Absolute Error - Training: 0.63348\n",
      "Mean Absolute Error - Testing: 0.4699\n",
      "Root Mean Squared Error - Training: 1.05082\n",
      "Root Mean Squared Error - Testing: 0.9077\n"
     ]
    }
   ],
   "source": [
    "model = Sequential()\n",
    "\n",
    "model.add(SimpleRNN(30, input_shape = [None,1], return_sequences = True))\n",
    "model.add(SimpleRNN(90, input_shape = [None,1], return_sequences = True))\n",
    "model.add(SimpleRNN(365, input_shape = [None,1]))\n",
    "model.add(Dense(1, activation = 'linear'))\n",
    "\n",
    "model.compile(loss = 'mae',\n",
    "              optimizer = Adam(learning_rate = 0.001), \n",
    "              metrics = ['mse'])\n",
    "\n",
    "res = model.fit(train_ds, \n",
    "                validation_data = val_ds, \n",
    "                epochs = 50, \n",
    "                verbose = 0,\n",
    "                callbacks = [early_stop])\n",
    "\n",
    "print_last(res)"
   ]
  },
  {
   "cell_type": "markdown",
   "metadata": {
    "id": "qxBxgbxYieB6"
   },
   "source": [
    "Increasing the intervals didn't seem to help. So investigating smaller intervals (3-day)"
   ]
  },
  {
   "cell_type": "code",
   "execution_count": 64,
   "metadata": {
    "id": "KEksriiw9lE6"
   },
   "outputs": [],
   "source": [
    "seq_length = 3\n",
    "train_ds = timeseries_dataset_from_array(\n",
    "    y_train.to_numpy(),\n",
    "    targets = y_train[seq_length:],\n",
    "    sequence_length = seq_length,\n",
    "    batch_size = 21,\n",
    "    shuffle = True,\n",
    "    seed = 42\n",
    ")\n",
    "\n",
    "val_ds = timeseries_dataset_from_array(\n",
    "    y_test.to_numpy(),\n",
    "    targets = y_test[seq_length:],\n",
    "    sequence_length = seq_length,\n",
    "    batch_size = 21,\n",
    ")"
   ]
  },
  {
   "cell_type": "code",
   "execution_count": 65,
   "metadata": {
    "colab": {
     "base_uri": "https://localhost:8080/"
    },
    "id": "CC5m-EyC9m9x",
    "outputId": "062688c0-11af-440b-e4e0-c85abb591367"
   },
   "outputs": [
    {
     "name": "stdout",
     "output_type": "stream",
     "text": [
      "Mean Absolute Error - Training: 0.69263\n",
      "Mean Absolute Error - Testing: 0.45512\n",
      "Root Mean Squared Error - Training: 1.09823\n",
      "Root Mean Squared Error - Testing: 0.85814\n"
     ]
    }
   ],
   "source": [
    "model = Sequential()\n",
    "\n",
    "model.add(SimpleRNN(30, input_shape = [None,1], return_sequences = True))\n",
    "model.add(SimpleRNN(365, input_shape = [None,1]))\n",
    "model.add(Dense(1, activation = 'linear'))\n",
    "\n",
    "model.compile(loss = 'mae',\n",
    "              optimizer = Adam(learning_rate = 0.001), \n",
    "              metrics = ['mse'])\n",
    "\n",
    "res = model.fit(train_ds, \n",
    "                validation_data = val_ds, \n",
    "                epochs = 50, \n",
    "                verbose = 0,\n",
    "                callbacks = [early_stop])\n",
    "\n",
    "print_last(res)"
   ]
  },
  {
   "cell_type": "code",
   "execution_count": 66,
   "metadata": {
    "colab": {
     "base_uri": "https://localhost:8080/"
    },
    "id": "Bgdu4kz69pA9",
    "outputId": "87621deb-144f-4880-c9b1-3bcea2dc187b"
   },
   "outputs": [
    {
     "name": "stdout",
     "output_type": "stream",
     "text": [
      "Mean Absolute Error - Training: 0.86451\n",
      "Mean Absolute Error - Testing: 0.65837\n",
      "Root Mean Squared Error - Training: 1.19629\n",
      "Root Mean Squared Error - Testing: 0.9091\n"
     ]
    }
   ],
   "source": [
    "model = Sequential()\n",
    "\n",
    "model.add(SimpleRNN(30, input_shape = [None,1], return_sequences = True))\n",
    "model.add(SimpleRNN(365, input_shape = [None,1]))\n",
    "model.add(Dense(64, activation = 'relu'))\n",
    "model.add(Dropout(0.15))\n",
    "\n",
    "model.add(Dense(1, activation = 'linear'))\n",
    "\n",
    "model.compile(loss = 'mae',\n",
    "              optimizer = Adam(learning_rate = 0.001), \n",
    "              metrics = ['mse'])\n",
    "\n",
    "res = model.fit(train_ds, \n",
    "                validation_data = val_ds, \n",
    "                epochs = 50, \n",
    "                verbose = 0,\n",
    "                callbacks = [early_stop])\n",
    "\n",
    "print_last(res)"
   ]
  },
  {
   "cell_type": "code",
   "execution_count": 67,
   "metadata": {
    "colab": {
     "base_uri": "https://localhost:8080/"
    },
    "id": "S8a1Gotq9yFP",
    "outputId": "f22e6f7c-ca15-4fd4-bf8a-9ea53110563f"
   },
   "outputs": [
    {
     "name": "stdout",
     "output_type": "stream",
     "text": [
      "Mean Absolute Error - Training: 1.10241\n",
      "Mean Absolute Error - Testing: 1.55852\n",
      "Root Mean Squared Error - Training: 1.42781\n",
      "Root Mean Squared Error - Testing: 1.61258\n"
     ]
    }
   ],
   "source": [
    "model = Sequential()\n",
    "\n",
    "model.add(SimpleRNN(30, input_shape = [None,1], return_sequences = True))\n",
    "model.add(SimpleRNN(365, input_shape = [None,1]))\n",
    "model.add(Dense(32, activation = 'relu'))\n",
    "model.add(Dropout(0.15))\n",
    "model.add(Dense(32, activation = 'relu'))\n",
    "model.add(Dropout(0.15))\n",
    "model.add(Dense(1, activation = 'linear'))\n",
    "\n",
    "model.compile(loss = 'mae',\n",
    "              optimizer = Adam(learning_rate = 0.001), \n",
    "              metrics = ['mse'])\n",
    "\n",
    "res = model.fit(train_ds, \n",
    "                validation_data = val_ds, \n",
    "                epochs = 50, \n",
    "                verbose = 0,\n",
    "                callbacks = [early_stop])\n",
    "\n",
    "print_last(res)"
   ]
  }
 ],
 "metadata": {
  "accelerator": "GPU",
  "colab": {
   "provenance": []
  },
  "gpuClass": "standard",
  "kernelspec": {
   "display_name": "Python 3 (ipykernel)",
   "language": "python",
   "name": "python3"
  },
  "language_info": {
   "codemirror_mode": {
    "name": "ipython",
    "version": 3
   },
   "file_extension": ".py",
   "mimetype": "text/x-python",
   "name": "python",
   "nbconvert_exporter": "python",
   "pygments_lexer": "ipython3",
   "version": "3.9.13"
  }
 },
 "nbformat": 4,
 "nbformat_minor": 4
}
