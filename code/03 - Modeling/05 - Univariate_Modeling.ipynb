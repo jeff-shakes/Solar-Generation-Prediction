{
  "nbformat": 4,
  "nbformat_minor": 0,
  "metadata": {
    "colab": {
      "provenance": []
    },
    "kernelspec": {
      "name": "python3",
      "display_name": "Python 3"
    },
    "language_info": {
      "name": "python"
    },
    "accelerator": "GPU",
    "gpuClass": "standard"
  },
  "cells": [
    {
      "cell_type": "markdown",
      "source": [
        "# Univariate Modeling Using RNN\n",
        "\n",
        "#### (Meant to be run within Google Colab)"
      ],
      "metadata": {
        "id": "7Xgs0Ql62tqA"
      }
    },
    {
      "cell_type": "code",
      "execution_count": 1,
      "metadata": {
        "id": "yPc8ZaawFY_n"
      },
      "outputs": [],
      "source": [
        "import pandas as pd\n",
        "import numpy as np\n",
        "\n",
        "from sklearn.preprocessing import StandardScaler\n",
        "from sklearn.model_selection import train_test_split\n",
        "from sklearn.metrics import accuracy_score, mean_squared_error, mean_absolute_error\n",
        "\n",
        "from tensorflow.keras.models import Sequential\n",
        "from tensorflow.keras.layers import Dense, Dropout, LSTM, SimpleRNN\n",
        "from tensorflow.keras.optimizers import Adam\n",
        "from tensorflow.keras.preprocessing.sequence import TimeseriesGenerator\n",
        "from tensorflow.keras.utils import timeseries_dataset_from_array\n",
        "from tensorflow.keras.callbacks import EarlyStopping\n",
        "\n",
        "import matplotlib.pyplot as plt\n",
        "np.random.seed(42)"
      ]
    },
    {
      "cell_type": "code",
      "source": [
        "#mount drive\n",
        "from google.colab import drive\n",
        "drive.mount('/content/drive')"
      ],
      "metadata": {
        "colab": {
          "base_uri": "https://localhost:8080/"
        },
        "id": "jwH247IiFckc",
        "outputId": "e328fa4e-965d-473f-fdce-d34549ca6cd5"
      },
      "execution_count": null,
      "outputs": [
        {
          "output_type": "stream",
          "name": "stdout",
          "text": [
            "Mounted at /content/drive\n"
          ]
        }
      ]
    },
    {
      "cell_type": "code",
      "source": [
        "#import campus5\n",
        "from google.colab import files\n",
        "import io\n",
        "\n",
        "uploaded = files.upload()\n",
        "\n",
        "campus5 = io.BytesIO(uploaded['campus5.csv'])\n",
        "df = pd.read_csv(campus5)"
      ],
      "metadata": {
        "colab": {
          "base_uri": "https://localhost:8080/",
          "height": 74
        },
        "id": "ZCgDELDMFly-",
        "outputId": "0c22e81b-bd37-448d-bf9b-0932830eda42"
      },
      "execution_count": 3,
      "outputs": [
        {
          "output_type": "display_data",
          "data": {
            "text/plain": [
              "<IPython.core.display.HTML object>"
            ],
            "text/html": [
              "\n",
              "     <input type=\"file\" id=\"files-18306a44-97f3-4795-a4fe-9f78a5cc5858\" name=\"files[]\" multiple disabled\n",
              "        style=\"border:none\" />\n",
              "     <output id=\"result-18306a44-97f3-4795-a4fe-9f78a5cc5858\">\n",
              "      Upload widget is only available when the cell has been executed in the\n",
              "      current browser session. Please rerun this cell to enable.\n",
              "      </output>\n",
              "      <script>// Copyright 2017 Google LLC\n",
              "//\n",
              "// Licensed under the Apache License, Version 2.0 (the \"License\");\n",
              "// you may not use this file except in compliance with the License.\n",
              "// You may obtain a copy of the License at\n",
              "//\n",
              "//      http://www.apache.org/licenses/LICENSE-2.0\n",
              "//\n",
              "// Unless required by applicable law or agreed to in writing, software\n",
              "// distributed under the License is distributed on an \"AS IS\" BASIS,\n",
              "// WITHOUT WARRANTIES OR CONDITIONS OF ANY KIND, either express or implied.\n",
              "// See the License for the specific language governing permissions and\n",
              "// limitations under the License.\n",
              "\n",
              "/**\n",
              " * @fileoverview Helpers for google.colab Python module.\n",
              " */\n",
              "(function(scope) {\n",
              "function span(text, styleAttributes = {}) {\n",
              "  const element = document.createElement('span');\n",
              "  element.textContent = text;\n",
              "  for (const key of Object.keys(styleAttributes)) {\n",
              "    element.style[key] = styleAttributes[key];\n",
              "  }\n",
              "  return element;\n",
              "}\n",
              "\n",
              "// Max number of bytes which will be uploaded at a time.\n",
              "const MAX_PAYLOAD_SIZE = 100 * 1024;\n",
              "\n",
              "function _uploadFiles(inputId, outputId) {\n",
              "  const steps = uploadFilesStep(inputId, outputId);\n",
              "  const outputElement = document.getElementById(outputId);\n",
              "  // Cache steps on the outputElement to make it available for the next call\n",
              "  // to uploadFilesContinue from Python.\n",
              "  outputElement.steps = steps;\n",
              "\n",
              "  return _uploadFilesContinue(outputId);\n",
              "}\n",
              "\n",
              "// This is roughly an async generator (not supported in the browser yet),\n",
              "// where there are multiple asynchronous steps and the Python side is going\n",
              "// to poll for completion of each step.\n",
              "// This uses a Promise to block the python side on completion of each step,\n",
              "// then passes the result of the previous step as the input to the next step.\n",
              "function _uploadFilesContinue(outputId) {\n",
              "  const outputElement = document.getElementById(outputId);\n",
              "  const steps = outputElement.steps;\n",
              "\n",
              "  const next = steps.next(outputElement.lastPromiseValue);\n",
              "  return Promise.resolve(next.value.promise).then((value) => {\n",
              "    // Cache the last promise value to make it available to the next\n",
              "    // step of the generator.\n",
              "    outputElement.lastPromiseValue = value;\n",
              "    return next.value.response;\n",
              "  });\n",
              "}\n",
              "\n",
              "/**\n",
              " * Generator function which is called between each async step of the upload\n",
              " * process.\n",
              " * @param {string} inputId Element ID of the input file picker element.\n",
              " * @param {string} outputId Element ID of the output display.\n",
              " * @return {!Iterable<!Object>} Iterable of next steps.\n",
              " */\n",
              "function* uploadFilesStep(inputId, outputId) {\n",
              "  const inputElement = document.getElementById(inputId);\n",
              "  inputElement.disabled = false;\n",
              "\n",
              "  const outputElement = document.getElementById(outputId);\n",
              "  outputElement.innerHTML = '';\n",
              "\n",
              "  const pickedPromise = new Promise((resolve) => {\n",
              "    inputElement.addEventListener('change', (e) => {\n",
              "      resolve(e.target.files);\n",
              "    });\n",
              "  });\n",
              "\n",
              "  const cancel = document.createElement('button');\n",
              "  inputElement.parentElement.appendChild(cancel);\n",
              "  cancel.textContent = 'Cancel upload';\n",
              "  const cancelPromise = new Promise((resolve) => {\n",
              "    cancel.onclick = () => {\n",
              "      resolve(null);\n",
              "    };\n",
              "  });\n",
              "\n",
              "  // Wait for the user to pick the files.\n",
              "  const files = yield {\n",
              "    promise: Promise.race([pickedPromise, cancelPromise]),\n",
              "    response: {\n",
              "      action: 'starting',\n",
              "    }\n",
              "  };\n",
              "\n",
              "  cancel.remove();\n",
              "\n",
              "  // Disable the input element since further picks are not allowed.\n",
              "  inputElement.disabled = true;\n",
              "\n",
              "  if (!files) {\n",
              "    return {\n",
              "      response: {\n",
              "        action: 'complete',\n",
              "      }\n",
              "    };\n",
              "  }\n",
              "\n",
              "  for (const file of files) {\n",
              "    const li = document.createElement('li');\n",
              "    li.append(span(file.name, {fontWeight: 'bold'}));\n",
              "    li.append(span(\n",
              "        `(${file.type || 'n/a'}) - ${file.size} bytes, ` +\n",
              "        `last modified: ${\n",
              "            file.lastModifiedDate ? file.lastModifiedDate.toLocaleDateString() :\n",
              "                                    'n/a'} - `));\n",
              "    const percent = span('0% done');\n",
              "    li.appendChild(percent);\n",
              "\n",
              "    outputElement.appendChild(li);\n",
              "\n",
              "    const fileDataPromise = new Promise((resolve) => {\n",
              "      const reader = new FileReader();\n",
              "      reader.onload = (e) => {\n",
              "        resolve(e.target.result);\n",
              "      };\n",
              "      reader.readAsArrayBuffer(file);\n",
              "    });\n",
              "    // Wait for the data to be ready.\n",
              "    let fileData = yield {\n",
              "      promise: fileDataPromise,\n",
              "      response: {\n",
              "        action: 'continue',\n",
              "      }\n",
              "    };\n",
              "\n",
              "    // Use a chunked sending to avoid message size limits. See b/62115660.\n",
              "    let position = 0;\n",
              "    do {\n",
              "      const length = Math.min(fileData.byteLength - position, MAX_PAYLOAD_SIZE);\n",
              "      const chunk = new Uint8Array(fileData, position, length);\n",
              "      position += length;\n",
              "\n",
              "      const base64 = btoa(String.fromCharCode.apply(null, chunk));\n",
              "      yield {\n",
              "        response: {\n",
              "          action: 'append',\n",
              "          file: file.name,\n",
              "          data: base64,\n",
              "        },\n",
              "      };\n",
              "\n",
              "      let percentDone = fileData.byteLength === 0 ?\n",
              "          100 :\n",
              "          Math.round((position / fileData.byteLength) * 100);\n",
              "      percent.textContent = `${percentDone}% done`;\n",
              "\n",
              "    } while (position < fileData.byteLength);\n",
              "  }\n",
              "\n",
              "  // All done.\n",
              "  yield {\n",
              "    response: {\n",
              "      action: 'complete',\n",
              "    }\n",
              "  };\n",
              "}\n",
              "\n",
              "scope.google = scope.google || {};\n",
              "scope.google.colab = scope.google.colab || {};\n",
              "scope.google.colab._files = {\n",
              "  _uploadFiles,\n",
              "  _uploadFilesContinue,\n",
              "};\n",
              "})(self);\n",
              "</script> "
            ]
          },
          "metadata": {}
        },
        {
          "output_type": "stream",
          "name": "stdout",
          "text": [
            "Saving campus5.csv to campus5.csv\n"
          ]
        }
      ]
    },
    {
      "cell_type": "code",
      "source": [
        "df.index = pd.to_datetime(df['Timestamp'])"
      ],
      "metadata": {
        "id": "8bqMyLOBFvxG"
      },
      "execution_count": 4,
      "outputs": []
    },
    {
      "cell_type": "code",
      "source": [
        "#Looking at just Solar Generation to Predict Solar Generation. And train/test/splitting\n",
        "df = df[['SolarGeneration']]\n",
        "y_train, y_test = train_test_split(df['SolarGeneration'], shuffle = False, test_size = 0.15)"
      ],
      "metadata": {
        "id": "ggiky3JwFwxW"
      },
      "execution_count": 5,
      "outputs": []
    },
    {
      "cell_type": "code",
      "source": [
        "def print_last(res):\n",
        "  '''\n",
        "  Helper function to just print out the last training and testing loss \n",
        "  function values as well as the last metrics of a fitted model\n",
        "  '''\n",
        "  print(f\"Mean Absolute Error - Training: {np.round(res.history['loss'][-1], 5)}\")\n",
        "  print(f\"Mean Absolute Error - Testing: {np.round(res.history['val_loss'][-1], 5)}\")\n",
        "  print(f\"Root Mean Squared Error - Training: {np.round(np.sqrt(res.history['mse'][-1]), 5)}\")\n",
        "  print(f\"Root Mean Squared Error - Testing: {np.round(np.sqrt(res.history['val_mse'][-1]), 5)}\")"
      ],
      "metadata": {
        "id": "dWgrGFAZdWWS"
      },
      "execution_count": 6,
      "outputs": []
    },
    {
      "cell_type": "code",
      "source": [
        "early_stop = EarlyStopping(monitor = 'val_loss', patience = 5)"
      ],
      "metadata": {
        "id": "uH3Wj-9Zd9Gc"
      },
      "execution_count": 7,
      "outputs": []
    },
    {
      "cell_type": "markdown",
      "source": [
        "First investigating 12 lengths (15min) at a time to look at 3-hour intervals  \n",
        "\n",
        "Examining the different types of models with various numbers of SimpleRNN layers, Dense layers, and nodes for each."
      ],
      "metadata": {
        "id": "s-hazI0I3eys"
      }
    },
    {
      "cell_type": "code",
      "source": [
        "seq_length = 12\n",
        "train_ds = timeseries_dataset_from_array(\n",
        "    y_train.to_numpy(),\n",
        "    targets = y_train[seq_length:],\n",
        "    sequence_length = seq_length,\n",
        "    batch_size = 32,\n",
        "    shuffle = True,\n",
        "    seed = 42\n",
        ")\n",
        "\n",
        "val_ds = timeseries_dataset_from_array(\n",
        "    y_test.to_numpy(),\n",
        "    targets = y_test[seq_length:],\n",
        "    sequence_length = seq_length,\n",
        "    batch_size = 32,\n",
        ")"
      ],
      "metadata": {
        "id": "CWgKdXzMIn37"
      },
      "execution_count": 8,
      "outputs": []
    },
    {
      "cell_type": "code",
      "source": [
        "model = Sequential()\n",
        "model.add(SimpleRNN(1, input_shape = [None,1]))\n",
        "model.add(Dense(1, activation = 'linear'))\n",
        "\n",
        "model.compile(loss = 'mae',\n",
        "              optimizer = Adam(learning_rate = 0.001), \n",
        "              metrics = ['mse'])\n",
        "\n",
        "res = model.fit(train_ds, \n",
        "                validation_data = val_ds, \n",
        "                epochs = 50, \n",
        "                verbose = 0,\n",
        "                callbacks = [early_stop])\n",
        "\n",
        "print_last(res)"
      ],
      "metadata": {
        "colab": {
          "base_uri": "https://localhost:8080/"
        },
        "id": "_GEQGM_0GktX",
        "outputId": "d8f0235f-74f7-4040-a691-374750b0ee4c"
      },
      "execution_count": 9,
      "outputs": [
        {
          "output_type": "stream",
          "name": "stdout",
          "text": [
            "Mean Absolute Error - Training: 0.23916\n",
            "Mean Absolute Error - Testing: 0.23521\n",
            "Root Mean Squared Error - Training: 0.67582\n",
            "Root Mean Squared Error - Testing: 0.61915\n"
          ]
        }
      ]
    },
    {
      "cell_type": "code",
      "source": [
        "model = Sequential()\n",
        "\n",
        "model.add(SimpleRNN(32, input_shape = [None,1]))\n",
        "model.add(Dense(1, activation = 'linear'))\n",
        "\n",
        "model.compile(loss = 'mae',\n",
        "              optimizer = Adam(learning_rate = 0.001), \n",
        "              metrics = ['mse'])\n",
        "\n",
        "res = model.fit(train_ds, \n",
        "                validation_data = val_ds, \n",
        "                epochs = 50, \n",
        "                verbose = 0,\n",
        "                callbacks = [early_stop])\n",
        "\n",
        "print_last(res)"
      ],
      "metadata": {
        "colab": {
          "base_uri": "https://localhost:8080/"
        },
        "id": "SDQOyg6FHI5i",
        "outputId": "9ab195e1-334a-4f88-d16d-4e1620afc1d6"
      },
      "execution_count": null,
      "outputs": [
        {
          "output_type": "stream",
          "name": "stdout",
          "text": [
            "Mean Absolute Error - Training: 0.19295\n",
            "Mean Absolute Error - Testing: 0.18596\n",
            "Root Mean Squared Error - Training: 0.62909\n",
            "Root Mean Squared Error - Testing: 0.58414\n"
          ]
        }
      ]
    },
    {
      "cell_type": "code",
      "source": [
        "model = Sequential()\n",
        "\n",
        "model.add(SimpleRNN(32, input_shape = [None,1], return_sequences = True))\n",
        "model.add(SimpleRNN(32, input_shape = [None,1]))\n",
        "model.add(Dense(1, activation = 'linear'))\n",
        "\n",
        "model.compile(loss = 'mae',\n",
        "              optimizer = Adam(learning_rate = 0.001), \n",
        "              metrics = ['mse'])\n",
        "\n",
        "res = model.fit(train_ds, \n",
        "                validation_data = val_ds, \n",
        "                epochs = 50, \n",
        "                verbose = 0,\n",
        "                callbacks = [early_stop])\n",
        "\n",
        "print_last(res)"
      ],
      "metadata": {
        "colab": {
          "base_uri": "https://localhost:8080/"
        },
        "id": "vq0vWK_L4L1j",
        "outputId": "1d6b5200-645c-4e82-c192-de0e7b843e0c"
      },
      "execution_count": 10,
      "outputs": [
        {
          "output_type": "stream",
          "name": "stdout",
          "text": [
            "Mean Absolute Error - Training: 0.2033\n",
            "Mean Absolute Error - Testing: 0.18795\n",
            "Root Mean Squared Error - Training: 0.6388\n",
            "Root Mean Squared Error - Testing: 0.58395\n"
          ]
        }
      ]
    },
    {
      "cell_type": "code",
      "source": [
        "model = Sequential()\n",
        "\n",
        "model.add(SimpleRNN(32, input_shape = [None,1], return_sequences = True))\n",
        "model.add(SimpleRNN(32, input_shape = [None,1], return_sequences = True))\n",
        "model.add(SimpleRNN(32, input_shape = [None,1]))\n",
        "model.add(Dense(1, activation = 'linear'))\n",
        "\n",
        "model.compile(loss = 'mae',\n",
        "              optimizer = Adam(learning_rate = 0.001), \n",
        "              metrics = ['mse'])\n",
        "\n",
        "res = model.fit(train_ds, \n",
        "                validation_data = val_ds, \n",
        "                epochs = 50, \n",
        "                verbose = 0,\n",
        "                callbacks = [early_stop])\n",
        "\n",
        "print_last(res)"
      ],
      "metadata": {
        "colab": {
          "base_uri": "https://localhost:8080/"
        },
        "id": "mcw6vbavLo8t",
        "outputId": "f5bc565a-1d56-44f6-a844-970e0c7aaec6"
      },
      "execution_count": null,
      "outputs": [
        {
          "output_type": "stream",
          "name": "stdout",
          "text": [
            "Mean Absolute Error - Training: 0.1934\n",
            "Mean Absolute Error - Testing: 0.20146\n",
            "Root Mean Squared Error - Training: 0.61372\n",
            "Root Mean Squared Error - Testing: 0.58956\n"
          ]
        }
      ]
    },
    {
      "cell_type": "code",
      "source": [
        "model = Sequential()\n",
        "\n",
        "model.add(SimpleRNN(32, input_shape = [None,1], return_sequences = True))\n",
        "model.add(SimpleRNN(32, input_shape = [None,1], return_sequences = True))\n",
        "model.add(SimpleRNN(32, input_shape = [None,1]))\n",
        "model.add(Dense(32, activation = 'relu'))\n",
        "model.add(Dense(1, activation = 'linear'))\n",
        "\n",
        "model.compile(loss = 'mae',\n",
        "              optimizer = Adam(learning_rate = 0.001), \n",
        "              metrics = ['mse'])\n",
        "\n",
        "res = model.fit(train_ds, \n",
        "                validation_data = val_ds, \n",
        "                epochs = 50, \n",
        "                verbose = 0,\n",
        "                callbacks = [early_stop])\n",
        "\n",
        "print_last(res)"
      ],
      "metadata": {
        "colab": {
          "base_uri": "https://localhost:8080/"
        },
        "id": "wEC6DkHmL0ID",
        "outputId": "f04185fb-a758-4b58-f9b5-408a32891a5c"
      },
      "execution_count": null,
      "outputs": [
        {
          "output_type": "stream",
          "name": "stdout",
          "text": [
            "Mean Absolute Error - Training: 0.19636\n",
            "Mean Absolute Error - Testing: 0.19464\n",
            "Root Mean Squared Error - Training: 0.62842\n",
            "Root Mean Squared Error - Testing: 0.58935\n"
          ]
        }
      ]
    },
    {
      "cell_type": "markdown",
      "source": [
        "---"
      ],
      "metadata": {
        "id": "o56w1wld34OS"
      }
    },
    {
      "cell_type": "markdown",
      "source": [
        "Next investigating 16 lengths (15min) at a time to look at 4-hour intervals  \n",
        "\n",
        "Examining the different types of models with various numbers of SimpleRNN layers, Dense layers, and nodes for each."
      ],
      "metadata": {
        "id": "PuQwRB6D33ox"
      }
    },
    {
      "cell_type": "code",
      "source": [
        "seq_length = 16\n",
        "train_ds = timeseries_dataset_from_array(\n",
        "    y_train.to_numpy(),\n",
        "    targets = y_train[seq_length:],\n",
        "    sequence_length = seq_length,\n",
        "    batch_size = 96,\n",
        "    shuffle = True,\n",
        "    seed = 42\n",
        ")\n",
        "\n",
        "val_ds = timeseries_dataset_from_array(\n",
        "    y_test.to_numpy(),\n",
        "    targets = y_test[seq_length:],\n",
        "    sequence_length = seq_length,\n",
        "    batch_size = 96,\n",
        ")"
      ],
      "metadata": {
        "id": "hLW7a9HfeTfx"
      },
      "execution_count": 8,
      "outputs": []
    },
    {
      "cell_type": "code",
      "source": [
        "model = Sequential()\n",
        "\n",
        "model.add(SimpleRNN(32, input_shape = [None,1]))\n",
        "model.add(Dense(1, activation = 'linear'))\n",
        "\n",
        "model.compile(loss = 'mae',\n",
        "              optimizer = Adam(learning_rate = 0.001), \n",
        "              metrics = ['mse'])\n",
        "\n",
        "res = model.fit(train_ds, \n",
        "                validation_data = val_ds, \n",
        "                epochs = 50, \n",
        "                verbose = 0,\n",
        "                callbacks = [early_stop])\n",
        "\n",
        "print_last(res)"
      ],
      "metadata": {
        "colab": {
          "base_uri": "https://localhost:8080/"
        },
        "id": "sjSEtXjheXx3",
        "outputId": "bac1f8fa-62a6-47e4-c33b-bbd2c0da877a"
      },
      "execution_count": null,
      "outputs": [
        {
          "output_type": "stream",
          "name": "stdout",
          "text": [
            "Mean Absolute Error - Training: 0.19298\n",
            "Mean Absolute Error - Testing: 0.18917\n",
            "Root Mean Squared Error - Training: 0.63863\n",
            "Root Mean Squared Error - Testing: 0.5929\n"
          ]
        }
      ]
    },
    {
      "cell_type": "code",
      "source": [
        "model = Sequential()\n",
        "\n",
        "model.add(SimpleRNN(32, input_shape = [None,1], return_sequences = True))\n",
        "model.add(SimpleRNN(32, input_shape = [None,1]))\n",
        "model.add(Dense(1, activation = 'linear'))\n",
        "\n",
        "model.compile(loss = 'mae',\n",
        "              optimizer = Adam(learning_rate = 0.001), \n",
        "              metrics = ['mse'])\n",
        "\n",
        "res = model.fit(train_ds, \n",
        "                validation_data = val_ds, \n",
        "                epochs = 50, \n",
        "                verbose = 0,\n",
        "                callbacks = [early_stop])\n",
        "\n",
        "print_last(res)"
      ],
      "metadata": {
        "colab": {
          "base_uri": "https://localhost:8080/"
        },
        "id": "F77ZwyugeYEV",
        "outputId": "84a710a1-36b4-46d5-bea1-450144dc2443"
      },
      "execution_count": null,
      "outputs": [
        {
          "output_type": "stream",
          "name": "stdout",
          "text": [
            "Mean Absolute Error - Training: 0.19299\n",
            "Mean Absolute Error - Testing: 0.18684\n",
            "Root Mean Squared Error - Training: 0.62877\n",
            "Root Mean Squared Error - Testing: 0.5807\n"
          ]
        }
      ]
    },
    {
      "cell_type": "code",
      "source": [],
      "metadata": {
        "id": "Ecka7mRWetDr"
      },
      "execution_count": null,
      "outputs": []
    },
    {
      "cell_type": "code",
      "source": [],
      "metadata": {
        "id": "5aNKQBjcetkZ"
      },
      "execution_count": null,
      "outputs": []
    },
    {
      "cell_type": "markdown",
      "source": [
        "---"
      ],
      "metadata": {
        "id": "rhojqWaE4b9N"
      }
    },
    {
      "cell_type": "markdown",
      "source": [
        "Investigating 96 lengths (15min) at a time to look at 24-hour intervals  \n",
        "\n",
        "Examining the different types of models with various numbers of SimpleRNN layers, Dense layers, and nodes for each."
      ],
      "metadata": {
        "id": "tWVa9FCV4VRr"
      }
    },
    {
      "cell_type": "code",
      "source": [
        "seq_length = 96\n",
        "train_ds = timeseries_dataset_from_array(\n",
        "    y_train.to_numpy(),\n",
        "    targets = y_train[seq_length:],\n",
        "    sequence_length = seq_length,\n",
        "    batch_size = 672,\n",
        "    shuffle = True,\n",
        "    seed = 42\n",
        ")\n",
        "\n",
        "val_ds = timeseries_dataset_from_array(\n",
        "    y_test.to_numpy(),\n",
        "    targets = y_test[seq_length:],\n",
        "    sequence_length = seq_length,\n",
        "    batch_size = 672,\n",
        ")"
      ],
      "metadata": {
        "id": "u7APd6qUeukm"
      },
      "execution_count": null,
      "outputs": []
    },
    {
      "cell_type": "code",
      "source": [
        "model = Sequential()\n",
        "\n",
        "model.add(SimpleRNN(32, input_shape = [None,1]))\n",
        "model.add(Dense(1, activation = 'linear'))\n",
        "\n",
        "model.compile(loss = 'mae',\n",
        "              optimizer = Adam(learning_rate = 0.001), \n",
        "              metrics = ['mse'])\n",
        "\n",
        "res = model.fit(train_ds, \n",
        "                validation_data = val_ds, \n",
        "                epochs = 50, \n",
        "                verbose = 0,\n",
        "                callbacks = [early_stop])\n",
        "\n",
        "print_last(res)"
      ],
      "metadata": {
        "colab": {
          "base_uri": "https://localhost:8080/"
        },
        "id": "t6D2s8HZewSo",
        "outputId": "8aa8052f-6b0e-439a-87f5-067ab559d2b9"
      },
      "execution_count": null,
      "outputs": [
        {
          "output_type": "stream",
          "name": "stdout",
          "text": [
            "Mean Absolute Error - Training: 0.19713\n",
            "Mean Absolute Error - Testing: 0.19164\n",
            "Root Mean Squared Error - Training: 0.63455\n",
            "Root Mean Squared Error - Testing: 0.58515\n"
          ]
        }
      ]
    },
    {
      "cell_type": "code",
      "source": [
        "model = Sequential()\n",
        "\n",
        "model.add(SimpleRNN(32, input_shape = [None,1], return_sequences = True))\n",
        "model.add(SimpleRNN(32, input_shape = [None,1]))\n",
        "model.add(Dense(1, activation = 'linear'))\n",
        "\n",
        "model.compile(loss = 'mae',\n",
        "              optimizer = Adam(learning_rate = 0.001), \n",
        "              metrics = ['mse'])\n",
        "\n",
        "res = model.fit(train_ds, \n",
        "                validation_data = val_ds, \n",
        "                epochs = 50, \n",
        "                verbose = 0,\n",
        "                callbacks = [early_stop])\n",
        "\n",
        "print_last(res)"
      ],
      "metadata": {
        "colab": {
          "base_uri": "https://localhost:8080/"
        },
        "id": "PiypDqK5ewgP",
        "outputId": "64d8f50a-9d67-40e6-fe93-b79675211739"
      },
      "execution_count": null,
      "outputs": [
        {
          "output_type": "stream",
          "name": "stdout",
          "text": [
            "Mean Absolute Error - Training: 0.19312\n",
            "Mean Absolute Error - Testing: 0.19007\n",
            "Root Mean Squared Error - Training: 0.63242\n",
            "Root Mean Squared Error - Testing: 0.586\n"
          ]
        }
      ]
    },
    {
      "cell_type": "code",
      "source": [
        "model = Sequential()\n",
        "\n",
        "model.add(SimpleRNN(64, input_shape = [None,1]))\n",
        "model.add(Dense(1, activation = 'linear'))\n",
        "\n",
        "model.compile(loss = 'mae',\n",
        "              optimizer = Adam(learning_rate = 0.001), \n",
        "              metrics = ['mse'])\n",
        "\n",
        "res = model.fit(train_ds, \n",
        "                validation_data = val_ds, \n",
        "                epochs = 50, \n",
        "                verbose = 0,\n",
        "                callbacks = [early_stop])\n",
        "\n",
        "print_last(res)"
      ],
      "metadata": {
        "colab": {
          "base_uri": "https://localhost:8080/"
        },
        "id": "frNnhdKce5OE",
        "outputId": "8c9ba065-6f60-43aa-8d0f-833ac3929168"
      },
      "execution_count": null,
      "outputs": [
        {
          "output_type": "stream",
          "name": "stdout",
          "text": [
            "Mean Absolute Error - Training: 0.19078\n",
            "Mean Absolute Error - Testing: 0.18271\n",
            "Root Mean Squared Error - Training: 0.63263\n",
            "Root Mean Squared Error - Testing: 0.58737\n"
          ]
        }
      ]
    },
    {
      "cell_type": "code",
      "source": [
        "model = Sequential()\n",
        "\n",
        "model.add(SimpleRNN(96, input_shape = [None,1]))\n",
        "model.add(Dense(1, activation = 'linear'))\n",
        "\n",
        "model.compile(loss = 'mae',\n",
        "              optimizer = Adam(learning_rate = 0.001), \n",
        "              metrics = ['mse'])\n",
        "\n",
        "res = model.fit(train_ds, \n",
        "                validation_data = val_ds, \n",
        "                epochs = 50, \n",
        "                verbose = 0,\n",
        "                callbacks = [early_stop])\n",
        "\n",
        "print_last(res)"
      ],
      "metadata": {
        "colab": {
          "base_uri": "https://localhost:8080/"
        },
        "id": "Kh89hXaABGfB",
        "outputId": "f2e3bd5d-b03c-433f-fed9-7e08d10ad79f"
      },
      "execution_count": null,
      "outputs": [
        {
          "output_type": "stream",
          "name": "stdout",
          "text": [
            "Mean Absolute Error - Training: 0.19423\n",
            "Mean Absolute Error - Testing: 0.19427\n",
            "Root Mean Squared Error - Training: 0.63656\n",
            "Root Mean Squared Error - Testing: 0.59407\n"
          ]
        }
      ]
    },
    {
      "cell_type": "code",
      "source": [],
      "metadata": {
        "id": "S3M5OSwlTgaw"
      },
      "execution_count": null,
      "outputs": []
    },
    {
      "cell_type": "code",
      "source": [],
      "metadata": {
        "id": "MnSMJflXTgYE"
      },
      "execution_count": null,
      "outputs": []
    },
    {
      "cell_type": "code",
      "source": [],
      "metadata": {
        "id": "ex9e2W1ETgVa"
      },
      "execution_count": null,
      "outputs": []
    },
    {
      "cell_type": "markdown",
      "source": [
        "# Tuning Optimizer of the Top Two Models\n",
        "### (with corresponding sequence lengths)\n"
      ],
      "metadata": {
        "id": "3nXd9lWiTngc"
      }
    },
    {
      "cell_type": "code",
      "source": [
        "seq_length = 96\n",
        "train_ds = timeseries_dataset_from_array(\n",
        "    y_train.to_numpy(),\n",
        "    targets = y_train[seq_length:],\n",
        "    sequence_length = seq_length,\n",
        "    batch_size = 672,\n",
        "    shuffle = True,\n",
        "    seed = 42\n",
        ")\n",
        "\n",
        "val_ds = timeseries_dataset_from_array(\n",
        "    y_test.to_numpy(),\n",
        "    targets = y_test[seq_length:],\n",
        "    sequence_length = seq_length,\n",
        "    batch_size = 672,\n",
        ")"
      ],
      "metadata": {
        "id": "JWWARlvsTMJV"
      },
      "execution_count": 17,
      "outputs": []
    },
    {
      "cell_type": "code",
      "source": [
        "model = Sequential()\n",
        "\n",
        "model.add(SimpleRNN(64, input_shape = [None,1]))\n",
        "model.add(Dense(1, activation = 'linear'))\n",
        "\n",
        "model.compile(loss = 'mae',\n",
        "              optimizer = Adam(learning_rate = 0.0005), \n",
        "              metrics = ['mse'])\n",
        "\n",
        "res = model.fit(train_ds, \n",
        "                validation_data = val_ds, \n",
        "                epochs = 50, \n",
        "                verbose = 0,\n",
        "                callbacks = [early_stop])\n",
        "\n",
        "print_last(res)"
      ],
      "metadata": {
        "colab": {
          "base_uri": "https://localhost:8080/"
        },
        "id": "t7QPmEi7WFoE",
        "outputId": "58db7a15-97a0-4866-cf6c-4861b88b3919"
      },
      "execution_count": 10,
      "outputs": [
        {
          "output_type": "stream",
          "name": "stdout",
          "text": [
            "Mean Absolute Error - Training: 0.19456\n",
            "Mean Absolute Error - Testing: 0.19201\n",
            "Root Mean Squared Error - Training: 0.63696\n",
            "Root Mean Squared Error - Testing: 0.58862\n"
          ]
        }
      ]
    },
    {
      "cell_type": "code",
      "source": [
        "model = Sequential()\n",
        "\n",
        "model.add(SimpleRNN(64, input_shape = [None,1]))\n",
        "model.add(Dense(1, activation = 'linear'))\n",
        "\n",
        "model.compile(loss = 'mae',\n",
        "              optimizer = Adam(learning_rate = 0.001), \n",
        "              metrics = ['mse'])\n",
        "\n",
        "res = model.fit(train_ds, \n",
        "                validation_data = val_ds, \n",
        "                epochs = 50, \n",
        "                verbose = 0,\n",
        "                callbacks = [early_stop])\n",
        "\n",
        "print_last(res)"
      ],
      "metadata": {
        "colab": {
          "base_uri": "https://localhost:8080/"
        },
        "id": "qtEGC2vIVeD9",
        "outputId": "d516d80b-bd66-406a-bb69-50c8604850f2"
      },
      "execution_count": 11,
      "outputs": [
        {
          "output_type": "stream",
          "name": "stdout",
          "text": [
            "Mean Absolute Error - Training: 0.18968\n",
            "Mean Absolute Error - Testing: 0.18396\n",
            "Root Mean Squared Error - Training: 0.63455\n",
            "Root Mean Squared Error - Testing: 0.58532\n"
          ]
        }
      ]
    },
    {
      "cell_type": "code",
      "source": [
        "model = Sequential()\n",
        "\n",
        "model.add(SimpleRNN(64, input_shape = [None,1]))\n",
        "model.add(Dense(1, activation = 'linear'))\n",
        "\n",
        "model.compile(loss = 'mae',\n",
        "              optimizer = Adam(learning_rate = 0.0015), \n",
        "              metrics = ['mse'])\n",
        "\n",
        "res = model.fit(train_ds, \n",
        "                validation_data = val_ds, \n",
        "                epochs = 50, \n",
        "                verbose = 0,\n",
        "                callbacks = [early_stop])\n",
        "\n",
        "print_last(res)"
      ],
      "metadata": {
        "colab": {
          "base_uri": "https://localhost:8080/"
        },
        "id": "u_xiI5txcKQq",
        "outputId": "07aa8e1b-34b7-4d7d-f210-86a0c2ca0a17"
      },
      "execution_count": 18,
      "outputs": [
        {
          "output_type": "stream",
          "name": "stdout",
          "text": [
            "Mean Absolute Error - Training: 0.19287\n",
            "Mean Absolute Error - Testing: 0.18656\n",
            "Root Mean Squared Error - Training: 0.63784\n",
            "Root Mean Squared Error - Testing: 0.58541\n"
          ]
        }
      ]
    },
    {
      "cell_type": "code",
      "source": [
        "model = Sequential()\n",
        "\n",
        "model.add(SimpleRNN(64, input_shape = [None,1]))\n",
        "model.add(Dense(1, activation = 'linear'))\n",
        "\n",
        "model.compile(loss = 'mae',\n",
        "              optimizer = Adam(learning_rate = 0.002), \n",
        "              metrics = ['mse'])\n",
        "\n",
        "res = model.fit(train_ds, \n",
        "                validation_data = val_ds, \n",
        "                epochs = 50, \n",
        "                verbose = 0,\n",
        "                callbacks = [early_stop])\n",
        "\n",
        "print_last(res)"
      ],
      "metadata": {
        "colab": {
          "base_uri": "https://localhost:8080/"
        },
        "id": "5luzguRJVeB5",
        "outputId": "bda96133-f263-4104-de2c-3161e71b3af3"
      },
      "execution_count": 12,
      "outputs": [
        {
          "output_type": "stream",
          "name": "stdout",
          "text": [
            "Mean Absolute Error - Training: 0.19061\n",
            "Mean Absolute Error - Testing: 0.18338\n",
            "Root Mean Squared Error - Training: 0.63215\n",
            "Root Mean Squared Error - Testing: 0.5831\n"
          ]
        }
      ]
    },
    {
      "cell_type": "code",
      "source": [
        "model = Sequential()\n",
        "\n",
        "model.add(SimpleRNN(64, input_shape = [None,1]))\n",
        "model.add(Dense(1, activation = 'linear'))\n",
        "\n",
        "model.compile(loss = 'mae',\n",
        "              optimizer = Adam(learning_rate = 0.0025), \n",
        "              metrics = ['mse'])\n",
        "\n",
        "res = model.fit(train_ds, \n",
        "                validation_data = val_ds, \n",
        "                epochs = 50, \n",
        "                verbose = 0,\n",
        "                callbacks = [early_stop])\n",
        "\n",
        "print_last(res)"
      ],
      "metadata": {
        "colab": {
          "base_uri": "https://localhost:8080/"
        },
        "id": "1TrVsmPaVd_R",
        "outputId": "2294637d-d9b6-4bc3-d7eb-3beb8f7c1991"
      },
      "execution_count": 19,
      "outputs": [
        {
          "output_type": "stream",
          "name": "stdout",
          "text": [
            "Mean Absolute Error - Training: 0.19108\n",
            "Mean Absolute Error - Testing: 0.1847\n",
            "Root Mean Squared Error - Training: 0.63076\n",
            "Root Mean Squared Error - Testing: 0.58235\n"
          ]
        }
      ]
    },
    {
      "cell_type": "code",
      "source": [
        "model = Sequential()\n",
        "\n",
        "model.add(SimpleRNN(64, input_shape = [None,1]))\n",
        "model.add(Dense(1, activation = 'linear'))\n",
        "\n",
        "model.compile(loss = 'mae',\n",
        "              optimizer = Adam(learning_rate = 0.003), \n",
        "              metrics = ['mse'])\n",
        "\n",
        "res = model.fit(train_ds, \n",
        "                validation_data = val_ds, \n",
        "                epochs = 50, \n",
        "                verbose = 0,\n",
        "                callbacks = [early_stop])\n",
        "\n",
        "print_last(res)"
      ],
      "metadata": {
        "colab": {
          "base_uri": "https://localhost:8080/"
        },
        "id": "hWr_ssWTVd83",
        "outputId": "309437f6-c44f-417c-fb42-0f5d544f8932"
      },
      "execution_count": 20,
      "outputs": [
        {
          "output_type": "stream",
          "name": "stdout",
          "text": [
            "Mean Absolute Error - Training: 0.19729\n",
            "Mean Absolute Error - Testing: 0.18889\n",
            "Root Mean Squared Error - Training: 0.64011\n",
            "Root Mean Squared Error - Testing: 0.59081\n"
          ]
        }
      ]
    },
    {
      "cell_type": "markdown",
      "source": [
        "The BEST model for Mean Absolute Error is a SimpleRNN with 64 nodes, adam optimizer with 0.002 learning rate, and with 15-min intervals of 96 (1 day)\n",
        "\n",
        "Best MAE - 0.18338"
      ],
      "metadata": {
        "id": "lvSmAGCwkbLh"
      }
    },
    {
      "cell_type": "markdown",
      "source": [
        "---"
      ],
      "metadata": {
        "id": "JpkFlwtXitei"
      }
    },
    {
      "cell_type": "code",
      "source": [
        "seq_length = 16\n",
        "train_ds = timeseries_dataset_from_array(\n",
        "    y_train.to_numpy(),\n",
        "    targets = y_train[seq_length:],\n",
        "    sequence_length = seq_length,\n",
        "    batch_size = 96,\n",
        "    shuffle = True,\n",
        "    seed = 42\n",
        ")\n",
        "\n",
        "val_ds = timeseries_dataset_from_array(\n",
        "    y_test.to_numpy(),\n",
        "    targets = y_test[seq_length:],\n",
        "    sequence_length = seq_length,\n",
        "    batch_size = 96,\n",
        ")"
      ],
      "metadata": {
        "id": "xaLJpQ4IVd1A"
      },
      "execution_count": 21,
      "outputs": []
    },
    {
      "cell_type": "code",
      "source": [
        "model = Sequential()\n",
        "\n",
        "model.add(SimpleRNN(32, input_shape = [None,1], return_sequences = True))\n",
        "model.add(SimpleRNN(32, input_shape = [None,1]))\n",
        "model.add(Dense(1, activation = 'linear'))\n",
        "\n",
        "model.compile(loss = 'mae',\n",
        "              optimizer = Adam(learning_rate = 0.0009), \n",
        "              metrics = ['mse'])\n",
        "\n",
        "res = model.fit(train_ds, \n",
        "                validation_data = val_ds, \n",
        "                epochs = 50, \n",
        "                verbose = 0,\n",
        "                callbacks = [early_stop])\n",
        "\n",
        "print_last(res)"
      ],
      "metadata": {
        "colab": {
          "base_uri": "https://localhost:8080/"
        },
        "id": "inMqdQw4TMGz",
        "outputId": "14c0831d-decb-4d48-f0a5-29224d2e7c82"
      },
      "execution_count": 14,
      "outputs": [
        {
          "output_type": "stream",
          "name": "stdout",
          "text": [
            "Mean Absolute Error - Training: 0.19509\n",
            "Mean Absolute Error - Testing: 0.19187\n",
            "Root Mean Squared Error - Training: 0.63242\n",
            "Root Mean Squared Error - Testing: 0.58409\n"
          ]
        }
      ]
    },
    {
      "cell_type": "code",
      "source": [
        "model = Sequential()\n",
        "\n",
        "model.add(SimpleRNN(32, input_shape = [None,1], return_sequences = True))\n",
        "model.add(SimpleRNN(32, input_shape = [None,1]))\n",
        "model.add(Dense(1, activation = 'linear'))\n",
        "\n",
        "model.compile(loss = 'mae',\n",
        "              optimizer = Adam(learning_rate = 0.001), \n",
        "              metrics = ['mse'])\n",
        "\n",
        "res = model.fit(train_ds, \n",
        "                validation_data = val_ds, \n",
        "                epochs = 50, \n",
        "                verbose = 0,\n",
        "                callbacks = [early_stop])\n",
        "\n",
        "print_last(res)"
      ],
      "metadata": {
        "colab": {
          "base_uri": "https://localhost:8080/"
        },
        "id": "AuF10_DQTMEB",
        "outputId": "99d12c88-a246-4949-daba-ced828e988b1"
      },
      "execution_count": 15,
      "outputs": [
        {
          "output_type": "stream",
          "name": "stdout",
          "text": [
            "Mean Absolute Error - Training: 0.19472\n",
            "Mean Absolute Error - Testing: 0.19506\n",
            "Root Mean Squared Error - Training: 0.63036\n",
            "Root Mean Squared Error - Testing: 0.58376\n"
          ]
        }
      ]
    },
    {
      "cell_type": "code",
      "source": [
        "model = Sequential()\n",
        "\n",
        "model.add(SimpleRNN(32, input_shape = [None,1], return_sequences = True))\n",
        "model.add(SimpleRNN(32, input_shape = [None,1]))\n",
        "model.add(Dense(1, activation = 'linear'))\n",
        "\n",
        "model.compile(loss = 'mae',\n",
        "              optimizer = Adam(learning_rate = 0.0015), \n",
        "              metrics = ['mse'])\n",
        "\n",
        "res = model.fit(train_ds, \n",
        "                validation_data = val_ds, \n",
        "                epochs = 50, \n",
        "                verbose = 0,\n",
        "                callbacks = [early_stop])\n",
        "\n",
        "print_last(res)"
      ],
      "metadata": {
        "colab": {
          "base_uri": "https://localhost:8080/"
        },
        "id": "mK0SEIMNd5ck",
        "outputId": "832f8024-801d-41a2-c58d-915f19b67c72"
      },
      "execution_count": 22,
      "outputs": [
        {
          "output_type": "stream",
          "name": "stdout",
          "text": [
            "Mean Absolute Error - Training: 0.19264\n",
            "Mean Absolute Error - Testing: 0.19154\n",
            "Root Mean Squared Error - Training: 0.62282\n",
            "Root Mean Squared Error - Testing: 0.57525\n"
          ]
        }
      ]
    },
    {
      "cell_type": "code",
      "source": [
        "model = Sequential()\n",
        "\n",
        "model.add(SimpleRNN(32, input_shape = [None,1], return_sequences = True))\n",
        "model.add(SimpleRNN(32, input_shape = [None,1]))\n",
        "model.add(Dense(1, activation = 'linear'))\n",
        "\n",
        "model.compile(loss = 'mae',\n",
        "              optimizer = Adam(learning_rate = 0.002), \n",
        "              metrics = ['mse'])\n",
        "\n",
        "res = model.fit(train_ds, \n",
        "                validation_data = val_ds, \n",
        "                epochs = 50, \n",
        "                verbose = 0,\n",
        "                callbacks = [early_stop])\n",
        "\n",
        "print_last(res)"
      ],
      "metadata": {
        "colab": {
          "base_uri": "https://localhost:8080/"
        },
        "id": "mzK6pqn7TL_x",
        "outputId": "5d350300-1ad1-4a44-a177-76677b3aadae"
      },
      "execution_count": 16,
      "outputs": [
        {
          "output_type": "stream",
          "name": "stdout",
          "text": [
            "Mean Absolute Error - Training: 0.1975\n",
            "Mean Absolute Error - Testing: 0.2135\n",
            "Root Mean Squared Error - Training: 0.62853\n",
            "Root Mean Squared Error - Testing: 0.5804\n"
          ]
        }
      ]
    },
    {
      "cell_type": "code",
      "source": [
        "model = Sequential()\n",
        "\n",
        "model.add(SimpleRNN(32, input_shape = [None,1], return_sequences = True))\n",
        "model.add(SimpleRNN(32, input_shape = [None,1]))\n",
        "model.add(Dense(1, activation = 'linear'))\n",
        "\n",
        "model.compile(loss = 'mae',\n",
        "              optimizer = Adam(learning_rate = 0.0025), \n",
        "              metrics = ['mse'])\n",
        "\n",
        "res = model.fit(train_ds, \n",
        "                validation_data = val_ds, \n",
        "                epochs = 50, \n",
        "                verbose = 0,\n",
        "                callbacks = [early_stop])\n",
        "\n",
        "print_last(res)"
      ],
      "metadata": {
        "id": "N4wZ9fVsTMja",
        "colab": {
          "base_uri": "https://localhost:8080/"
        },
        "outputId": "9289a217-03d0-4cbb-b7c2-244953e145d7"
      },
      "execution_count": 23,
      "outputs": [
        {
          "output_type": "stream",
          "name": "stdout",
          "text": [
            "Mean Absolute Error - Training: 0.19755\n",
            "Mean Absolute Error - Testing: 0.21749\n",
            "Root Mean Squared Error - Training: 0.62439\n",
            "Root Mean Squared Error - Testing: 0.57543\n"
          ]
        }
      ]
    },
    {
      "cell_type": "code",
      "source": [
        "model = Sequential()\n",
        "\n",
        "model.add(SimpleRNN(32, input_shape = [None,1], return_sequences = True))\n",
        "model.add(SimpleRNN(32, input_shape = [None,1]))\n",
        "model.add(Dense(1, activation = 'linear'))\n",
        "\n",
        "model.compile(loss = 'mae',\n",
        "              optimizer = Adam(learning_rate = 0.003), \n",
        "              metrics = ['mse'])\n",
        "\n",
        "res = model.fit(train_ds, \n",
        "                validation_data = val_ds, \n",
        "                epochs = 50, \n",
        "                verbose = 0,\n",
        "                callbacks = [early_stop])\n",
        "\n",
        "print_last(res)"
      ],
      "metadata": {
        "colab": {
          "base_uri": "https://localhost:8080/"
        },
        "id": "z-P-6_tfd9IS",
        "outputId": "7e889f5d-452b-4073-806f-f3e8fd4b8ee2"
      },
      "execution_count": 24,
      "outputs": [
        {
          "output_type": "stream",
          "name": "stdout",
          "text": [
            "Mean Absolute Error - Training: 0.19979\n",
            "Mean Absolute Error - Testing: 0.20776\n",
            "Root Mean Squared Error - Training: 0.62893\n",
            "Root Mean Squared Error - Testing: 0.5804\n"
          ]
        }
      ]
    },
    {
      "cell_type": "code",
      "source": [
        "model = Sequential()\n",
        "\n",
        "model.add(SimpleRNN(32, input_shape = [None,1], return_sequences = True))\n",
        "model.add(SimpleRNN(32, input_shape = [None,1]))\n",
        "model.add(Dense(1, activation = 'linear'))\n",
        "\n",
        "model.compile(loss = 'mae',\n",
        "              optimizer = Adam(learning_rate = 0.0035), \n",
        "              metrics = ['mse'])\n",
        "\n",
        "res = model.fit(train_ds, \n",
        "                validation_data = val_ds, \n",
        "                epochs = 50, \n",
        "                verbose = 0,\n",
        "                callbacks = [early_stop])\n",
        "\n",
        "print_last(res)"
      ],
      "metadata": {
        "colab": {
          "base_uri": "https://localhost:8080/"
        },
        "id": "QOrAOfxxd9Fq",
        "outputId": "6dc8a2be-c8ad-4ea3-a4dd-0a30ae0247b0"
      },
      "execution_count": 25,
      "outputs": [
        {
          "output_type": "stream",
          "name": "stdout",
          "text": [
            "Mean Absolute Error - Training: 0.20235\n",
            "Mean Absolute Error - Testing: 0.20066\n",
            "Root Mean Squared Error - Training: 0.62587\n",
            "Root Mean Squared Error - Testing: 0.57981\n"
          ]
        }
      ]
    },
    {
      "cell_type": "markdown",
      "source": [
        "The BEST model for Root Mean Squared Error is two SimpleRNNs with 32 nodes each, adam optimizer with 0.0015 learning rate, and with 15-min intervals of 96 (1 day)\n",
        "\n",
        "Best RMSE - 0.57525"
      ],
      "metadata": {
        "id": "WmjFahALkfIx"
      }
    },
    {
      "cell_type": "markdown",
      "source": [
        "---\n",
        "# Hourly Modeling\n",
        "---"
      ],
      "metadata": {
        "id": "ujA6aND3TM_0"
      }
    },
    {
      "cell_type": "code",
      "source": [
        "hourly = df.resample('H').mean()\n",
        "hourly = hourly.interpolate(method = 'pad')"
      ],
      "metadata": {
        "id": "YZ6XQUABTaiw"
      },
      "execution_count": 18,
      "outputs": []
    },
    {
      "cell_type": "code",
      "source": [
        "y_train, y_test = train_test_split(hourly, shuffle = False, test_size = 0.15)"
      ],
      "metadata": {
        "id": "lGfP9sEwTMgx"
      },
      "execution_count": 20,
      "outputs": []
    },
    {
      "cell_type": "markdown",
      "source": [
        "Investigating at 13-hour intervals"
      ],
      "metadata": {
        "id": "PsGdxEen4zTX"
      }
    },
    {
      "cell_type": "code",
      "source": [
        "seq_length = 13\n",
        "train_ds = timeseries_dataset_from_array(\n",
        "    y_train.to_numpy(),\n",
        "    targets = y_train[seq_length:],\n",
        "    sequence_length = seq_length,\n",
        "    batch_size = 48,\n",
        "    shuffle = True,\n",
        "    seed = 42\n",
        ")\n",
        "\n",
        "val_ds = timeseries_dataset_from_array(\n",
        "    y_test.to_numpy(),\n",
        "    targets = y_test[seq_length:],\n",
        "    sequence_length = seq_length,\n",
        "    batch_size = 48,\n",
        ")"
      ],
      "metadata": {
        "id": "cvOqpKTETMXo"
      },
      "execution_count": 21,
      "outputs": []
    },
    {
      "cell_type": "code",
      "source": [
        "model = Sequential()\n",
        "model.add(SimpleRNN(1, input_shape = [None,1]))\n",
        "model.add(Dense(1, activation = 'linear'))\n",
        "\n",
        "model.compile(loss = 'mae',\n",
        "              optimizer = Adam(learning_rate = 0.001), \n",
        "              metrics = ['mse'])\n",
        "\n",
        "res = model.fit(train_ds, \n",
        "                validation_data = val_ds, \n",
        "                epochs = 50, \n",
        "                verbose = 0)\n",
        "\n",
        "print_last(res)"
      ],
      "metadata": {
        "colab": {
          "base_uri": "https://localhost:8080/"
        },
        "id": "62ZFWK3UTMVe",
        "outputId": "9b9d453c-5c4e-4ccc-b42f-e57078e92593"
      },
      "execution_count": 22,
      "outputs": [
        {
          "output_type": "stream",
          "name": "stdout",
          "text": [
            "Mean Absolute Error - Training: 0.38861\n",
            "Mean Absolute Error - Testing: 0.43767\n",
            "Root Mean Squared Error - Training: 0.75304\n",
            "Root Mean Squared Error - Testing: 0.78704\n"
          ]
        }
      ]
    },
    {
      "cell_type": "code",
      "source": [
        "model = Sequential()\n",
        "\n",
        "model.add(SimpleRNN(48, input_shape = [None,1]))\n",
        "model.add(Dense(1, activation = 'linear'))\n",
        "\n",
        "model.compile(loss = 'mae',\n",
        "              optimizer = Adam(learning_rate = 0.001), \n",
        "              metrics = ['mse'])\n",
        "\n",
        "res = model.fit(train_ds, \n",
        "                validation_data = val_ds, \n",
        "                epochs = 50, \n",
        "                verbose = 0,\n",
        "                callbacks = [early_stop])\n",
        "\n",
        "print_last(res)"
      ],
      "metadata": {
        "colab": {
          "base_uri": "https://localhost:8080/"
        },
        "id": "ImbVJYVCTMRK",
        "outputId": "fe552f44-6577-445c-9d6c-c6138de55e2c"
      },
      "execution_count": 23,
      "outputs": [
        {
          "output_type": "stream",
          "name": "stdout",
          "text": [
            "Mean Absolute Error - Training: 0.26817\n",
            "Mean Absolute Error - Testing: 0.26548\n",
            "Root Mean Squared Error - Training: 0.6397\n",
            "Root Mean Squared Error - Testing: 0.61109\n"
          ]
        }
      ]
    },
    {
      "cell_type": "code",
      "source": [
        "model = Sequential()\n",
        "\n",
        "model.add(SimpleRNN(48, input_shape = [None,1], return_sequences = True))\n",
        "model.add(SimpleRNN(48, input_shape = [None,1]))\n",
        "model.add(Dense(1, activation = 'linear'))\n",
        "\n",
        "model.compile(loss = 'mae',\n",
        "              optimizer = Adam(learning_rate = 0.001), \n",
        "              metrics = ['mse'])\n",
        "\n",
        "res = model.fit(train_ds, \n",
        "                validation_data = val_ds, \n",
        "                epochs = 50, \n",
        "                verbose = 0,\n",
        "                callbacks = [early_stop])\n",
        "\n",
        "print_last(res)"
      ],
      "metadata": {
        "colab": {
          "base_uri": "https://localhost:8080/"
        },
        "id": "IkKOIMdmTMKh",
        "outputId": "6575464e-e870-48da-cdd1-e5911f9156d7"
      },
      "execution_count": 24,
      "outputs": [
        {
          "output_type": "stream",
          "name": "stdout",
          "text": [
            "Mean Absolute Error - Training: 0.24879\n",
            "Mean Absolute Error - Testing: 0.25638\n",
            "Root Mean Squared Error - Training: 0.58858\n",
            "Root Mean Squared Error - Testing: 0.59543\n"
          ]
        }
      ]
    },
    {
      "cell_type": "markdown",
      "source": [
        "Investigating 24-hour intervals"
      ],
      "metadata": {
        "id": "vbXE7hJ1iKbj"
      }
    },
    {
      "cell_type": "code",
      "source": [
        "seq_length = 24\n",
        "train_ds = timeseries_dataset_from_array(\n",
        "    y_train.to_numpy(),\n",
        "    targets = y_train[seq_length:],\n",
        "    sequence_length = seq_length,\n",
        "    batch_size = 48,\n",
        "    shuffle = True,\n",
        "    seed = 42\n",
        ")\n",
        "\n",
        "val_ds = timeseries_dataset_from_array(\n",
        "    y_test.to_numpy(),\n",
        "    targets = y_test[seq_length:],\n",
        "    sequence_length = seq_length,\n",
        "    batch_size = 48,\n",
        ")"
      ],
      "metadata": {
        "id": "nDoSonnSTMCQ"
      },
      "execution_count": 25,
      "outputs": []
    },
    {
      "cell_type": "code",
      "source": [
        "model = Sequential()\n",
        "\n",
        "model.add(SimpleRNN(48, input_shape = [None,1]))\n",
        "model.add(Dense(1, activation = 'linear'))\n",
        "\n",
        "model.compile(loss = 'mae',\n",
        "              optimizer = Adam(learning_rate = 0.001), \n",
        "              metrics = ['mse'])\n",
        "\n",
        "res = model.fit(train_ds, \n",
        "                validation_data = val_ds, \n",
        "                epochs = 50, \n",
        "                verbose = 0,\n",
        "                callbacks = [early_stop])\n",
        "\n",
        "print_last(res)"
      ],
      "metadata": {
        "id": "l3JHGAENTL_y",
        "colab": {
          "base_uri": "https://localhost:8080/"
        },
        "outputId": "0fbcd69b-b118-451f-abc3-d386c2ddb8ed"
      },
      "execution_count": 26,
      "outputs": [
        {
          "output_type": "stream",
          "name": "stdout",
          "text": [
            "Mean Absolute Error - Training: 0.23995\n",
            "Mean Absolute Error - Testing: 0.24659\n",
            "Root Mean Squared Error - Training: 0.58851\n",
            "Root Mean Squared Error - Testing: 0.56296\n"
          ]
        }
      ]
    },
    {
      "cell_type": "code",
      "source": [
        "model = Sequential()\n",
        "\n",
        "model.add(SimpleRNN(48, input_shape = [None,1], return_sequences = True))\n",
        "model.add(SimpleRNN(48, input_shape = [None,1]))\n",
        "model.add(Dense(1, activation = 'linear'))\n",
        "\n",
        "model.compile(loss = 'mae',\n",
        "              optimizer = Adam(learning_rate = 0.001), \n",
        "              metrics = ['mse'])\n",
        "\n",
        "res = model.fit(train_ds, \n",
        "                validation_data = val_ds, \n",
        "                epochs = 50, \n",
        "                verbose = 0,\n",
        "                callbacks = [early_stop])\n",
        "\n",
        "print_last(res)"
      ],
      "metadata": {
        "id": "UhZO4J2eTL9H",
        "colab": {
          "base_uri": "https://localhost:8080/"
        },
        "outputId": "ea94dfdc-339b-4540-a5ef-0111871430cd"
      },
      "execution_count": 27,
      "outputs": [
        {
          "output_type": "stream",
          "name": "stdout",
          "text": [
            "Mean Absolute Error - Training: 0.22909\n",
            "Mean Absolute Error - Testing: 0.2468\n",
            "Root Mean Squared Error - Training: 0.56309\n",
            "Root Mean Squared Error - Testing: 0.55242\n"
          ]
        }
      ]
    },
    {
      "cell_type": "code",
      "source": [
        "model = Sequential()\n",
        "\n",
        "model.add(SimpleRNN(72, input_shape = [None,1]))\n",
        "model.add(Dense(1, activation = 'linear'))\n",
        "\n",
        "model.compile(loss = 'mae',\n",
        "              optimizer = Adam(learning_rate = 0.001), \n",
        "              metrics = ['mse'])\n",
        "\n",
        "res = model.fit(train_ds, \n",
        "                validation_data = val_ds, \n",
        "                epochs = 50, \n",
        "                verbose = 0,\n",
        "                callbacks = [early_stop])\n",
        "\n",
        "print_last(res)"
      ],
      "metadata": {
        "colab": {
          "base_uri": "https://localhost:8080/"
        },
        "id": "GIFEKEdn5gVn",
        "outputId": "2f6bb0c3-bd45-4f9c-9e4f-9f649e104a16"
      },
      "execution_count": 28,
      "outputs": [
        {
          "output_type": "stream",
          "name": "stdout",
          "text": [
            "Mean Absolute Error - Training: 0.23542\n",
            "Mean Absolute Error - Testing: 0.23287\n",
            "Root Mean Squared Error - Training: 0.57461\n",
            "Root Mean Squared Error - Testing: 0.55874\n"
          ]
        }
      ]
    },
    {
      "cell_type": "code",
      "source": [
        "model = Sequential()\n",
        "\n",
        "model.add(SimpleRNN(72, input_shape = [None,1], return_sequences = True))\n",
        "model.add(SimpleRNN(48, input_shape = [None,1]))\n",
        "model.add(Dense(1, activation = 'linear'))\n",
        "\n",
        "model.compile(loss = 'mae',\n",
        "              optimizer = Adam(learning_rate = 0.001), \n",
        "              metrics = ['mse'])\n",
        "\n",
        "res = model.fit(train_ds, \n",
        "                validation_data = val_ds, \n",
        "                epochs = 50, \n",
        "                verbose = 0,\n",
        "                callbacks = [early_stop])\n",
        "\n",
        "print_last(res)"
      ],
      "metadata": {
        "colab": {
          "base_uri": "https://localhost:8080/"
        },
        "id": "Z2yS-u3W5hyf",
        "outputId": "2693ec37-2357-4a5f-f9fb-c07c66f55958"
      },
      "execution_count": 29,
      "outputs": [
        {
          "output_type": "stream",
          "name": "stdout",
          "text": [
            "Mean Absolute Error - Training: 0.23594\n",
            "Mean Absolute Error - Testing: 0.24107\n",
            "Root Mean Squared Error - Training: 0.57315\n",
            "Root Mean Squared Error - Testing: 0.54415\n"
          ]
        }
      ]
    },
    {
      "cell_type": "code",
      "source": [
        "model = Sequential()\n",
        "\n",
        "model.add(SimpleRNN(48, input_shape = [None,1], return_sequences = True))\n",
        "model.add(SimpleRNN(72, input_shape = [None,1]))\n",
        "model.add(Dense(1, activation = 'linear'))\n",
        "\n",
        "model.compile(loss = 'mae',\n",
        "              optimizer = Adam(learning_rate = 0.001), \n",
        "              metrics = ['mse'])\n",
        "\n",
        "res = model.fit(train_ds, \n",
        "                validation_data = val_ds, \n",
        "                epochs = 50, \n",
        "                verbose = 0,\n",
        "                callbacks = [early_stop])\n",
        "\n",
        "print_last(res)"
      ],
      "metadata": {
        "colab": {
          "base_uri": "https://localhost:8080/"
        },
        "id": "WQ_CL1q15nDJ",
        "outputId": "966564af-a274-43d3-d0a9-c158c4c9ea88"
      },
      "execution_count": 30,
      "outputs": [
        {
          "output_type": "stream",
          "name": "stdout",
          "text": [
            "Mean Absolute Error - Training: 0.24842\n",
            "Mean Absolute Error - Testing: 0.24889\n",
            "Root Mean Squared Error - Training: 0.57893\n",
            "Root Mean Squared Error - Testing: 0.5649\n"
          ]
        }
      ]
    },
    {
      "cell_type": "markdown",
      "source": [
        "---\n",
        "# Daily Modeling\n",
        "---"
      ],
      "metadata": {
        "id": "TWa-AoHwe6Z7"
      }
    },
    {
      "cell_type": "code",
      "source": [
        "daily = df.resample('D').max()"
      ],
      "metadata": {
        "id": "ZvqK_fbLTL5C"
      },
      "execution_count": null,
      "outputs": []
    },
    {
      "cell_type": "code",
      "source": [
        "y_train, y_test = train_test_split(daily, shuffle = False, test_size = 0.15)"
      ],
      "metadata": {
        "id": "cpXAD3EVTL2l"
      },
      "execution_count": null,
      "outputs": []
    },
    {
      "cell_type": "markdown",
      "source": [
        "Investigating 1-week intervals"
      ],
      "metadata": {
        "id": "5wQFGONoiSSA"
      }
    },
    {
      "cell_type": "code",
      "source": [
        "seq_length = 7\n",
        "train_ds = timeseries_dataset_from_array(\n",
        "    y_train.to_numpy(),\n",
        "    targets = y_train[seq_length:],\n",
        "    sequence_length = seq_length,\n",
        "    batch_size = 28,\n",
        "    shuffle = True,\n",
        "    seed = 42\n",
        ")\n",
        "\n",
        "val_ds = timeseries_dataset_from_array(\n",
        "    y_test.to_numpy(),\n",
        "    targets = y_test[seq_length:],\n",
        "    sequence_length = seq_length,\n",
        "    batch_size = 28,\n",
        ")"
      ],
      "metadata": {
        "id": "lgZPEcmeTLxo"
      },
      "execution_count": null,
      "outputs": []
    },
    {
      "cell_type": "code",
      "source": [
        "model = Sequential()\n",
        "\n",
        "model.add(SimpleRNN(1, input_shape = [None,1]))\n",
        "model.add(Dense(1, activation = 'linear'))\n",
        "\n",
        "model.compile(loss = 'mae',\n",
        "              optimizer = Adam(learning_rate = 0.001), \n",
        "              metrics = ['mse'])\n",
        "\n",
        "res = model.fit(train_ds, \n",
        "                validation_data = val_ds, \n",
        "                epochs = 50, \n",
        "                verbose = 0,\n",
        "                callbacks = [early_stop])\n",
        "\n",
        "print_last(res)"
      ],
      "metadata": {
        "colab": {
          "base_uri": "https://localhost:8080/"
        },
        "id": "Uc7twTJKTLvE",
        "outputId": "4afe7535-43df-4be9-e51d-af6fb28dcc18"
      },
      "execution_count": null,
      "outputs": [
        {
          "output_type": "stream",
          "name": "stdout",
          "text": [
            "Mean Absolute Error - Training: 2.97925\n",
            "Mean Absolute Error - Testing: 3.46389\n",
            "Root Mean Squared Error - Training: 3.21027\n",
            "Root Mean Squared Error - Testing: 3.56108\n"
          ]
        }
      ]
    },
    {
      "cell_type": "code",
      "source": [
        "model = Sequential()\n",
        "\n",
        "model.add(SimpleRNN(7, input_shape = [None,1]))\n",
        "model.add(Dense(1, activation = 'linear'))\n",
        "\n",
        "model.compile(loss = 'mae',\n",
        "              optimizer = Adam(learning_rate = 0.001), \n",
        "              metrics = ['mse'])\n",
        "\n",
        "res = model.fit(train_ds, \n",
        "                validation_data = val_ds, \n",
        "                epochs = 50, \n",
        "                verbose = 0,\n",
        "                callbacks = [early_stop])\n",
        "\n",
        "print_last(res)"
      ],
      "metadata": {
        "colab": {
          "base_uri": "https://localhost:8080/"
        },
        "id": "y9YV5qgsfwaT",
        "outputId": "120f5464-bbf7-4586-8383-c0d8b4148056"
      },
      "execution_count": null,
      "outputs": [
        {
          "output_type": "stream",
          "name": "stdout",
          "text": [
            "Mean Absolute Error - Training: 0.70374\n",
            "Mean Absolute Error - Testing: 0.48941\n",
            "Root Mean Squared Error - Training: 1.20097\n",
            "Root Mean Squared Error - Testing: 0.92623\n"
          ]
        }
      ]
    },
    {
      "cell_type": "code",
      "source": [
        "model = Sequential()\n",
        "\n",
        "model.add(SimpleRNN(12, input_shape = [None,1]))\n",
        "model.add(Dense(1, activation = 'linear'))\n",
        "\n",
        "model.compile(loss = 'mae',\n",
        "              optimizer = Adam(learning_rate = 0.001), \n",
        "              metrics = ['mse'])\n",
        "\n",
        "res = model.fit(train_ds, \n",
        "                validation_data = val_ds, \n",
        "                epochs = 50, \n",
        "                verbose = 0,\n",
        "                callbacks = [early_stop])\n",
        "\n",
        "print_last(res)"
      ],
      "metadata": {
        "colab": {
          "base_uri": "https://localhost:8080/"
        },
        "id": "z6p76hBZf4Z8",
        "outputId": "78e29327-f485-478d-ee79-53bedba511f5"
      },
      "execution_count": null,
      "outputs": [
        {
          "output_type": "stream",
          "name": "stdout",
          "text": [
            "Mean Absolute Error - Training: 0.71602\n",
            "Mean Absolute Error - Testing: 0.49184\n",
            "Root Mean Squared Error - Training: 1.1997\n",
            "Root Mean Squared Error - Testing: 0.94834\n"
          ]
        }
      ]
    },
    {
      "cell_type": "code",
      "source": [
        "model = Sequential()\n",
        "\n",
        "model.add(SimpleRNN(31, input_shape = [None,1]))\n",
        "model.add(Dense(1, activation = 'linear'))\n",
        "\n",
        "model.compile(loss = 'mae',\n",
        "              optimizer = Adam(learning_rate = 0.001), \n",
        "              metrics = ['mse'])\n",
        "\n",
        "res = model.fit(train_ds, \n",
        "                validation_data = val_ds, \n",
        "                epochs = 50, \n",
        "                verbose = 0,\n",
        "                callbacks = [early_stop])\n",
        "\n",
        "print_last(res)"
      ],
      "metadata": {
        "colab": {
          "base_uri": "https://localhost:8080/"
        },
        "id": "0PLxBjFWf-tU",
        "outputId": "f5623b48-f298-4494-d294-28e382ce98fb"
      },
      "execution_count": null,
      "outputs": [
        {
          "output_type": "stream",
          "name": "stdout",
          "text": [
            "Mean Absolute Error - Training: 0.67558\n",
            "Mean Absolute Error - Testing: 0.48527\n",
            "Root Mean Squared Error - Training: 1.16008\n",
            "Root Mean Squared Error - Testing: 0.93525\n"
          ]
        }
      ]
    },
    {
      "cell_type": "code",
      "source": [
        "model = Sequential()\n",
        "\n",
        "model.add(SimpleRNN(365, input_shape = [None,1]))\n",
        "model.add(Dense(1, activation = 'linear'))\n",
        "\n",
        "model.compile(loss = 'mae',\n",
        "              optimizer = Adam(learning_rate = 0.001), \n",
        "              metrics = ['mse'])\n",
        "\n",
        "res = model.fit(train_ds, \n",
        "                validation_data = val_ds, \n",
        "                epochs = 50, \n",
        "                verbose = 0,\n",
        "                callbacks = [early_stop])\n",
        "\n",
        "print_last(res)"
      ],
      "metadata": {
        "colab": {
          "base_uri": "https://localhost:8080/"
        },
        "id": "85YkZiZYgPX3",
        "outputId": "fb1a6014-2fdd-4cd1-e735-97aa6f1d5702"
      },
      "execution_count": null,
      "outputs": [
        {
          "output_type": "stream",
          "name": "stdout",
          "text": [
            "Mean Absolute Error - Training: 0.71347\n",
            "Mean Absolute Error - Testing: 0.45891\n",
            "Root Mean Squared Error - Training: 1.17209\n",
            "Root Mean Squared Error - Testing: 0.86097\n"
          ]
        }
      ]
    },
    {
      "cell_type": "code",
      "source": [
        "model = Sequential()\n",
        "\n",
        "model.add(SimpleRNN(7, input_shape = [None,1], return_sequences = True))\n",
        "model.add(SimpleRNN(7, input_shape = [None,1]))\n",
        "model.add(Dense(1, activation = 'linear'))\n",
        "\n",
        "model.compile(loss = 'mae',\n",
        "              optimizer = Adam(learning_rate = 0.001), \n",
        "              metrics = ['mse'])\n",
        "\n",
        "res = model.fit(train_ds, \n",
        "                validation_data = val_ds, \n",
        "                epochs = 50, \n",
        "                verbose = 0,\n",
        "                callbacks = [early_stop])\n",
        "\n",
        "print_last(res)"
      ],
      "metadata": {
        "colab": {
          "base_uri": "https://localhost:8080/"
        },
        "id": "EEu26COfTLhO",
        "outputId": "cf959e1e-f4cd-45eb-f270-2a386e563899"
      },
      "execution_count": null,
      "outputs": [
        {
          "output_type": "stream",
          "name": "stdout",
          "text": [
            "Mean Absolute Error - Training: 0.66618\n",
            "Mean Absolute Error - Testing: 0.45112\n",
            "Root Mean Squared Error - Training: 1.16447\n",
            "Root Mean Squared Error - Testing: 0.88664\n"
          ]
        }
      ]
    },
    {
      "cell_type": "code",
      "source": [
        "model = Sequential()\n",
        "\n",
        "model.add(SimpleRNN(30, input_shape = [None,1], return_sequences = True))\n",
        "model.add(SimpleRNN(365, input_shape = [None,1]))\n",
        "model.add(Dense(1, activation = 'linear'))\n",
        "\n",
        "model.compile(loss = 'mae',\n",
        "              optimizer = Adam(learning_rate = 0.001), \n",
        "              metrics = ['mse'])\n",
        "\n",
        "res = model.fit(train_ds, \n",
        "                validation_data = val_ds, \n",
        "                epochs = 50, \n",
        "                verbose = 0,\n",
        "                callbacks = [early_stop])\n",
        "\n",
        "print_last(res)"
      ],
      "metadata": {
        "colab": {
          "base_uri": "https://localhost:8080/"
        },
        "id": "thpl3799fuWs",
        "outputId": "b04dd5ea-67ae-4165-cd39-7416b316ff19"
      },
      "execution_count": null,
      "outputs": [
        {
          "output_type": "stream",
          "name": "stdout",
          "text": [
            "Mean Absolute Error - Training: 0.7034\n",
            "Mean Absolute Error - Testing: 0.46779\n",
            "Root Mean Squared Error - Training: 1.17327\n",
            "Root Mean Squared Error - Testing: 0.92003\n"
          ]
        }
      ]
    },
    {
      "cell_type": "code",
      "source": [
        "model = Sequential()\n",
        "\n",
        "model.add(SimpleRNN(30, input_shape = [None,1], return_sequences = True))\n",
        "model.add(SimpleRNN(90, input_shape = [None,1], return_sequences = True))\n",
        "model.add(SimpleRNN(365, input_shape = [None,1]))\n",
        "model.add(Dense(1, activation = 'linear'))\n",
        "\n",
        "model.compile(loss = 'mae',\n",
        "              optimizer = Adam(learning_rate = 0.001), \n",
        "              metrics = ['mse'])\n",
        "\n",
        "res = model.fit(train_ds, \n",
        "                validation_data = val_ds, \n",
        "                epochs = 50, \n",
        "                verbose = 0,\n",
        "                callbacks = [early_stop])\n",
        "\n",
        "print_last(res)"
      ],
      "metadata": {
        "colab": {
          "base_uri": "https://localhost:8080/"
        },
        "id": "qEEu0j9uioIC",
        "outputId": "886649f2-6710-400f-cfab-74c29427bab2"
      },
      "execution_count": null,
      "outputs": [
        {
          "output_type": "stream",
          "name": "stdout",
          "text": [
            "Mean Absolute Error - Training: 0.74808\n",
            "Mean Absolute Error - Testing: 0.45809\n",
            "Root Mean Squared Error - Training: 1.20196\n",
            "Root Mean Squared Error - Testing: 0.90456\n"
          ]
        }
      ]
    },
    {
      "cell_type": "code",
      "source": [
        "model = Sequential()\n",
        "\n",
        "model.add(SimpleRNN(30, input_shape = [None,1], return_sequences = True))\n",
        "model.add(SimpleRNN(365, input_shape = [None,1], return_sequences = True))\n",
        "model.add(SimpleRNN(365, input_shape = [None,1]))\n",
        "model.add(Dense(1, activation = 'linear'))\n",
        "\n",
        "model.compile(loss = 'mae',\n",
        "              optimizer = Adam(learning_rate = 0.001), \n",
        "              metrics = ['mse'])\n",
        "\n",
        "res = model.fit(train_ds, \n",
        "                validation_data = val_ds, \n",
        "                epochs = 50, \n",
        "                verbose = 0,\n",
        "                callbacks = [early_stop])\n",
        "\n",
        "print_last(res)"
      ],
      "metadata": {
        "colab": {
          "base_uri": "https://localhost:8080/"
        },
        "id": "_yt2igGX5ImR",
        "outputId": "452b92f3-7393-4ef2-fc2b-172ccb9ef182"
      },
      "execution_count": null,
      "outputs": [
        {
          "output_type": "stream",
          "name": "stdout",
          "text": [
            "Mean Absolute Error - Training: 0.70613\n",
            "Mean Absolute Error - Testing: 0.51573\n",
            "Root Mean Squared Error - Training: 1.18259\n",
            "Root Mean Squared Error - Testing: 0.99389\n"
          ]
        }
      ]
    },
    {
      "cell_type": "code",
      "source": [
        "model = Sequential()\n",
        "\n",
        "model.add(SimpleRNN(7, input_shape = [None,1], return_sequences = True))\n",
        "model.add(SimpleRNN(30, input_shape = [None,1], return_sequences = True))\n",
        "model.add(SimpleRNN(365, input_shape = [None,1]))\n",
        "model.add(Dense(1, activation = 'linear'))\n",
        "\n",
        "model.compile(loss = 'mae',\n",
        "              optimizer = Adam(learning_rate = 0.001), \n",
        "              metrics = ['mse'])\n",
        "\n",
        "res = model.fit(train_ds, \n",
        "                validation_data = val_ds, \n",
        "                epochs = 50, \n",
        "                verbose = 0,\n",
        "                callbacks = [early_stop])\n",
        "\n",
        "print_last(res)"
      ],
      "metadata": {
        "colab": {
          "base_uri": "https://localhost:8080/"
        },
        "id": "KVJhCPvK5UQI",
        "outputId": "d27d7d0a-502b-46dc-a902-0148a50ec3fe"
      },
      "execution_count": null,
      "outputs": [
        {
          "output_type": "stream",
          "name": "stdout",
          "text": [
            "Mean Absolute Error - Training: 0.71206\n",
            "Mean Absolute Error - Testing: 0.50099\n",
            "Root Mean Squared Error - Training: 1.18455\n",
            "Root Mean Squared Error - Testing: 0.95314\n"
          ]
        }
      ]
    },
    {
      "cell_type": "markdown",
      "source": [
        "Investigating 30-day intervals\n"
      ],
      "metadata": {
        "id": "Fm87PmmYiXoo"
      }
    },
    {
      "cell_type": "code",
      "source": [
        "seq_length = 30\n",
        "train_ds = timeseries_dataset_from_array(\n",
        "    y_train.to_numpy(),\n",
        "    targets = y_train[seq_length:],\n",
        "    sequence_length = seq_length,\n",
        "    batch_size = 90,\n",
        "    shuffle = True,\n",
        "    seed = 42\n",
        ")\n",
        "\n",
        "val_ds = timeseries_dataset_from_array(\n",
        "    y_test.to_numpy(),\n",
        "    targets = y_test[seq_length:],\n",
        "    sequence_length = seq_length,\n",
        "    batch_size = 90,\n",
        ")"
      ],
      "metadata": {
        "id": "t-dWEbDY5I5_"
      },
      "execution_count": null,
      "outputs": []
    },
    {
      "cell_type": "code",
      "source": [
        "model = Sequential()\n",
        "\n",
        "model.add(SimpleRNN(30, input_shape = [None,1], return_sequences = True))\n",
        "model.add(SimpleRNN(365, input_shape = [None,1]))\n",
        "model.add(Dense(1, activation = 'linear'))\n",
        "\n",
        "model.compile(loss = 'mae',\n",
        "              optimizer = Adam(learning_rate = 0.001), \n",
        "              metrics = ['mse'])\n",
        "\n",
        "res = model.fit(train_ds, \n",
        "                validation_data = val_ds, \n",
        "                epochs = 50, \n",
        "                verbose = 0,\n",
        "                callbacks = [early_stop])\n",
        "\n",
        "print_last(res)"
      ],
      "metadata": {
        "colab": {
          "base_uri": "https://localhost:8080/"
        },
        "id": "LfoIoJAY5K2P",
        "outputId": "3c205e5c-55d7-4a26-a604-d68d92ca14e4"
      },
      "execution_count": null,
      "outputs": [
        {
          "output_type": "stream",
          "name": "stdout",
          "text": [
            "Mean Absolute Error - Training: 0.68509\n",
            "Mean Absolute Error - Testing: 0.51687\n",
            "Root Mean Squared Error - Training: 1.17812\n",
            "Root Mean Squared Error - Testing: 1.00927\n"
          ]
        }
      ]
    },
    {
      "cell_type": "code",
      "source": [
        "model = Sequential()\n",
        "\n",
        "model.add(SimpleRNN(30, input_shape = [None,1], return_sequences = True))\n",
        "model.add(SimpleRNN(90, input_shape = [None,1], return_sequences = True))\n",
        "model.add(SimpleRNN(365, input_shape = [None,1]))\n",
        "model.add(Dense(1, activation = 'linear'))\n",
        "\n",
        "model.compile(loss = 'mae',\n",
        "              optimizer = Adam(learning_rate = 0.001), \n",
        "              metrics = ['mse'])\n",
        "\n",
        "res = model.fit(train_ds, \n",
        "                validation_data = val_ds, \n",
        "                epochs = 50, \n",
        "                verbose = 0,\n",
        "                callbacks = [early_stop])\n",
        "\n",
        "print_last(res)"
      ],
      "metadata": {
        "colab": {
          "base_uri": "https://localhost:8080/"
        },
        "id": "3R0aCvFu7jkr",
        "outputId": "f41c9a87-19a4-47d4-9584-6c248ec708d2"
      },
      "execution_count": null,
      "outputs": [
        {
          "output_type": "stream",
          "name": "stdout",
          "text": [
            "Mean Absolute Error - Training: 0.64749\n",
            "Mean Absolute Error - Testing: 0.47644\n",
            "Root Mean Squared Error - Training: 1.14527\n",
            "Root Mean Squared Error - Testing: 0.95801\n"
          ]
        }
      ]
    },
    {
      "cell_type": "markdown",
      "source": [
        "Increasing the intervals didn't seem to help. So investigating smaller intervals (3-day)"
      ],
      "metadata": {
        "id": "qxBxgbxYieB6"
      }
    },
    {
      "cell_type": "code",
      "source": [
        "seq_length = 3\n",
        "train_ds = timeseries_dataset_from_array(\n",
        "    y_train.to_numpy(),\n",
        "    targets = y_train[seq_length:],\n",
        "    sequence_length = seq_length,\n",
        "    batch_size = 21,\n",
        "    shuffle = True,\n",
        "    seed = 42\n",
        ")\n",
        "\n",
        "val_ds = timeseries_dataset_from_array(\n",
        "    y_test.to_numpy(),\n",
        "    targets = y_test[seq_length:],\n",
        "    sequence_length = seq_length,\n",
        "    batch_size = 21,\n",
        ")"
      ],
      "metadata": {
        "id": "KEksriiw9lE6"
      },
      "execution_count": null,
      "outputs": []
    },
    {
      "cell_type": "code",
      "source": [
        "model = Sequential()\n",
        "\n",
        "model.add(SimpleRNN(30, input_shape = [None,1], return_sequences = True))\n",
        "model.add(SimpleRNN(365, input_shape = [None,1]))\n",
        "model.add(Dense(1, activation = 'linear'))\n",
        "\n",
        "model.compile(loss = 'mae',\n",
        "              optimizer = Adam(learning_rate = 0.001), \n",
        "              metrics = ['mse'])\n",
        "\n",
        "res = model.fit(train_ds, \n",
        "                validation_data = val_ds, \n",
        "                epochs = 50, \n",
        "                verbose = 0,\n",
        "                callbacks = [early_stop])\n",
        "\n",
        "print_last(res)"
      ],
      "metadata": {
        "colab": {
          "base_uri": "https://localhost:8080/"
        },
        "id": "CC5m-EyC9m9x",
        "outputId": "14ee574d-250b-4afd-f517-78adce29ff77"
      },
      "execution_count": null,
      "outputs": [
        {
          "output_type": "stream",
          "name": "stdout",
          "text": [
            "Mean Absolute Error - Training: 0.77399\n",
            "Mean Absolute Error - Testing: 0.66603\n",
            "Root Mean Squared Error - Training: 1.23034\n",
            "Root Mean Squared Error - Testing: 0.90997\n"
          ]
        }
      ]
    },
    {
      "cell_type": "code",
      "source": [
        "model = Sequential()\n",
        "\n",
        "model.add(SimpleRNN(30, input_shape = [None,1], return_sequences = True))\n",
        "model.add(SimpleRNN(365, input_shape = [None,1]))\n",
        "model.add(Dense(64, activation = 'relu'))\n",
        "model.add(Dropout(0.15))\n",
        "\n",
        "model.add(Dense(1, activation = 'linear'))\n",
        "\n",
        "model.compile(loss = 'mae',\n",
        "              optimizer = Adam(learning_rate = 0.001), \n",
        "              metrics = ['mse'])\n",
        "\n",
        "res = model.fit(train_ds, \n",
        "                validation_data = val_ds, \n",
        "                epochs = 50, \n",
        "                verbose = 0,\n",
        "                callbacks = [early_stop])\n",
        "\n",
        "print_last(res)"
      ],
      "metadata": {
        "colab": {
          "base_uri": "https://localhost:8080/"
        },
        "id": "Bgdu4kz69pA9",
        "outputId": "e38e58cb-b7a4-44ad-b430-ea93027be935"
      },
      "execution_count": null,
      "outputs": [
        {
          "output_type": "stream",
          "name": "stdout",
          "text": [
            "Mean Absolute Error - Training: 0.87057\n",
            "Mean Absolute Error - Testing: 0.46883\n",
            "Root Mean Squared Error - Training: 1.31679\n",
            "Root Mean Squared Error - Testing: 0.86415\n"
          ]
        }
      ]
    },
    {
      "cell_type": "code",
      "source": [
        "model = Sequential()\n",
        "\n",
        "model.add(SimpleRNN(30, input_shape = [None,1], return_sequences = True))\n",
        "model.add(SimpleRNN(365, input_shape = [None,1]))\n",
        "model.add(Dense(32, activation = 'relu'))\n",
        "model.add(Dropout(0.15))\n",
        "model.add(Dense(32, activation = 'relu'))\n",
        "model.add(Dropout(0.15))\n",
        "model.add(Dense(1, activation = 'linear'))\n",
        "\n",
        "model.compile(loss = 'mae',\n",
        "              optimizer = Adam(learning_rate = 0.001), \n",
        "              metrics = ['mse'])\n",
        "\n",
        "res = model.fit(train_ds, \n",
        "                validation_data = val_ds, \n",
        "                epochs = 50, \n",
        "                verbose = 0,\n",
        "                callbacks = [early_stop])\n",
        "\n",
        "print_last(res)"
      ],
      "metadata": {
        "colab": {
          "base_uri": "https://localhost:8080/"
        },
        "id": "S8a1Gotq9yFP",
        "outputId": "40845168-588f-4676-f637-72ac96964e9a"
      },
      "execution_count": null,
      "outputs": [
        {
          "output_type": "stream",
          "name": "stdout",
          "text": [
            "Mean Absolute Error - Training: 0.99465\n",
            "Mean Absolute Error - Testing: 1.01416\n",
            "Root Mean Squared Error - Training: 1.38784\n",
            "Root Mean Squared Error - Testing: 1.1301\n"
          ]
        }
      ]
    }
  ]
}