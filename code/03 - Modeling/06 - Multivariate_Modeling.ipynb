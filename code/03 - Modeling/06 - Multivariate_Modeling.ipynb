{
  "nbformat": 4,
  "nbformat_minor": 0,
  "metadata": {
    "colab": {
      "provenance": []
    },
    "kernelspec": {
      "name": "python3",
      "display_name": "Python 3"
    },
    "language_info": {
      "name": "python"
    }
  },
  "cells": [
    {
      "cell_type": "markdown",
      "source": [
        "# Multivariate Modeling Using RNN\n",
        "\n",
        "#### (Meant to be run within Google Colab)"
      ],
      "metadata": {
        "id": "Jq6qXycc-pYQ"
      }
    },
    {
      "cell_type": "code",
      "execution_count": 13,
      "metadata": {
        "id": "-haMZzKzBqK5"
      },
      "outputs": [],
      "source": [
        "import pandas as pd\n",
        "import numpy as np\n",
        "import matplotlib.pyplot as plt\n",
        "\n",
        "from sklearn.preprocessing import StandardScaler\n",
        "from sklearn.model_selection import train_test_split\n",
        "from sklearn.metrics import accuracy_score, mean_squared_error, mean_absolute_error\n",
        "\n",
        "\n",
        "from tensorflow.keras.models import Sequential\n",
        "from tensorflow.keras.layers import Dense, Dropout, LSTM, SimpleRNN\n",
        "from tensorflow.keras.optimizers import Adam\n",
        "from tensorflow.keras.preprocessing.sequence import TimeseriesGenerator\n",
        "from tensorflow.keras.utils import timeseries_dataset_from_array\n",
        "from tensorflow.keras.callbacks import EarlyStopping\n",
        "\n",
        "np.random.seed(42)"
      ]
    },
    {
      "cell_type": "code",
      "source": [
        "#mount drive\n",
        "from google.colab import drive\n",
        "drive.mount('/content/drive')"
      ],
      "metadata": {
        "id": "oN6sP4_cB57m"
      },
      "execution_count": null,
      "outputs": []
    },
    {
      "cell_type": "code",
      "source": [
        "#import campus5\n",
        "from google.colab import files\n",
        "import io\n",
        "\n",
        "uploaded = files.upload()\n",
        "\n",
        "campus5 = io.BytesIO(uploaded['campus5.csv'])\n",
        "df = pd.read_csv(campus5)"
      ],
      "metadata": {
        "id": "rJNBKwZNCnGx",
        "colab": {
          "base_uri": "https://localhost:8080/",
          "height": 74
        },
        "outputId": "b5e37ac3-bc40-4b21-af2f-f29eb3740c62"
      },
      "execution_count": 14,
      "outputs": [
        {
          "output_type": "display_data",
          "data": {
            "text/plain": [
              "<IPython.core.display.HTML object>"
            ],
            "text/html": [
              "\n",
              "     <input type=\"file\" id=\"files-7770ec26-3644-4651-a4b9-54e6820847c6\" name=\"files[]\" multiple disabled\n",
              "        style=\"border:none\" />\n",
              "     <output id=\"result-7770ec26-3644-4651-a4b9-54e6820847c6\">\n",
              "      Upload widget is only available when the cell has been executed in the\n",
              "      current browser session. Please rerun this cell to enable.\n",
              "      </output>\n",
              "      <script>// Copyright 2017 Google LLC\n",
              "//\n",
              "// Licensed under the Apache License, Version 2.0 (the \"License\");\n",
              "// you may not use this file except in compliance with the License.\n",
              "// You may obtain a copy of the License at\n",
              "//\n",
              "//      http://www.apache.org/licenses/LICENSE-2.0\n",
              "//\n",
              "// Unless required by applicable law or agreed to in writing, software\n",
              "// distributed under the License is distributed on an \"AS IS\" BASIS,\n",
              "// WITHOUT WARRANTIES OR CONDITIONS OF ANY KIND, either express or implied.\n",
              "// See the License for the specific language governing permissions and\n",
              "// limitations under the License.\n",
              "\n",
              "/**\n",
              " * @fileoverview Helpers for google.colab Python module.\n",
              " */\n",
              "(function(scope) {\n",
              "function span(text, styleAttributes = {}) {\n",
              "  const element = document.createElement('span');\n",
              "  element.textContent = text;\n",
              "  for (const key of Object.keys(styleAttributes)) {\n",
              "    element.style[key] = styleAttributes[key];\n",
              "  }\n",
              "  return element;\n",
              "}\n",
              "\n",
              "// Max number of bytes which will be uploaded at a time.\n",
              "const MAX_PAYLOAD_SIZE = 100 * 1024;\n",
              "\n",
              "function _uploadFiles(inputId, outputId) {\n",
              "  const steps = uploadFilesStep(inputId, outputId);\n",
              "  const outputElement = document.getElementById(outputId);\n",
              "  // Cache steps on the outputElement to make it available for the next call\n",
              "  // to uploadFilesContinue from Python.\n",
              "  outputElement.steps = steps;\n",
              "\n",
              "  return _uploadFilesContinue(outputId);\n",
              "}\n",
              "\n",
              "// This is roughly an async generator (not supported in the browser yet),\n",
              "// where there are multiple asynchronous steps and the Python side is going\n",
              "// to poll for completion of each step.\n",
              "// This uses a Promise to block the python side on completion of each step,\n",
              "// then passes the result of the previous step as the input to the next step.\n",
              "function _uploadFilesContinue(outputId) {\n",
              "  const outputElement = document.getElementById(outputId);\n",
              "  const steps = outputElement.steps;\n",
              "\n",
              "  const next = steps.next(outputElement.lastPromiseValue);\n",
              "  return Promise.resolve(next.value.promise).then((value) => {\n",
              "    // Cache the last promise value to make it available to the next\n",
              "    // step of the generator.\n",
              "    outputElement.lastPromiseValue = value;\n",
              "    return next.value.response;\n",
              "  });\n",
              "}\n",
              "\n",
              "/**\n",
              " * Generator function which is called between each async step of the upload\n",
              " * process.\n",
              " * @param {string} inputId Element ID of the input file picker element.\n",
              " * @param {string} outputId Element ID of the output display.\n",
              " * @return {!Iterable<!Object>} Iterable of next steps.\n",
              " */\n",
              "function* uploadFilesStep(inputId, outputId) {\n",
              "  const inputElement = document.getElementById(inputId);\n",
              "  inputElement.disabled = false;\n",
              "\n",
              "  const outputElement = document.getElementById(outputId);\n",
              "  outputElement.innerHTML = '';\n",
              "\n",
              "  const pickedPromise = new Promise((resolve) => {\n",
              "    inputElement.addEventListener('change', (e) => {\n",
              "      resolve(e.target.files);\n",
              "    });\n",
              "  });\n",
              "\n",
              "  const cancel = document.createElement('button');\n",
              "  inputElement.parentElement.appendChild(cancel);\n",
              "  cancel.textContent = 'Cancel upload';\n",
              "  const cancelPromise = new Promise((resolve) => {\n",
              "    cancel.onclick = () => {\n",
              "      resolve(null);\n",
              "    };\n",
              "  });\n",
              "\n",
              "  // Wait for the user to pick the files.\n",
              "  const files = yield {\n",
              "    promise: Promise.race([pickedPromise, cancelPromise]),\n",
              "    response: {\n",
              "      action: 'starting',\n",
              "    }\n",
              "  };\n",
              "\n",
              "  cancel.remove();\n",
              "\n",
              "  // Disable the input element since further picks are not allowed.\n",
              "  inputElement.disabled = true;\n",
              "\n",
              "  if (!files) {\n",
              "    return {\n",
              "      response: {\n",
              "        action: 'complete',\n",
              "      }\n",
              "    };\n",
              "  }\n",
              "\n",
              "  for (const file of files) {\n",
              "    const li = document.createElement('li');\n",
              "    li.append(span(file.name, {fontWeight: 'bold'}));\n",
              "    li.append(span(\n",
              "        `(${file.type || 'n/a'}) - ${file.size} bytes, ` +\n",
              "        `last modified: ${\n",
              "            file.lastModifiedDate ? file.lastModifiedDate.toLocaleDateString() :\n",
              "                                    'n/a'} - `));\n",
              "    const percent = span('0% done');\n",
              "    li.appendChild(percent);\n",
              "\n",
              "    outputElement.appendChild(li);\n",
              "\n",
              "    const fileDataPromise = new Promise((resolve) => {\n",
              "      const reader = new FileReader();\n",
              "      reader.onload = (e) => {\n",
              "        resolve(e.target.result);\n",
              "      };\n",
              "      reader.readAsArrayBuffer(file);\n",
              "    });\n",
              "    // Wait for the data to be ready.\n",
              "    let fileData = yield {\n",
              "      promise: fileDataPromise,\n",
              "      response: {\n",
              "        action: 'continue',\n",
              "      }\n",
              "    };\n",
              "\n",
              "    // Use a chunked sending to avoid message size limits. See b/62115660.\n",
              "    let position = 0;\n",
              "    do {\n",
              "      const length = Math.min(fileData.byteLength - position, MAX_PAYLOAD_SIZE);\n",
              "      const chunk = new Uint8Array(fileData, position, length);\n",
              "      position += length;\n",
              "\n",
              "      const base64 = btoa(String.fromCharCode.apply(null, chunk));\n",
              "      yield {\n",
              "        response: {\n",
              "          action: 'append',\n",
              "          file: file.name,\n",
              "          data: base64,\n",
              "        },\n",
              "      };\n",
              "\n",
              "      let percentDone = fileData.byteLength === 0 ?\n",
              "          100 :\n",
              "          Math.round((position / fileData.byteLength) * 100);\n",
              "      percent.textContent = `${percentDone}% done`;\n",
              "\n",
              "    } while (position < fileData.byteLength);\n",
              "  }\n",
              "\n",
              "  // All done.\n",
              "  yield {\n",
              "    response: {\n",
              "      action: 'complete',\n",
              "    }\n",
              "  };\n",
              "}\n",
              "\n",
              "scope.google = scope.google || {};\n",
              "scope.google.colab = scope.google.colab || {};\n",
              "scope.google.colab._files = {\n",
              "  _uploadFiles,\n",
              "  _uploadFilesContinue,\n",
              "};\n",
              "})(self);\n",
              "</script> "
            ]
          },
          "metadata": {}
        },
        {
          "output_type": "stream",
          "name": "stdout",
          "text": [
            "Saving campus5.csv to campus5 (1).csv\n"
          ]
        }
      ]
    },
    {
      "cell_type": "code",
      "source": [
        "df.index = pd.to_datetime(df['Timestamp'])\n",
        "df.drop(columns = ['Timestamp', 'CampusKey', 'time'], inplace = True)\n",
        "df.shape"
      ],
      "metadata": {
        "colab": {
          "base_uri": "https://localhost:8080/"
        },
        "id": "rF-vP03EB9UQ",
        "outputId": "6bf3af79-04a4-4a13-95f4-8be5efd79a8d"
      },
      "execution_count": 15,
      "outputs": [
        {
          "output_type": "execute_result",
          "data": {
            "text/plain": [
              "(79319, 7)"
            ]
          },
          "metadata": {},
          "execution_count": 15
        }
      ]
    },
    {
      "cell_type": "code",
      "source": [
        "#ww stands for With Weather info. Which starts at index #33311\n",
        "#Interpolating any missing weather interval data\n",
        "ww = df.iloc[33311:]\n",
        "ww = ww.interpolate(method = 'linear', limit_direction = 'forward')\n",
        "ww.isnull().sum()"
      ],
      "metadata": {
        "colab": {
          "base_uri": "https://localhost:8080/"
        },
        "id": "eAUArfjqCz23",
        "outputId": "1518e34f-8a75-474c-ce38-910d2d5a3028"
      },
      "execution_count": 16,
      "outputs": [
        {
          "output_type": "execute_result",
          "data": {
            "text/plain": [
              "SolarGeneration        0\n",
              "ApparentTemperature    0\n",
              "AirTemperature         0\n",
              "DewPointTemperature    0\n",
              "RelativeHumidity       0\n",
              "WindSpeed              0\n",
              "WindDirection          0\n",
              "dtype: int64"
            ]
          },
          "metadata": {},
          "execution_count": 16
        }
      ]
    },
    {
      "cell_type": "code",
      "source": [
        "#Setting X and Y\n",
        "features = [i for i in ww.columns if i != 'SolarGeneration']\n",
        "X = ww[features]\n",
        "y = ww['SolarGeneration']\n",
        "X_train, X_test, y_train, y_test = train_test_split(X, y, shuffle = False, test_size = 0.2)"
      ],
      "metadata": {
        "id": "Ah4PM6eRRk2n"
      },
      "execution_count": 17,
      "outputs": []
    },
    {
      "cell_type": "code",
      "source": [
        "X_train.iloc[-1]"
      ],
      "metadata": {
        "colab": {
          "base_uri": "https://localhost:8080/"
        },
        "id": "ajZ7KcJoR9XR",
        "outputId": "6b7b9ec6-0de5-4261-fe1e-7f3b09bea61d"
      },
      "execution_count": null,
      "outputs": [
        {
          "output_type": "execute_result",
          "data": {
            "text/plain": [
              "ApparentTemperature     14.100000\n",
              "AirTemperature          17.200000\n",
              "DewPointTemperature     12.200000\n",
              "RelativeHumidity        72.500000\n",
              "WindSpeed               18.318182\n",
              "WindDirection          220.363636\n",
              "Name: 2022-01-18 03:15:00, dtype: float64"
            ]
          },
          "metadata": {},
          "execution_count": 7
        }
      ]
    },
    {
      "cell_type": "code",
      "source": [
        "X_test.iloc[0]"
      ],
      "metadata": {
        "colab": {
          "base_uri": "https://localhost:8080/"
        },
        "id": "IcEWMwZPSGpO",
        "outputId": "1c054b4e-c462-4e96-a0cb-1ccb8f6b918a"
      },
      "execution_count": null,
      "outputs": [
        {
          "output_type": "execute_result",
          "data": {
            "text/plain": [
              "ApparentTemperature     13.900000\n",
              "AirTemperature          17.000000\n",
              "DewPointTemperature     12.100000\n",
              "RelativeHumidity        73.000000\n",
              "WindSpeed               18.318182\n",
              "WindDirection          220.363636\n",
              "Name: 2022-01-18 03:30:00, dtype: float64"
            ]
          },
          "metadata": {},
          "execution_count": 8
        }
      ]
    },
    {
      "cell_type": "code",
      "source": [
        "#Standard Scaling\n",
        "ss = StandardScaler()\n",
        "X_train_sc = ss.fit_transform(X_train)\n",
        "X_test_sc = ss.transform(X_test)"
      ],
      "metadata": {
        "id": "Hsw9zFA7Hukz"
      },
      "execution_count": 7,
      "outputs": []
    },
    {
      "cell_type": "code",
      "source": [
        "def print_last(res):\n",
        "  '''\n",
        "  Helper function to just print out the last training and testing loss \n",
        "  function values as well as the last metrics of a fitted model\n",
        "  '''\n",
        "  print(f\"Mean Absolute Error - Training: {np.round(res.history['loss'][-1], 5)}\")\n",
        "  print(f\"Mean Absolute Error - Testing: {np.round(res.history['val_loss'][-1], 5)}\")\n",
        "  print(f\"Root Mean Squared Error - Training: {np.round(np.sqrt(res.history['mse'][-1]), 5)}\")\n",
        "  print(f\"Root Mean Squared Error - Testing: {np.round(np.sqrt(res.history['val_mse'][-1]), 5)}\")"
      ],
      "metadata": {
        "id": "SU41kB8sbkkf"
      },
      "execution_count": 8,
      "outputs": []
    },
    {
      "cell_type": "markdown",
      "source": [
        "First investigating sequences 4 intervals long (1 hour)"
      ],
      "metadata": {
        "id": "ZETUri1Z_sGm"
      }
    },
    {
      "cell_type": "code",
      "source": [
        "#timeseries generator, input shape, and early stopping for modeling\n",
        "\n",
        "train_sequences = TimeseriesGenerator(X_train_sc, y_train, length = 4, batch_size = 64)\n",
        "test_sequences = TimeseriesGenerator(X_test_sc, y_test, length = 4, batch_size = 64)\n",
        "input_shape = train_sequences[0][0][0].shape\n",
        "early_stop = EarlyStopping(monitor = 'val_loss', patience = 5)"
      ],
      "metadata": {
        "id": "XCuJWEPrTRj-"
      },
      "execution_count": 9,
      "outputs": []
    },
    {
      "cell_type": "code",
      "source": [
        "model = Sequential()\n",
        "\n",
        "model.add(LSTM(96, input_shape = input_shape))\n",
        "model.add(Dense(1, activation = 'linear'))\n",
        "\n",
        "model.compile(loss = 'mae',\n",
        "              optimizer = Adam(learning_rate = 0.001), \n",
        "              metrics = ['mse'])\n",
        "\n",
        "res = model.fit(train_sequences, \n",
        "                validation_data = test_sequences, \n",
        "                epochs = 50, \n",
        "                verbose = 0,\n",
        "                callbacks = [early_stop])\n",
        "\n",
        "print_last(res)"
      ],
      "metadata": {
        "colab": {
          "base_uri": "https://localhost:8080/"
        },
        "id": "6qU6I5zcbrZK",
        "outputId": "d6b2e25a-f902-4f3a-cfd7-48f7711b1289"
      },
      "execution_count": null,
      "outputs": [
        {
          "output_type": "stream",
          "name": "stdout",
          "text": [
            "Mean Absolute Error - Training: 0.95765\n",
            "Mean Absolute Error - Testing: 0.76523\n",
            "Root Mean Squared Error - Training: 1.77713\n",
            "Root Mean Squared Error - Testing: 1.22163\n"
          ]
        }
      ]
    },
    {
      "cell_type": "code",
      "source": [
        "model = Sequential()\n",
        "\n",
        "model.add(LSTM(8, input_shape = input_shape, return_sequences = True))\n",
        "model.add(LSTM(32, return_sequences = False))\n",
        "model.add(Dense(8, activation = 'relu'))\n",
        "model.add(Dense(1, activation = 'linear'))\n",
        "\n",
        "model.compile(loss = 'mae',\n",
        "              optimizer = Adam(learning_rate = 0.001), \n",
        "              metrics = ['mse'])\n",
        "\n",
        "res = model.fit(train_sequences, \n",
        "                validation_data = test_sequences, \n",
        "                epochs = 50, \n",
        "                verbose = 0,\n",
        "                callbacks = [early_stop])\n",
        "\n",
        "print_last(res)"
      ],
      "metadata": {
        "colab": {
          "base_uri": "https://localhost:8080/"
        },
        "id": "Dc_8lt2oTcGq",
        "outputId": "4e506ef1-6fc8-4970-a8e4-3852bea4f18a"
      },
      "execution_count": null,
      "outputs": [
        {
          "output_type": "stream",
          "name": "stdout",
          "text": [
            "Mean Absolute Error - Training: 0.93588\n",
            "Mean Absolute Error - Testing: 0.68782\n",
            "Root Mean Squared Error - Training: 1.77775\n",
            "Root Mean Squared Error - Testing: 1.24635\n"
          ]
        }
      ]
    },
    {
      "cell_type": "code",
      "source": [
        "model = Sequential()\n",
        "\n",
        "model.add(LSTM(8, input_shape = input_shape, return_sequences = False))\n",
        "model.add(Dense(16, activation = 'relu'))\n",
        "model.add(Dense(512, activation ='relu'))\n",
        "model.add(Dense(512, activation ='relu'))\n",
        "model.add(Dense(512, activation ='relu'))\n",
        "model.add(Dense(1, activation = 'linear'))\n",
        "\n",
        "model.compile(loss = 'mae',\n",
        "              optimizer = Adam(learning_rate = 0.001), \n",
        "              metrics = ['mse'])\n",
        "\n",
        "res = model.fit(train_sequences, \n",
        "                validation_data = test_sequences, \n",
        "                epochs = 50, \n",
        "                verbose = 0,\n",
        "                callbacks = [early_stop])\n",
        "\n",
        "print_last(res)"
      ],
      "metadata": {
        "colab": {
          "base_uri": "https://localhost:8080/"
        },
        "id": "hgRmRHVlVoSj",
        "outputId": "0995c9df-4dfe-4ff8-eb9a-df6bfb3530d9"
      },
      "execution_count": null,
      "outputs": [
        {
          "output_type": "stream",
          "name": "stdout",
          "text": [
            "Mean Absolute Error - Training: 0.95496\n",
            "Mean Absolute Error - Testing: 0.72572\n",
            "Root Mean Squared Error - Training: 1.79568\n",
            "Root Mean Squared Error - Testing: 1.33184\n"
          ]
        }
      ]
    },
    {
      "cell_type": "code",
      "source": [
        "model = Sequential()\n",
        "\n",
        "model.add(LSTM(32, input_shape = input_shape, return_sequences = True, ))\n",
        "model.add(LSTM(32, input_shape = input_shape, return_sequences = True))\n",
        "model.add(LSTM(64, input_shape = input_shape, return_sequences = False))\n",
        "model.add(Dense(16, activation = 'relu'))\n",
        "model.add(Dense(512, activation ='relu'))\n",
        "model.add(Dense(512, activation ='relu'))\n",
        "model.add(Dense(1, activation = 'linear'))\n",
        "\n",
        "model.compile(loss = 'mae',\n",
        "              optimizer = Adam(learning_rate = 0.001), \n",
        "              metrics = ['mse'])\n",
        "\n",
        "res = model.fit(train_sequences, \n",
        "                validation_data = test_sequences, \n",
        "                epochs = 50, \n",
        "                verbose = 0,\n",
        "                callbacks = [early_stop])\n",
        "\n",
        "print_last(res)"
      ],
      "metadata": {
        "colab": {
          "base_uri": "https://localhost:8080/"
        },
        "id": "C7RavkscK1SP",
        "outputId": "55a55720-eb73-4d99-88da-0a70e1edc029"
      },
      "execution_count": null,
      "outputs": [
        {
          "output_type": "stream",
          "name": "stdout",
          "text": [
            "Mean Absolute Error - Training: 0.95676\n",
            "Mean Absolute Error - Testing: 0.71638\n",
            "Root Mean Squared Error - Training: 1.80317\n",
            "Root Mean Squared Error - Testing: 1.21187\n"
          ]
        }
      ]
    },
    {
      "cell_type": "code",
      "source": [
        "model = Sequential()\n",
        "\n",
        "model.add(LSTM(32, input_shape = input_shape, return_sequences = True))\n",
        "model.add(LSTM(64, input_shape = input_shape, return_sequences = True))\n",
        "model.add(LSTM(96, input_shape = input_shape, return_sequences = False))\n",
        "model.add(Dense(16, activation = 'relu'))\n",
        "model.add(Dense(512, activation ='relu'))\n",
        "model.add(Dense(512, activation ='relu'))\n",
        "\n",
        "model.add(Dense(1, activation = 'linear'))\n",
        "\n",
        "model.compile(loss = 'mae',\n",
        "              optimizer = Adam(learning_rate = 0.001), \n",
        "              metrics = ['mse'])\n",
        "\n",
        "res = model.fit(train_sequences, \n",
        "                validation_data = test_sequences, \n",
        "                epochs = 50, \n",
        "                verbose = 0,\n",
        "                callbacks = [early_stop])\n",
        "\n",
        "print_last(res)"
      ],
      "metadata": {
        "colab": {
          "base_uri": "https://localhost:8080/"
        },
        "id": "Fu5UBXQyMIOt",
        "outputId": "6f587b8b-6314-4c07-c8f3-e90ff227a906"
      },
      "execution_count": null,
      "outputs": [
        {
          "output_type": "stream",
          "name": "stdout",
          "text": [
            "Mean Absolute Error - Training: 0.96606\n",
            "Mean Absolute Error - Testing: 0.82582\n",
            "Root Mean Squared Error - Training: 1.80315\n",
            "Root Mean Squared Error - Testing: 1.45836\n"
          ]
        }
      ]
    },
    {
      "cell_type": "markdown",
      "source": [
        "Investigating sequences of 16 intervals in length (4 hours)"
      ],
      "metadata": {
        "id": "xseZWKkF_40V"
      }
    },
    {
      "cell_type": "code",
      "source": [
        "train_sequences = TimeseriesGenerator(X_train_sc, y_train, length = 16, batch_size = 96)\n",
        "test_sequences = TimeseriesGenerator(X_test_sc, y_test, length = 16, batch_size = 96)\n",
        "input_shape = train_sequences[0][0][0].shape"
      ],
      "metadata": {
        "id": "Bo1RsZLmOYzG"
      },
      "execution_count": null,
      "outputs": []
    },
    {
      "cell_type": "code",
      "source": [
        "model = Sequential()\n",
        "\n",
        "model.add(LSTM(96, input_shape = input_shape))\n",
        "model.add(Dense(1, activation = 'linear'))\n",
        "\n",
        "model.compile(loss = 'mae',\n",
        "              optimizer = Adam(learning_rate = 0.001), \n",
        "              metrics = ['mse'])\n",
        "\n",
        "res = model.fit(train_sequences, \n",
        "                validation_data = test_sequences, \n",
        "                epochs = 50, \n",
        "                verbose = 0,\n",
        "                callbacks = [early_stop])\n",
        "\n",
        "print_last(res)"
      ],
      "metadata": {
        "colab": {
          "base_uri": "https://localhost:8080/"
        },
        "id": "Xwa9hWJFB5TC",
        "outputId": "594afcd2-d0a7-42fc-b08c-d789357aba48"
      },
      "execution_count": null,
      "outputs": [
        {
          "output_type": "stream",
          "name": "stdout",
          "text": [
            "Mean Absolute Error - Training: 0.85519\n",
            "Mean Absolute Error - Testing: 0.43458\n",
            "Root Mean Squared Error - Training: 1.69813\n",
            "Root Mean Squared Error - Testing: 0.84498\n"
          ]
        }
      ]
    },
    {
      "cell_type": "code",
      "source": [
        "model = Sequential()\n",
        "\n",
        "model.add(LSTM(8, input_shape = input_shape, return_sequences = True))\n",
        "model.add(LSTM(32, return_sequences = False))\n",
        "model.add(Dense(8, activation = 'relu'))\n",
        "\n",
        "model.add(Dense(1, activation = 'linear'))\n",
        "\n",
        "model.compile(loss = 'mae',\n",
        "              optimizer = Adam(learning_rate = 0.001), \n",
        "              metrics = ['mse'])\n",
        "\n",
        "res = model.fit(train_sequences, \n",
        "                validation_data = test_sequences, \n",
        "                epochs = 50, \n",
        "                verbose = 0,\n",
        "                callbacks = [early_stop])\n",
        "\n",
        "print_last(res)"
      ],
      "metadata": {
        "colab": {
          "base_uri": "https://localhost:8080/"
        },
        "id": "cQe-SjjcOZKP",
        "outputId": "d9a34939-95e5-4ae6-91a3-5fc4d4d42d38"
      },
      "execution_count": null,
      "outputs": [
        {
          "output_type": "stream",
          "name": "stdout",
          "text": [
            "Mean Absolute Error - Training: 0.87984\n",
            "Mean Absolute Error - Testing: 0.47266\n",
            "Root Mean Squared Error - Training: 1.72308\n",
            "Root Mean Squared Error - Testing: 0.91996\n"
          ]
        }
      ]
    },
    {
      "cell_type": "code",
      "source": [
        "model = Sequential()\n",
        "\n",
        "model.add(LSTM(8, input_shape = input_shape, return_sequences = False))\n",
        "model.add(Dense(16, activation = 'relu'))\n",
        "model.add(Dense(512, activation ='relu'))\n",
        "model.add(Dense(512, activation ='relu'))\n",
        "model.add(Dense(512, activation ='relu'))\n",
        "\n",
        "model.add(Dense(1, activation = 'linear'))\n",
        "\n",
        "model.compile(loss = 'mae',\n",
        "              optimizer = Adam(learning_rate = 0.001), \n",
        "              metrics = ['mse'])\n",
        "\n",
        "res = model.fit(train_sequences, \n",
        "                validation_data = test_sequences, \n",
        "                epochs = 50, \n",
        "                verbose = 0,\n",
        "                callbacks = [early_stop])\n",
        "\n",
        "print_last(res)"
      ],
      "metadata": {
        "colab": {
          "base_uri": "https://localhost:8080/"
        },
        "id": "8bg45AAKOdgS",
        "outputId": "e56f1ef8-774f-45dc-9dfe-7d514bc12168"
      },
      "execution_count": null,
      "outputs": [
        {
          "output_type": "stream",
          "name": "stdout",
          "text": [
            "Mean Absolute Error - Training: 0.92261\n",
            "Mean Absolute Error - Testing: 0.58563\n",
            "Root Mean Squared Error - Training: 1.76271\n",
            "Root Mean Squared Error - Testing: 1.04964\n"
          ]
        }
      ]
    },
    {
      "cell_type": "code",
      "source": [
        "model = Sequential()\n",
        "\n",
        "model.add(LSTM(96, input_shape = input_shape, return_sequences = False))\n",
        "model.add(Dense(16, activation = 'relu'))\n",
        "model.add(Dense(512, activation ='relu'))\n",
        "model.add(Dense(512, activation ='relu'))\n",
        "model.add(Dense(512, activation ='relu'))\n",
        "\n",
        "model.add(Dense(1, activation = 'linear'))\n",
        "\n",
        "model.compile(loss = 'mae',\n",
        "              optimizer = Adam(learning_rate = 0.001), \n",
        "              metrics = ['mse'])\n",
        "\n",
        "res = model.fit(train_sequences, \n",
        "                validation_data = test_sequences, \n",
        "                epochs = 50, \n",
        "                verbose = 0,\n",
        "                callbacks = [early_stop])\n",
        "\n",
        "print_last(res)"
      ],
      "metadata": {
        "colab": {
          "base_uri": "https://localhost:8080/"
        },
        "id": "mVO61p3KMO_a",
        "outputId": "f83a1764-d166-4ec3-df4b-ce25225ebfb6"
      },
      "execution_count": null,
      "outputs": [
        {
          "output_type": "stream",
          "name": "stdout",
          "text": [
            "Mean Absolute Error - Training: 0.85678\n",
            "Mean Absolute Error - Testing: 0.48245\n",
            "Root Mean Squared Error - Training: 1.70554\n",
            "Root Mean Squared Error - Testing: 0.91855\n"
          ]
        }
      ]
    },
    {
      "cell_type": "code",
      "source": [
        "model = Sequential()\n",
        "\n",
        "model.add(LSTM(32, input_shape = input_shape, return_sequences = True, ))\n",
        "model.add(LSTM(32, input_shape = input_shape, return_sequences = True))\n",
        "model.add(LSTM(64, input_shape = input_shape, return_sequences = False))\n",
        "model.add(Dense(16, activation = 'relu'))\n",
        "model.add(Dense(512, activation ='relu'))\n",
        "model.add(Dense(512, activation ='relu'))\n",
        "\n",
        "model.add(Dense(1, activation = 'linear'))\n",
        "\n",
        "model.compile(loss = 'mae',\n",
        "              optimizer = Adam(learning_rate = 0.001), \n",
        "              metrics = ['mse'])\n",
        "\n",
        "res = model.fit(train_sequences, \n",
        "                validation_data = test_sequences, \n",
        "                epochs = 50, \n",
        "                verbose = 0,\n",
        "                callbacks = [early_stop])\n",
        "\n",
        "print_last(res)"
      ],
      "metadata": {
        "colab": {
          "base_uri": "https://localhost:8080/"
        },
        "id": "OhJXHxgiOf8w",
        "outputId": "326421b4-c08d-4a7c-d09f-aed9448a5a53"
      },
      "execution_count": null,
      "outputs": [
        {
          "output_type": "stream",
          "name": "stdout",
          "text": [
            "Mean Absolute Error - Training: 0.88247\n",
            "Mean Absolute Error - Testing: 0.50426\n",
            "Root Mean Squared Error - Training: 1.7286\n",
            "Root Mean Squared Error - Testing: 0.88774\n"
          ]
        }
      ]
    },
    {
      "cell_type": "markdown",
      "source": [
        "Investigating sequences of 96 intervals in length (1 Day)"
      ],
      "metadata": {
        "id": "GcjiEoHWACGH"
      }
    },
    {
      "cell_type": "code",
      "source": [
        "train_sequences = TimeseriesGenerator(X_train_sc, y_train, length = 96, batch_size = 672)\n",
        "test_sequences = TimeseriesGenerator(X_test_sc, y_test, length = 96, batch_size = 672)\n",
        "input_shape = train_sequences[0][0][0].shape"
      ],
      "metadata": {
        "id": "QCnKyRhhd_E6"
      },
      "execution_count": 10,
      "outputs": []
    },
    {
      "cell_type": "code",
      "source": [
        "model = Sequential()\n",
        "\n",
        "model.add(LSTM(96, input_shape = input_shape))\n",
        "model.add(Dense(1, activation = 'linear'))\n",
        "\n",
        "model.compile(loss = 'mae',\n",
        "              optimizer = Adam(learning_rate = 0.001), \n",
        "              metrics = ['mse'])\n",
        "\n",
        "res = model.fit(train_sequences, \n",
        "                validation_data = test_sequences, \n",
        "                epochs = 50, \n",
        "                verbose = 0,\n",
        "                callbacks = [early_stop])\n",
        "\n",
        "print_last(res)"
      ],
      "metadata": {
        "id": "HbVx9nLFUi0a",
        "colab": {
          "base_uri": "https://localhost:8080/"
        },
        "outputId": "2c049a4c-c52a-4e98-c061-a30ab35431c4"
      },
      "execution_count": 11,
      "outputs": [
        {
          "output_type": "stream",
          "name": "stdout",
          "text": [
            "Mean Absolute Error - Training: 0.88815\n",
            "Mean Absolute Error - Testing: 0.53892\n",
            "Root Mean Squared Error - Training: 1.72244\n",
            "Root Mean Squared Error - Testing: 0.99951\n"
          ]
        }
      ]
    },
    {
      "cell_type": "code",
      "source": [
        "model = Sequential()\n",
        "\n",
        "model.add(LSTM(192, input_shape = input_shape))\n",
        "model.add(Dense(1, activation = 'linear'))\n",
        "\n",
        "model.compile(loss = 'mae',\n",
        "              optimizer = Adam(learning_rate = 0.001), \n",
        "              metrics = ['mse'])\n",
        "\n",
        "res = model.fit(train_sequences, \n",
        "                validation_data = test_sequences, \n",
        "                epochs = 50, \n",
        "                verbose = 0,\n",
        "                callbacks = [early_stop])\n",
        "\n",
        "print_last(res)"
      ],
      "metadata": {
        "id": "EUcJ0KNaCCLt",
        "colab": {
          "base_uri": "https://localhost:8080/"
        },
        "outputId": "65611256-fd82-443d-9904-bf675fc1c553"
      },
      "execution_count": 12,
      "outputs": [
        {
          "output_type": "stream",
          "name": "stdout",
          "text": [
            "Mean Absolute Error - Training: 0.8795\n",
            "Mean Absolute Error - Testing: 0.57291\n",
            "Root Mean Squared Error - Training: 1.71677\n",
            "Root Mean Squared Error - Testing: 1.0447\n"
          ]
        }
      ]
    },
    {
      "cell_type": "code",
      "source": [
        "model = Sequential()\n",
        "\n",
        "model.add(LSTM(8, input_shape = input_shape, return_sequences = True))\n",
        "model.add(LSTM(32, return_sequences = False))\n",
        "model.add(Dense(8, activation = 'relu'))\n",
        "\n",
        "model.add(Dense(1, activation = 'linear'))\n",
        "\n",
        "model.compile(loss = 'mae',\n",
        "              optimizer = Adam(learning_rate = 0.001), \n",
        "              metrics = ['mse'])\n",
        "\n",
        "res = model.fit(train_sequences, \n",
        "                validation_data = test_sequences, \n",
        "                epochs = 50, \n",
        "                verbose = 0,\n",
        "                callbacks = [early_stop])\n",
        "\n",
        "print_last(res)"
      ],
      "metadata": {
        "colab": {
          "base_uri": "https://localhost:8080/"
        },
        "id": "xjTfO2zPd_CD",
        "outputId": "ad680a8f-7ead-4fa3-9885-22180d642195"
      },
      "execution_count": null,
      "outputs": [
        {
          "output_type": "stream",
          "name": "stdout",
          "text": [
            "Mean Absolute Error - Training: 0.90929\n",
            "Mean Absolute Error - Testing: 0.74056\n",
            "Root Mean Squared Error - Training: 1.7613\n",
            "Root Mean Squared Error - Testing: 1.35755\n"
          ]
        }
      ]
    },
    {
      "cell_type": "code",
      "source": [
        "model = Sequential()\n",
        "\n",
        "model.add(LSTM(8, input_shape = input_shape, return_sequences = False))\n",
        "model.add(Dense(16, activation = 'relu'))\n",
        "model.add(Dense(512, activation ='relu'))\n",
        "model.add(Dense(512, activation ='relu'))\n",
        "model.add(Dense(512, activation ='relu'))\n",
        "\n",
        "model.add(Dense(1, activation = 'linear'))\n",
        "\n",
        "model.compile(loss = 'mae',\n",
        "              optimizer = Adam(learning_rate = 0.001), \n",
        "              metrics = ['mse'])\n",
        "\n",
        "res = model.fit(train_sequences, \n",
        "                validation_data = test_sequences, \n",
        "                epochs = 50, \n",
        "                verbose = 0,\n",
        "                callbacks = [early_stop])\n",
        "\n",
        "print_last(res)"
      ],
      "metadata": {
        "colab": {
          "base_uri": "https://localhost:8080/"
        },
        "id": "FjlGOIf1d-_Y",
        "outputId": "90592a0c-1884-438b-fc8a-62b225bd344a"
      },
      "execution_count": null,
      "outputs": [
        {
          "output_type": "stream",
          "name": "stdout",
          "text": [
            "Mean Absolute Error - Training: 0.90837\n",
            "Mean Absolute Error - Testing: 0.61511\n",
            "Root Mean Squared Error - Training: 1.75613\n",
            "Root Mean Squared Error - Testing: 1.1573\n"
          ]
        }
      ]
    },
    {
      "cell_type": "code",
      "source": [
        "model = Sequential()\n",
        "\n",
        "model.add(LSTM(32, input_shape = input_shape, return_sequences = True, ))\n",
        "model.add(LSTM(32, input_shape = input_shape, return_sequences = True))\n",
        "model.add(LSTM(64, input_shape = input_shape, return_sequences = False))\n",
        "model.add(Dense(16, activation = 'relu'))\n",
        "model.add(Dense(512, activation ='relu'))\n",
        "model.add(Dense(512, activation ='relu'))\n",
        "\n",
        "model.add(Dense(1, activation = 'linear'))\n",
        "\n",
        "model.compile(loss = 'mae',\n",
        "              optimizer = Adam(learning_rate = 0.001), \n",
        "              metrics = ['mse'])\n",
        "\n",
        "res = model.fit(train_sequences, \n",
        "                validation_data = test_sequences, \n",
        "                epochs = 50, \n",
        "                verbose = 0,\n",
        "                callbacks = [early_stop])\n",
        "\n",
        "print_last(res)"
      ],
      "metadata": {
        "colab": {
          "base_uri": "https://localhost:8080/"
        },
        "id": "d8qR2RlQd-8Y",
        "outputId": "634d586b-f3e1-4155-961b-d3c321bd6b85"
      },
      "execution_count": null,
      "outputs": [
        {
          "output_type": "stream",
          "name": "stdout",
          "text": [
            "Mean Absolute Error - Training: 0.89951\n",
            "Mean Absolute Error - Testing: 0.52922\n",
            "Root Mean Squared Error - Training: 1.73391\n",
            "Root Mean Squared Error - Testing: 0.99087\n"
          ]
        }
      ]
    },
    {
      "cell_type": "markdown",
      "source": [
        "It seems Univariate Modeling gives much better scores. Probably due to the weather data variability compounding to the variability of the Solar Generation"
      ],
      "metadata": {
        "id": "XE7wwgdnqdcU"
      }
    },
    {
      "cell_type": "markdown",
      "source": [
        "---\n",
        "# Hourly Modeling\n",
        "---"
      ],
      "metadata": {
        "id": "AdgPwXFHy41P"
      }
    },
    {
      "cell_type": "code",
      "source": [
        "hourly = ww.resample('H').mean().ffill()"
      ],
      "metadata": {
        "id": "A7uGLXadbrNT"
      },
      "execution_count": 21,
      "outputs": []
    },
    {
      "cell_type": "code",
      "source": [
        "features = [i for i in hourly.columns if i != 'SolarGeneration']\n",
        "X = hourly[features]\n",
        "y = hourly['SolarGeneration']\n",
        "X_train, X_test, y_train, y_test = train_test_split(X, y, shuffle = False, test_size = 0.2)"
      ],
      "metadata": {
        "id": "ogGmOvHdbrLJ"
      },
      "execution_count": 22,
      "outputs": []
    },
    {
      "cell_type": "code",
      "source": [
        "ss = StandardScaler()\n",
        "X_train_sc = ss.fit_transform(X_train)\n",
        "X_test_sc = ss.transform(X_test)"
      ],
      "metadata": {
        "id": "m3u2SCFkzT_m"
      },
      "execution_count": 23,
      "outputs": []
    },
    {
      "cell_type": "markdown",
      "source": [
        "First investigating 12-hour sequences"
      ],
      "metadata": {
        "id": "WLlvd8x4ArM8"
      }
    },
    {
      "cell_type": "code",
      "source": [
        "train_sequences = TimeseriesGenerator(X_train_sc, y_train, length = 12, batch_size = 48)\n",
        "test_sequences = TimeseriesGenerator(X_test_sc, y_test, length = 12, batch_size = 48)\n",
        "input_shape = train_sequences[0][0][0].shape"
      ],
      "metadata": {
        "id": "Ylzaqb_0brI4"
      },
      "execution_count": 24,
      "outputs": []
    },
    {
      "cell_type": "code",
      "source": [
        "model = Sequential()\n",
        "\n",
        "model.add(LSTM(24, input_shape = input_shape))\n",
        "model.add(Dense(1, activation = 'linear'))\n",
        "\n",
        "model.compile(loss = 'mae',\n",
        "              optimizer = Adam(learning_rate = 0.001), \n",
        "              metrics = ['mse'])\n",
        "\n",
        "res = model.fit(train_sequences, \n",
        "                validation_data = test_sequences, \n",
        "                epochs = 50, \n",
        "                verbose = 0,\n",
        "                callbacks = [early_stop])\n",
        "\n",
        "print_last(res)"
      ],
      "metadata": {
        "id": "RosO7sm1brGa",
        "colab": {
          "base_uri": "https://localhost:8080/"
        },
        "outputId": "e621ef75-9988-4e7d-e9e9-c7d6233604c5"
      },
      "execution_count": 25,
      "outputs": [
        {
          "output_type": "stream",
          "name": "stdout",
          "text": [
            "Mean Absolute Error - Training: 0.81503\n",
            "Mean Absolute Error - Testing: 0.49714\n",
            "Root Mean Squared Error - Training: 1.60931\n",
            "Root Mean Squared Error - Testing: 0.83278\n"
          ]
        }
      ]
    },
    {
      "cell_type": "code",
      "source": [
        "model = Sequential()\n",
        "\n",
        "model.add(LSTM(48, input_shape = input_shape))\n",
        "model.add(Dense(1, activation = 'linear'))\n",
        "\n",
        "model.compile(loss = 'mae',\n",
        "              optimizer = Adam(learning_rate = 0.001), \n",
        "              metrics = ['mse'])\n",
        "\n",
        "res = model.fit(train_sequences, \n",
        "                validation_data = test_sequences, \n",
        "                epochs = 50, \n",
        "                verbose = 0,\n",
        "                callbacks = [early_stop])\n",
        "\n",
        "print_last(res)"
      ],
      "metadata": {
        "id": "2k7WHX8IbrDp",
        "colab": {
          "base_uri": "https://localhost:8080/"
        },
        "outputId": "a395e349-8a09-41e6-8637-c10b47d517e6"
      },
      "execution_count": 26,
      "outputs": [
        {
          "output_type": "stream",
          "name": "stdout",
          "text": [
            "Mean Absolute Error - Training: 0.8147\n",
            "Mean Absolute Error - Testing: 0.51314\n",
            "Root Mean Squared Error - Training: 1.60308\n",
            "Root Mean Squared Error - Testing: 0.85835\n"
          ]
        }
      ]
    },
    {
      "cell_type": "code",
      "source": [
        "model = Sequential()\n",
        "\n",
        "model.add(LSTM(144, input_shape = input_shape))\n",
        "model.add(Dense(1, activation = 'linear'))\n",
        "\n",
        "model.compile(loss = 'mae',\n",
        "              optimizer = Adam(learning_rate = 0.001), \n",
        "              metrics = ['mse'])\n",
        "\n",
        "res = model.fit(train_sequences, \n",
        "                validation_data = test_sequences, \n",
        "                epochs = 50, \n",
        "                verbose = 0,\n",
        "                callbacks = [early_stop])\n",
        "\n",
        "print_last(res)"
      ],
      "metadata": {
        "id": "T-uE2QGzbrA4",
        "colab": {
          "base_uri": "https://localhost:8080/"
        },
        "outputId": "f16805c5-4dae-4ac9-c1ba-7d7a27758294"
      },
      "execution_count": 27,
      "outputs": [
        {
          "output_type": "stream",
          "name": "stdout",
          "text": [
            "Mean Absolute Error - Training: 0.81736\n",
            "Mean Absolute Error - Testing: 0.484\n",
            "Root Mean Squared Error - Training: 1.6084\n",
            "Root Mean Squared Error - Testing: 0.81388\n"
          ]
        }
      ]
    },
    {
      "cell_type": "markdown",
      "source": [
        "Investigating 24-hour sequences"
      ],
      "metadata": {
        "id": "eboWcFIAAxHd"
      }
    },
    {
      "cell_type": "code",
      "source": [
        "train_sequences = TimeseriesGenerator(X_train_sc, y_train, length = 24, batch_size = 72)\n",
        "test_sequences = TimeseriesGenerator(X_test_sc, y_test, length = 24, batch_size = 72)\n",
        "input_shape = train_sequences[0][0][0].shape"
      ],
      "metadata": {
        "id": "yzTfCdJwzdH_"
      },
      "execution_count": 28,
      "outputs": []
    },
    {
      "cell_type": "code",
      "source": [
        "model = Sequential()\n",
        "\n",
        "model.add(LSTM(24, input_shape = input_shape))\n",
        "model.add(Dense(1, activation = 'linear'))\n",
        "\n",
        "model.compile(loss = 'mae',\n",
        "              optimizer = Adam(learning_rate = 0.001), \n",
        "              metrics = ['mse'])\n",
        "\n",
        "res = model.fit(train_sequences, \n",
        "                validation_data = test_sequences, \n",
        "                epochs = 50, \n",
        "                verbose = 0,\n",
        "                callbacks = [early_stop])\n",
        "\n",
        "print_last(res)"
      ],
      "metadata": {
        "id": "i8YDDo5b0Nyr",
        "colab": {
          "base_uri": "https://localhost:8080/"
        },
        "outputId": "4763fc90-7c97-4a36-dd40-2dba996c2078"
      },
      "execution_count": 29,
      "outputs": [
        {
          "output_type": "stream",
          "name": "stdout",
          "text": [
            "Mean Absolute Error - Training: 0.82697\n",
            "Mean Absolute Error - Testing: 0.49691\n",
            "Root Mean Squared Error - Training: 1.61382\n",
            "Root Mean Squared Error - Testing: 0.80966\n"
          ]
        }
      ]
    },
    {
      "cell_type": "code",
      "source": [
        "model = Sequential()\n",
        "\n",
        "model.add(LSTM(48, input_shape = input_shape))\n",
        "model.add(Dense(1, activation = 'linear'))\n",
        "\n",
        "model.compile(loss = 'mae',\n",
        "              optimizer = Adam(learning_rate = 0.001), \n",
        "              metrics = ['mse'])\n",
        "\n",
        "res = model.fit(train_sequences, \n",
        "                validation_data = test_sequences, \n",
        "                epochs = 50, \n",
        "                verbose = 0,\n",
        "                callbacks = [early_stop])\n",
        "\n",
        "print_last(res)"
      ],
      "metadata": {
        "id": "c3JRZ9Ae0NwU",
        "colab": {
          "base_uri": "https://localhost:8080/"
        },
        "outputId": "e971c924-d756-4356-9d02-d8d819a5f882"
      },
      "execution_count": 30,
      "outputs": [
        {
          "output_type": "stream",
          "name": "stdout",
          "text": [
            "Mean Absolute Error - Training: 0.83473\n",
            "Mean Absolute Error - Testing: 0.54504\n",
            "Root Mean Squared Error - Training: 1.61879\n",
            "Root Mean Squared Error - Testing: 0.8791\n"
          ]
        }
      ]
    },
    {
      "cell_type": "code",
      "source": [
        "model = Sequential()\n",
        "\n",
        "model.add(LSTM(144, input_shape = input_shape))\n",
        "model.add(Dense(1, activation = 'linear'))\n",
        "\n",
        "model.compile(loss = 'mae',\n",
        "              optimizer = Adam(learning_rate = 0.001), \n",
        "              metrics = ['mse'])\n",
        "\n",
        "res = model.fit(train_sequences, \n",
        "                validation_data = test_sequences, \n",
        "                epochs = 50, \n",
        "                verbose = 0,\n",
        "                callbacks = [early_stop])\n",
        "\n",
        "print_last(res)"
      ],
      "metadata": {
        "id": "nOz19PKt0Ntx",
        "colab": {
          "base_uri": "https://localhost:8080/"
        },
        "outputId": "67d0e77c-ad8e-4cf0-b732-491e9102a2c3"
      },
      "execution_count": 31,
      "outputs": [
        {
          "output_type": "stream",
          "name": "stdout",
          "text": [
            "Mean Absolute Error - Training: 0.82998\n",
            "Mean Absolute Error - Testing: 0.46425\n",
            "Root Mean Squared Error - Training: 1.6222\n",
            "Root Mean Squared Error - Testing: 0.77604\n"
          ]
        }
      ]
    },
    {
      "cell_type": "markdown",
      "source": [
        "---\n",
        "# Daily Investigation\n",
        "---"
      ],
      "metadata": {
        "id": "0XUUNNFJA1ot"
      }
    },
    {
      "cell_type": "code",
      "source": [
        "daily = df.resample('D').max()"
      ],
      "metadata": {
        "id": "qSwHcXuQbq2G"
      },
      "execution_count": 9,
      "outputs": []
    },
    {
      "cell_type": "code",
      "source": [
        "features = [i for i in ww.columns if i != 'SolarGeneration']\n",
        "X = ww[features]\n",
        "y = ww['SolarGeneration']\n",
        "X_train, X_test, y_train, y_test = train_test_split(X, y, shuffle = False, test_size = 0.2)"
      ],
      "metadata": {
        "id": "2C5lIHqZykDG"
      },
      "execution_count": 10,
      "outputs": []
    },
    {
      "cell_type": "code",
      "source": [
        "ss = StandardScaler()\n",
        "X_train_sc = ss.fit_transform(X_train)\n",
        "X_test_sc = ss.transform(X_test)"
      ],
      "metadata": {
        "id": "uEXhvuGqy1vV"
      },
      "execution_count": 11,
      "outputs": []
    },
    {
      "cell_type": "markdown",
      "source": [
        "First looking at 4-day sequences"
      ],
      "metadata": {
        "id": "K0t6DucwA7qB"
      }
    },
    {
      "cell_type": "code",
      "source": [
        "train_sequences = TimeseriesGenerator(X_train_sc, y_train, length = 4, batch_size = 12)\n",
        "test_sequences = TimeseriesGenerator(X_test_sc, y_test, length = 4, batch_size = 12)\n",
        "input_shape = train_sequences[0][0][0].shape"
      ],
      "metadata": {
        "id": "B6s16sujzgDl"
      },
      "execution_count": 12,
      "outputs": []
    },
    {
      "cell_type": "code",
      "source": [
        "model = Sequential()\n",
        "\n",
        "model.add(LSTM(10, input_shape = input_shape))\n",
        "model.add(Dense(1, activation = 'linear'))\n",
        "\n",
        "model.compile(loss = 'mae',\n",
        "              optimizer = Adam(learning_rate = 0.001), \n",
        "              metrics = ['mse'])\n",
        "\n",
        "res = model.fit(train_sequences, \n",
        "                validation_data = test_sequences, \n",
        "                epochs = 50, \n",
        "                verbose = 0,\n",
        "                callbacks = [early_stop])\n",
        "\n",
        "print_last(res)"
      ],
      "metadata": {
        "id": "kSwytQnpzvdC",
        "colab": {
          "base_uri": "https://localhost:8080/"
        },
        "outputId": "1d9a5ac7-56a4-4730-d8bc-c9a8291f86c4"
      },
      "execution_count": 35,
      "outputs": [
        {
          "output_type": "stream",
          "name": "stdout",
          "text": [
            "Mean Absolute Error - Training: 0.95609\n",
            "Mean Absolute Error - Testing: 0.78869\n",
            "Root Mean Squared Error - Training: 1.77788\n",
            "Root Mean Squared Error - Testing: 1.33441\n"
          ]
        }
      ]
    },
    {
      "cell_type": "code",
      "source": [
        "model = Sequential()\n",
        "\n",
        "model.add(LSTM(30, input_shape = input_shape))\n",
        "model.add(Dense(1, activation = 'linear'))\n",
        "\n",
        "model.compile(loss = 'mae',\n",
        "              optimizer = Adam(learning_rate = 0.001), \n",
        "              metrics = ['mse'])\n",
        "\n",
        "res = model.fit(train_sequences, \n",
        "                validation_data = test_sequences, \n",
        "                epochs = 50, \n",
        "                verbose = 0,\n",
        "                callbacks = [early_stop])\n",
        "\n",
        "print_last(res)"
      ],
      "metadata": {
        "id": "GH2mzFURzvaT",
        "colab": {
          "base_uri": "https://localhost:8080/"
        },
        "outputId": "9e051d53-b6a0-491d-cc72-e95dda00909c"
      },
      "execution_count": 36,
      "outputs": [
        {
          "output_type": "stream",
          "name": "stdout",
          "text": [
            "Mean Absolute Error - Training: 0.93276\n",
            "Mean Absolute Error - Testing: 0.69935\n",
            "Root Mean Squared Error - Training: 1.75706\n",
            "Root Mean Squared Error - Testing: 1.1426\n"
          ]
        }
      ]
    },
    {
      "cell_type": "code",
      "source": [
        "model = Sequential()\n",
        "\n",
        "model.add(LSTM(10, input_shape = input_shape))\n",
        "model.add(Dense(1, activation = 'linear'))\n",
        "\n",
        "model.compile(loss = 'mae',\n",
        "              optimizer = Adam(learning_rate = 0.001), \n",
        "              metrics = ['mse'])\n",
        "\n",
        "res = model.fit(train_sequences, \n",
        "                validation_data = test_sequences, \n",
        "                epochs = 50, \n",
        "                verbose = 0,\n",
        "                callbacks = [early_stop])\n",
        "\n",
        "print_last(res)"
      ],
      "metadata": {
        "id": "8XIs_UtIzvSd",
        "colab": {
          "base_uri": "https://localhost:8080/"
        },
        "outputId": "657317df-9dbe-4f87-8bc3-194114162486"
      },
      "execution_count": 37,
      "outputs": [
        {
          "output_type": "stream",
          "name": "stdout",
          "text": [
            "Mean Absolute Error - Training: 0.95538\n",
            "Mean Absolute Error - Testing: 0.73651\n",
            "Root Mean Squared Error - Training: 1.77653\n",
            "Root Mean Squared Error - Testing: 1.2406\n"
          ]
        }
      ]
    },
    {
      "cell_type": "code",
      "source": [
        " model = Sequential()\n",
        "\n",
        "model.add(SimpleRNN(7, input_shape = input_shape, return_sequences = True))\n",
        "model.add(SimpleRNN(7))\n",
        "model.add(Dense(1, activation = 'linear'))\n",
        "\n",
        "model.compile(loss = 'mae',\n",
        "              optimizer = Adam(learning_rate = 0.001), \n",
        "              metrics = ['mse'])\n",
        "\n",
        "res = model.fit(train_sequences, \n",
        "                validation_data = test_sequences, \n",
        "                epochs = 50, \n",
        "                verbose = 0,\n",
        "                callbacks = [early_stop])\n",
        "\n",
        "print_last(res)"
      ],
      "metadata": {
        "id": "6DiTHYnpzvPX",
        "colab": {
          "base_uri": "https://localhost:8080/"
        },
        "outputId": "a88de2a8-834b-4479-bce3-0160bb1995b7"
      },
      "execution_count": 15,
      "outputs": [
        {
          "output_type": "stream",
          "name": "stdout",
          "text": [
            "Mean Absolute Error - Training: 0.9844\n",
            "Mean Absolute Error - Testing: 0.86126\n",
            "Root Mean Squared Error - Training: 1.77135\n",
            "Root Mean Squared Error - Testing: 1.45495\n"
          ]
        }
      ]
    }
  ]
}