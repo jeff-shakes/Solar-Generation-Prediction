{
 "cells": [
  {
   "cell_type": "markdown",
   "id": "e5d1133d-f444-46da-a1ae-c4c5bb2413b9",
   "metadata": {},
   "source": [
    "# Post Model Analysis\n",
    "---"
   ]
  },
  {
   "cell_type": "code",
   "execution_count": 16,
   "id": "2fbbdd04-beea-4e7e-b407-67d0256a2fae",
   "metadata": {},
   "outputs": [],
   "source": [
    "import numpy as np\n",
    "import pandas as pd\n",
    "import seaborn as sns\n",
    "import matplotlib.pyplot as plt\n",
    "from sklearn.metrics import mean_squared_error, mean_absolute_error"
   ]
  },
  {
   "cell_type": "code",
   "execution_count": 2,
   "id": "be68b1f0-d643-41af-b7a4-46e0bf6b9722",
   "metadata": {},
   "outputs": [],
   "source": [
    "df = pd.read_csv('../../data/predictions/camp5_pred.csv', index_col = 'Timestamp')\n",
    "df.index = pd.to_datetime(df.index)"
   ]
  },
  {
   "cell_type": "code",
   "execution_count": 3,
   "id": "74c3dd56-1d93-4289-a028-174e94766503",
   "metadata": {},
   "outputs": [
    {
     "data": {
      "text/html": [
       "<div>\n",
       "<style scoped>\n",
       "    .dataframe tbody tr th:only-of-type {\n",
       "        vertical-align: middle;\n",
       "    }\n",
       "\n",
       "    .dataframe tbody tr th {\n",
       "        vertical-align: top;\n",
       "    }\n",
       "\n",
       "    .dataframe thead th {\n",
       "        text-align: right;\n",
       "    }\n",
       "</style>\n",
       "<table border=\"1\" class=\"dataframe\">\n",
       "  <thead>\n",
       "    <tr style=\"text-align: right;\">\n",
       "      <th></th>\n",
       "      <th>Preds</th>\n",
       "      <th>True</th>\n",
       "    </tr>\n",
       "    <tr>\n",
       "      <th>Timestamp</th>\n",
       "      <th></th>\n",
       "      <th></th>\n",
       "    </tr>\n",
       "  </thead>\n",
       "  <tbody>\n",
       "    <tr>\n",
       "      <th>2021-12-21 01:30:00</th>\n",
       "      <td>0.01651</td>\n",
       "      <td>0.0</td>\n",
       "    </tr>\n",
       "    <tr>\n",
       "      <th>2021-12-21 01:45:00</th>\n",
       "      <td>0.01651</td>\n",
       "      <td>0.0</td>\n",
       "    </tr>\n",
       "    <tr>\n",
       "      <th>2021-12-21 02:00:00</th>\n",
       "      <td>0.01651</td>\n",
       "      <td>0.0</td>\n",
       "    </tr>\n",
       "    <tr>\n",
       "      <th>2021-12-21 02:15:00</th>\n",
       "      <td>0.01651</td>\n",
       "      <td>0.0</td>\n",
       "    </tr>\n",
       "    <tr>\n",
       "      <th>2021-12-21 02:30:00</th>\n",
       "      <td>0.01651</td>\n",
       "      <td>0.0</td>\n",
       "    </tr>\n",
       "    <tr>\n",
       "      <th>...</th>\n",
       "      <td>...</td>\n",
       "      <td>...</td>\n",
       "    </tr>\n",
       "    <tr>\n",
       "      <th>2022-04-23 22:45:00</th>\n",
       "      <td>0.01651</td>\n",
       "      <td>0.0</td>\n",
       "    </tr>\n",
       "    <tr>\n",
       "      <th>2022-04-23 23:00:00</th>\n",
       "      <td>0.01651</td>\n",
       "      <td>0.0</td>\n",
       "    </tr>\n",
       "    <tr>\n",
       "      <th>2022-04-23 23:15:00</th>\n",
       "      <td>0.01651</td>\n",
       "      <td>0.0</td>\n",
       "    </tr>\n",
       "    <tr>\n",
       "      <th>2022-04-23 23:30:00</th>\n",
       "      <td>0.01651</td>\n",
       "      <td>0.0</td>\n",
       "    </tr>\n",
       "    <tr>\n",
       "      <th>2022-04-23 23:45:00</th>\n",
       "      <td>0.01651</td>\n",
       "      <td>0.0</td>\n",
       "    </tr>\n",
       "  </tbody>\n",
       "</table>\n",
       "<p>11898 rows × 2 columns</p>\n",
       "</div>"
      ],
      "text/plain": [
       "                       Preds  True\n",
       "Timestamp                         \n",
       "2021-12-21 01:30:00  0.01651   0.0\n",
       "2021-12-21 01:45:00  0.01651   0.0\n",
       "2021-12-21 02:00:00  0.01651   0.0\n",
       "2021-12-21 02:15:00  0.01651   0.0\n",
       "2021-12-21 02:30:00  0.01651   0.0\n",
       "...                      ...   ...\n",
       "2022-04-23 22:45:00  0.01651   0.0\n",
       "2022-04-23 23:00:00  0.01651   0.0\n",
       "2022-04-23 23:15:00  0.01651   0.0\n",
       "2022-04-23 23:30:00  0.01651   0.0\n",
       "2022-04-23 23:45:00  0.01651   0.0\n",
       "\n",
       "[11898 rows x 2 columns]"
      ]
     },
     "execution_count": 3,
     "metadata": {},
     "output_type": "execute_result"
    }
   ],
   "source": [
    "df"
   ]
  },
  {
   "cell_type": "code",
   "execution_count": 5,
   "id": "1c01c5c0-f710-44df-91f3-28a17492f10e",
   "metadata": {},
   "outputs": [],
   "source": [
    "#subtracting the night time predictions from all prediction observations\n",
    "df['Preds_Subtract'] = df['Preds'] - 0.01651"
   ]
  },
  {
   "cell_type": "code",
   "execution_count": 6,
   "id": "8fec93ac-af46-4c2c-83ac-711d1278e859",
   "metadata": {},
   "outputs": [
    {
     "data": {
      "text/plain": [
       "0.05707576039233695"
      ]
     },
     "execution_count": 6,
     "metadata": {},
     "output_type": "execute_result"
    }
   ],
   "source": [
    "mean_absolute_error(df['True'], df['Preds'])"
   ]
  },
  {
   "cell_type": "code",
   "execution_count": 7,
   "id": "4e92a029-2b8e-4ef6-9bd6-6c3a31439cef",
   "metadata": {},
   "outputs": [
    {
     "data": {
      "text/plain": [
       "0.04056576039233695"
      ]
     },
     "execution_count": 7,
     "metadata": {},
     "output_type": "execute_result"
    }
   ],
   "source": [
    "mean_absolute_error(df['True'], df['Preds_Subtract'])"
   ]
  },
  {
   "cell_type": "code",
   "execution_count": 8,
   "id": "8a34d1d6-58d9-49be-83f6-2a72a38c87ad",
   "metadata": {},
   "outputs": [
    {
     "data": {
      "text/plain": [
       "0.07573914037824164"
      ]
     },
     "execution_count": 8,
     "metadata": {},
     "output_type": "execute_result"
    }
   ],
   "source": [
    "mean_squared_error(df['True'], df['Preds'], squared = False)"
   ]
  },
  {
   "cell_type": "code",
   "execution_count": 9,
   "id": "87dacbbd-6f2c-4d34-8780-91777a09b156",
   "metadata": {},
   "outputs": [
    {
     "data": {
      "text/plain": [
       "0.06422114820742483"
      ]
     },
     "execution_count": 9,
     "metadata": {},
     "output_type": "execute_result"
    }
   ],
   "source": [
    "mean_squared_error(df['True'], df['Preds_Subtract'], squared = False)"
   ]
  },
  {
   "cell_type": "code",
   "execution_count": 18,
   "id": "41e8cb19-d34e-4a69-8f9b-28423e5b3565",
   "metadata": {},
   "outputs": [
    {
     "data": {
      "text/plain": [
       "<matplotlib.legend.Legend at 0x2133144afd0>"
      ]
     },
     "execution_count": 18,
     "metadata": {},
     "output_type": "execute_result"
    },
    {
     "data": {
      "image/png": "[encoded data removed]",
      "text/plain": [
       "<Figure size 1000x1000 with 1 Axes>"
      ]
     },
     "metadata": {},
     "output_type": "display_data"
    }
   ],
   "source": [
    "ax = plt.figure(figsize = (10, 10))\n",
    "ax = sns.histplot(data=df['Preds_Subtract'], color=\"purple\", label=\"Preds Minus\")\n",
    "#ax = sns.histplot(data=df['Preds'], color=\"green\", label=\"Preds\")\n",
    "ax = sns.histplot(data=df['True'], color=\"orange\", label=\"True\")\n",
    "ax.set_xlabel('Output (MinMax Scaled)', fontsize = 25)\n",
    "ax.set_ylabel('Count', fontsize = 25)\n",
    "ax.set_title('Preds Minus vs True Distribution', fontsize = 30)\n",
    "ax.legend(fontsize = 25)\n",
    "#plt.savefig('campus5_truevspreds.png');"
   ]
  },
  {
   "cell_type": "markdown",
   "id": "ea8fb724-131c-43eb-8372-4f789e8bd07c",
   "metadata": {},
   "source": [
    "---\n",
    "## Investigating Campus 1\n",
    "---"
   ]
  },
  {
   "cell_type": "code",
   "execution_count": 19,
   "id": "34dcce52-2cfb-42de-8646-84f5727ca824",
   "metadata": {},
   "outputs": [],
   "source": [
    "camp1 = pd.read_csv('../../data/predictions/camp1_pred.csv', index_col = 'Timestamp')\n",
    "camp1.index = pd.to_datetime(camp1.index)"
   ]
  },
  {
   "cell_type": "code",
   "execution_count": 20,
   "id": "bdb5c0bf-52c9-479c-8a66-c65fa7154cc5",
   "metadata": {},
   "outputs": [
    {
     "data": {
      "text/html": [
       "<div>\n",
       "<style scoped>\n",
       "    .dataframe tbody tr th:only-of-type {\n",
       "        vertical-align: middle;\n",
       "    }\n",
       "\n",
       "    .dataframe tbody tr th {\n",
       "        vertical-align: top;\n",
       "    }\n",
       "\n",
       "    .dataframe thead th {\n",
       "        text-align: right;\n",
       "    }\n",
       "</style>\n",
       "<table border=\"1\" class=\"dataframe\">\n",
       "  <thead>\n",
       "    <tr style=\"text-align: right;\">\n",
       "      <th></th>\n",
       "      <th>Preds</th>\n",
       "      <th>True</th>\n",
       "    </tr>\n",
       "    <tr>\n",
       "      <th>Timestamp</th>\n",
       "      <th></th>\n",
       "      <th></th>\n",
       "    </tr>\n",
       "  </thead>\n",
       "  <tbody>\n",
       "    <tr>\n",
       "      <th>2021-12-20 07:15:00</th>\n",
       "      <td>0.131513</td>\n",
       "      <td>0.089007</td>\n",
       "    </tr>\n",
       "    <tr>\n",
       "      <th>2021-12-20 07:30:00</th>\n",
       "      <td>0.195064</td>\n",
       "      <td>0.135334</td>\n",
       "    </tr>\n",
       "    <tr>\n",
       "      <th>2021-12-20 07:45:00</th>\n",
       "      <td>0.269535</td>\n",
       "      <td>0.190832</td>\n",
       "    </tr>\n",
       "    <tr>\n",
       "      <th>2021-12-20 08:00:00</th>\n",
       "      <td>0.350058</td>\n",
       "      <td>0.252968</td>\n",
       "    </tr>\n",
       "    <tr>\n",
       "      <th>2021-12-20 08:15:00</th>\n",
       "      <td>0.429891</td>\n",
       "      <td>0.317586</td>\n",
       "    </tr>\n",
       "    <tr>\n",
       "      <th>...</th>\n",
       "      <td>...</td>\n",
       "      <td>...</td>\n",
       "    </tr>\n",
       "    <tr>\n",
       "      <th>2022-04-23 22:45:00</th>\n",
       "      <td>0.007444</td>\n",
       "      <td>0.000000</td>\n",
       "    </tr>\n",
       "    <tr>\n",
       "      <th>2022-04-23 23:00:00</th>\n",
       "      <td>0.007444</td>\n",
       "      <td>0.000000</td>\n",
       "    </tr>\n",
       "    <tr>\n",
       "      <th>2022-04-23 23:15:00</th>\n",
       "      <td>0.007802</td>\n",
       "      <td>0.000256</td>\n",
       "    </tr>\n",
       "    <tr>\n",
       "      <th>2022-04-23 23:30:00</th>\n",
       "      <td>0.007444</td>\n",
       "      <td>0.000000</td>\n",
       "    </tr>\n",
       "    <tr>\n",
       "      <th>2022-04-23 23:45:00</th>\n",
       "      <td>0.007444</td>\n",
       "      <td>0.000000</td>\n",
       "    </tr>\n",
       "  </tbody>\n",
       "</table>\n",
       "<p>11971 rows × 2 columns</p>\n",
       "</div>"
      ],
      "text/plain": [
       "                        Preds      True\n",
       "Timestamp                              \n",
       "2021-12-20 07:15:00  0.131513  0.089007\n",
       "2021-12-20 07:30:00  0.195064  0.135334\n",
       "2021-12-20 07:45:00  0.269535  0.190832\n",
       "2021-12-20 08:00:00  0.350058  0.252968\n",
       "2021-12-20 08:15:00  0.429891  0.317586\n",
       "...                       ...       ...\n",
       "2022-04-23 22:45:00  0.007444  0.000000\n",
       "2022-04-23 23:00:00  0.007444  0.000000\n",
       "2022-04-23 23:15:00  0.007802  0.000256\n",
       "2022-04-23 23:30:00  0.007444  0.000000\n",
       "2022-04-23 23:45:00  0.007444  0.000000\n",
       "\n",
       "[11971 rows x 2 columns]"
      ]
     },
     "execution_count": 20,
     "metadata": {},
     "output_type": "execute_result"
    }
   ],
   "source": [
    "camp1"
   ]
  },
  {
   "cell_type": "code",
   "execution_count": 21,
   "id": "47f377ba-f615-4b6a-bfce-84498ea0ab36",
   "metadata": {},
   "outputs": [],
   "source": [
    "#subtracting the night time predictions from all prediction observations\n",
    "camp1['Preds_Subtract'] = camp1['Preds'] - 0.007444"
   ]
  },
  {
   "cell_type": "code",
   "execution_count": 22,
   "id": "a0ef1bfe-9438-46b7-aeeb-59a6de813adf",
   "metadata": {},
   "outputs": [
    {
     "data": {
      "text/plain": [
       "(0.045766663127856794, 0.06507836138853994)"
      ]
     },
     "execution_count": 22,
     "metadata": {},
     "output_type": "execute_result"
    }
   ],
   "source": [
    "mean_absolute_error(camp1['True'], camp1['Preds']), mean_squared_error(camp1['True'], camp1['Preds'], squared = False)"
   ]
  },
  {
   "cell_type": "code",
   "execution_count": 23,
   "id": "33602178-f211-49d6-be5a-9a030a9b7460",
   "metadata": {},
   "outputs": [
    {
     "data": {
      "text/plain": [
       "(0.03832274603904214, 0.06007688554152816)"
      ]
     },
     "execution_count": 23,
     "metadata": {},
     "output_type": "execute_result"
    }
   ],
   "source": [
    "mean_absolute_error(camp1['True'], camp1['Preds_Subtract']), mean_squared_error(camp1['True'], camp1['Preds_Subtract'], squared = False)"
   ]
  },
  {
   "cell_type": "markdown",
   "id": "0738f88a-a230-4e74-b840-2ebaad5c22c6",
   "metadata": {},
   "source": [
    "---\n",
    "## Investigating Site 10\n",
    "---"
   ]
  },
  {
   "cell_type": "code",
   "execution_count": 24,
   "id": "a0c1c9b5-5b74-4729-8823-3c44ae6efc09",
   "metadata": {},
   "outputs": [],
   "source": [
    "site10 = pd.read_csv('../../data/predictions/site10_pred.csv', index_col = 'Timestamp')\n",
    "site10.index = pd.to_datetime(site10.index)"
   ]
  },
  {
   "cell_type": "code",
   "execution_count": 25,
   "id": "a618fdd5-4448-47fb-bb46-63de2a940df5",
   "metadata": {},
   "outputs": [
    {
     "data": {
      "text/html": [
       "<div>\n",
       "<style scoped>\n",
       "    .dataframe tbody tr th:only-of-type {\n",
       "        vertical-align: middle;\n",
       "    }\n",
       "\n",
       "    .dataframe tbody tr th {\n",
       "        vertical-align: top;\n",
       "    }\n",
       "\n",
       "    .dataframe thead th {\n",
       "        text-align: right;\n",
       "    }\n",
       "</style>\n",
       "<table border=\"1\" class=\"dataframe\">\n",
       "  <thead>\n",
       "    <tr style=\"text-align: right;\">\n",
       "      <th></th>\n",
       "      <th>Preds</th>\n",
       "      <th>True</th>\n",
       "    </tr>\n",
       "    <tr>\n",
       "      <th>Timestamp</th>\n",
       "      <th></th>\n",
       "      <th></th>\n",
       "    </tr>\n",
       "  </thead>\n",
       "  <tbody>\n",
       "    <tr>\n",
       "      <th>2021-12-21 01:30:00</th>\n",
       "      <td>0.009725</td>\n",
       "      <td>0.0</td>\n",
       "    </tr>\n",
       "    <tr>\n",
       "      <th>2021-12-21 01:45:00</th>\n",
       "      <td>0.009725</td>\n",
       "      <td>0.0</td>\n",
       "    </tr>\n",
       "    <tr>\n",
       "      <th>2021-12-21 02:00:00</th>\n",
       "      <td>0.009725</td>\n",
       "      <td>0.0</td>\n",
       "    </tr>\n",
       "    <tr>\n",
       "      <th>2021-12-21 02:15:00</th>\n",
       "      <td>0.009725</td>\n",
       "      <td>0.0</td>\n",
       "    </tr>\n",
       "    <tr>\n",
       "      <th>2021-12-21 02:30:00</th>\n",
       "      <td>0.009725</td>\n",
       "      <td>0.0</td>\n",
       "    </tr>\n",
       "    <tr>\n",
       "      <th>...</th>\n",
       "      <td>...</td>\n",
       "      <td>...</td>\n",
       "    </tr>\n",
       "    <tr>\n",
       "      <th>2022-04-23 22:45:00</th>\n",
       "      <td>0.009725</td>\n",
       "      <td>0.0</td>\n",
       "    </tr>\n",
       "    <tr>\n",
       "      <th>2022-04-23 23:00:00</th>\n",
       "      <td>0.009725</td>\n",
       "      <td>0.0</td>\n",
       "    </tr>\n",
       "    <tr>\n",
       "      <th>2022-04-23 23:15:00</th>\n",
       "      <td>0.009725</td>\n",
       "      <td>0.0</td>\n",
       "    </tr>\n",
       "    <tr>\n",
       "      <th>2022-04-23 23:30:00</th>\n",
       "      <td>0.009725</td>\n",
       "      <td>0.0</td>\n",
       "    </tr>\n",
       "    <tr>\n",
       "      <th>2022-04-23 23:45:00</th>\n",
       "      <td>0.009725</td>\n",
       "      <td>0.0</td>\n",
       "    </tr>\n",
       "  </tbody>\n",
       "</table>\n",
       "<p>11898 rows × 2 columns</p>\n",
       "</div>"
      ],
      "text/plain": [
       "                        Preds  True\n",
       "Timestamp                          \n",
       "2021-12-21 01:30:00  0.009725   0.0\n",
       "2021-12-21 01:45:00  0.009725   0.0\n",
       "2021-12-21 02:00:00  0.009725   0.0\n",
       "2021-12-21 02:15:00  0.009725   0.0\n",
       "2021-12-21 02:30:00  0.009725   0.0\n",
       "...                       ...   ...\n",
       "2022-04-23 22:45:00  0.009725   0.0\n",
       "2022-04-23 23:00:00  0.009725   0.0\n",
       "2022-04-23 23:15:00  0.009725   0.0\n",
       "2022-04-23 23:30:00  0.009725   0.0\n",
       "2022-04-23 23:45:00  0.009725   0.0\n",
       "\n",
       "[11898 rows x 2 columns]"
      ]
     },
     "execution_count": 25,
     "metadata": {},
     "output_type": "execute_result"
    }
   ],
   "source": [
    "site10"
   ]
  },
  {
   "cell_type": "code",
   "execution_count": 26,
   "id": "51b862bf-3d30-4b78-b849-e3853e09fabe",
   "metadata": {},
   "outputs": [],
   "source": [
    "site10['Preds_Subtract'] = site10['Preds'] - 0.009725"
   ]
  },
  {
   "cell_type": "code",
   "execution_count": 27,
   "id": "ab962544-12ce-49ae-9838-e76382da72bc",
   "metadata": {},
   "outputs": [
    {
     "data": {
      "text/plain": [
       "(0.046847424052304805, 0.06921078053183823)"
      ]
     },
     "execution_count": 27,
     "metadata": {},
     "output_type": "execute_result"
    }
   ],
   "source": [
    "mean_absolute_error(site10['True'], site10['Preds']), mean_squared_error(site10['True'], site10['Preds'], squared = False)"
   ]
  },
  {
   "cell_type": "code",
   "execution_count": 28,
   "id": "32cb2884-50b9-4c86-a72e-b3eea83a20ed",
   "metadata": {},
   "outputs": [
    {
     "data": {
      "text/plain": [
       "(0.03993926338453198, 0.0653391469539091)"
      ]
     },
     "execution_count": 28,
     "metadata": {},
     "output_type": "execute_result"
    }
   ],
   "source": [
    "mean_absolute_error(site10['True'], site10['Preds_Subtract']), mean_squared_error(site10['True'], site10['Preds_Subtract'], squared = False)"
   ]
  }
 ],
 "metadata": {
  "kernelspec": {
   "display_name": "Python 3 (ipykernel)",
   "language": "python",
   "name": "python3"
  },
  "language_info": {
   "codemirror_mode": {
    "name": "ipython",
    "version": 3
   },
   "file_extension": ".py",
   "mimetype": "text/x-python",
   "name": "python",
   "nbconvert_exporter": "python",
   "pygments_lexer": "ipython3",
   "version": "3.9.13"
  }
 },
 "nbformat": 4,
 "nbformat_minor": 5
}
