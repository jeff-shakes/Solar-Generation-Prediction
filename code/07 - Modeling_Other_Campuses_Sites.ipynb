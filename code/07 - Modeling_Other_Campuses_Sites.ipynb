{
  "nbformat": 4,
  "nbformat_minor": 0,
  "metadata": {
    "colab": {
      "provenance": []
    },
    "kernelspec": {
      "name": "python3",
      "display_name": "Python 3"
    },
    "language_info": {
      "name": "python"
    }
  },
  "cells": [
    {
      "cell_type": "markdown",
      "source": [
        "# Univariate Modeling of Other Campuses and Specific Sites Using the Best Found Models of Campus 5 Investigation\n",
        "\n",
        "#### (Meant to be run within Google Colab)"
      ],
      "metadata": {
        "id": "H3LPkfENlkfl"
      }
    },
    {
      "cell_type": "code",
      "execution_count": 1,
      "metadata": {
        "id": "HhX3E_BDk7-N"
      },
      "outputs": [],
      "source": [
        "import pandas as pd\n",
        "import numpy as np\n",
        "\n",
        "from sklearn.model_selection import train_test_split\n",
        "from sklearn.metrics import accuracy_score, mean_squared_error, mean_absolute_error\n",
        "\n",
        "from tensorflow.keras.models import Sequential\n",
        "from tensorflow.keras.layers import Dense, SimpleRNN\n",
        "from tensorflow.keras.optimizers import Adam\n",
        "from tensorflow.keras.preprocessing.sequence import TimeseriesGenerator\n",
        "from tensorflow.keras.utils import timeseries_dataset_from_array\n",
        "from tensorflow.keras.callbacks import EarlyStopping\n",
        "\n",
        "import matplotlib.pyplot as plt\n",
        "np.random.seed(42)"
      ]
    },
    {
      "cell_type": "code",
      "source": [
        "#mount drive\n",
        "from google.colab import drive\n",
        "drive.mount('/content/drive')"
      ],
      "metadata": {
        "colab": {
          "base_uri": "https://localhost:8080/"
        },
        "id": "JjY0c8uDlFbu",
        "outputId": "44f970f4-f9bf-463a-d289-460e0641bbda"
      },
      "execution_count": 2,
      "outputs": [
        {
          "output_type": "stream",
          "name": "stdout",
          "text": [
            "Mounted at /content/drive\n"
          ]
        }
      ]
    },
    {
      "cell_type": "code",
      "source": [
        "#import campus5\n",
        "from google.colab import files\n",
        "import io\n",
        "\n",
        "uploaded = files.upload()\n",
        "\n",
        "campus1 = io.BytesIO(uploaded['campus1.csv'])\n",
        "camp1 = pd.read_csv(campus1)\n",
        "camp1.index = pd.to_datetime(camp1['Timestamp'])\n",
        "\n",
        "campus2 = io.BytesIO(uploaded['campus2.csv'])\n",
        "camp2 = pd.read_csv(campus2)\n",
        "camp2.index = pd.to_datetime(camp2['Timestamp'])\n",
        "\n",
        "campus3 = io.BytesIO(uploaded['campus3.csv'])\n",
        "camp3 = pd.read_csv(campus3)\n",
        "camp3.index = pd.to_datetime(camp3['Timestamp'])\n",
        "\n",
        "campus4 = io.BytesIO(uploaded['campus4.csv'])\n",
        "camp4 = pd.read_csv(campus4)\n",
        "camp4.index = pd.to_datetime(camp4['Timestamp'])\n",
        "\n",
        "camp3_site6 = io.BytesIO(uploaded['campus3_site6.csv'])\n",
        "site6 = pd.read_csv(camp3_site6)\n",
        "site6.index = pd.to_datetime(site6['Timestamp'])\n",
        "\n",
        "camp3_site8 = io.BytesIO(uploaded['campus3_site8.csv'])\n",
        "site8 = pd.read_csv(camp3_site8)\n",
        "site8.index = pd.to_datetime(site8['Timestamp'])\n",
        "\n",
        "camp3_site10 = io.BytesIO(uploaded['campus3_site10.csv'])\n",
        "site10 = pd.read_csv(camp3_site10)\n",
        "site10.index = pd.to_datetime(site10['Timestamp'])\n",
        "\n",
        "camp3_site12 = io.BytesIO(uploaded['campus3_site12.csv'])\n",
        "site12 = pd.read_csv(camp3_site12)\n",
        "site12.index = pd.to_datetime(site12['Timestamp'])"
      ],
      "metadata": {
        "colab": {
          "base_uri": "https://localhost:8080/",
          "height": 356
        },
        "id": "1nirSdSSlFZN",
        "outputId": "be46ad91-1c9d-4aca-b5da-2258f4fda6b7"
      },
      "execution_count": 3,
      "outputs": [
        {
          "output_type": "display_data",
          "data": {
            "text/plain": [
              "<IPython.core.display.HTML object>"
            ],
            "text/html": [
              "\n",
              "     <input type=\"file\" id=\"files-3a6c730a-80ac-4f27-880a-6b0c4371e60a\" name=\"files[]\" multiple disabled\n",
              "        style=\"border:none\" />\n",
              "     <output id=\"result-3a6c730a-80ac-4f27-880a-6b0c4371e60a\">\n",
              "      Upload widget is only available when the cell has been executed in the\n",
              "      current browser session. Please rerun this cell to enable.\n",
              "      </output>\n",
              "      <script>// Copyright 2017 Google LLC\n",
              "//\n",
              "// Licensed under the Apache License, Version 2.0 (the \"License\");\n",
              "// you may not use this file except in compliance with the License.\n",
              "// You may obtain a copy of the License at\n",
              "//\n",
              "//      http://www.apache.org/licenses/LICENSE-2.0\n",
              "//\n",
              "// Unless required by applicable law or agreed to in writing, software\n",
              "// distributed under the License is distributed on an \"AS IS\" BASIS,\n",
              "// WITHOUT WARRANTIES OR CONDITIONS OF ANY KIND, either express or implied.\n",
              "// See the License for the specific language governing permissions and\n",
              "// limitations under the License.\n",
              "\n",
              "/**\n",
              " * @fileoverview Helpers for google.colab Python module.\n",
              " */\n",
              "(function(scope) {\n",
              "function span(text, styleAttributes = {}) {\n",
              "  const element = document.createElement('span');\n",
              "  element.textContent = text;\n",
              "  for (const key of Object.keys(styleAttributes)) {\n",
              "    element.style[key] = styleAttributes[key];\n",
              "  }\n",
              "  return element;\n",
              "}\n",
              "\n",
              "// Max number of bytes which will be uploaded at a time.\n",
              "const MAX_PAYLOAD_SIZE = 100 * 1024;\n",
              "\n",
              "function _uploadFiles(inputId, outputId) {\n",
              "  const steps = uploadFilesStep(inputId, outputId);\n",
              "  const outputElement = document.getElementById(outputId);\n",
              "  // Cache steps on the outputElement to make it available for the next call\n",
              "  // to uploadFilesContinue from Python.\n",
              "  outputElement.steps = steps;\n",
              "\n",
              "  return _uploadFilesContinue(outputId);\n",
              "}\n",
              "\n",
              "// This is roughly an async generator (not supported in the browser yet),\n",
              "// where there are multiple asynchronous steps and the Python side is going\n",
              "// to poll for completion of each step.\n",
              "// This uses a Promise to block the python side on completion of each step,\n",
              "// then passes the result of the previous step as the input to the next step.\n",
              "function _uploadFilesContinue(outputId) {\n",
              "  const outputElement = document.getElementById(outputId);\n",
              "  const steps = outputElement.steps;\n",
              "\n",
              "  const next = steps.next(outputElement.lastPromiseValue);\n",
              "  return Promise.resolve(next.value.promise).then((value) => {\n",
              "    // Cache the last promise value to make it available to the next\n",
              "    // step of the generator.\n",
              "    outputElement.lastPromiseValue = value;\n",
              "    return next.value.response;\n",
              "  });\n",
              "}\n",
              "\n",
              "/**\n",
              " * Generator function which is called between each async step of the upload\n",
              " * process.\n",
              " * @param {string} inputId Element ID of the input file picker element.\n",
              " * @param {string} outputId Element ID of the output display.\n",
              " * @return {!Iterable<!Object>} Iterable of next steps.\n",
              " */\n",
              "function* uploadFilesStep(inputId, outputId) {\n",
              "  const inputElement = document.getElementById(inputId);\n",
              "  inputElement.disabled = false;\n",
              "\n",
              "  const outputElement = document.getElementById(outputId);\n",
              "  outputElement.innerHTML = '';\n",
              "\n",
              "  const pickedPromise = new Promise((resolve) => {\n",
              "    inputElement.addEventListener('change', (e) => {\n",
              "      resolve(e.target.files);\n",
              "    });\n",
              "  });\n",
              "\n",
              "  const cancel = document.createElement('button');\n",
              "  inputElement.parentElement.appendChild(cancel);\n",
              "  cancel.textContent = 'Cancel upload';\n",
              "  const cancelPromise = new Promise((resolve) => {\n",
              "    cancel.onclick = () => {\n",
              "      resolve(null);\n",
              "    };\n",
              "  });\n",
              "\n",
              "  // Wait for the user to pick the files.\n",
              "  const files = yield {\n",
              "    promise: Promise.race([pickedPromise, cancelPromise]),\n",
              "    response: {\n",
              "      action: 'starting',\n",
              "    }\n",
              "  };\n",
              "\n",
              "  cancel.remove();\n",
              "\n",
              "  // Disable the input element since further picks are not allowed.\n",
              "  inputElement.disabled = true;\n",
              "\n",
              "  if (!files) {\n",
              "    return {\n",
              "      response: {\n",
              "        action: 'complete',\n",
              "      }\n",
              "    };\n",
              "  }\n",
              "\n",
              "  for (const file of files) {\n",
              "    const li = document.createElement('li');\n",
              "    li.append(span(file.name, {fontWeight: 'bold'}));\n",
              "    li.append(span(\n",
              "        `(${file.type || 'n/a'}) - ${file.size} bytes, ` +\n",
              "        `last modified: ${\n",
              "            file.lastModifiedDate ? file.lastModifiedDate.toLocaleDateString() :\n",
              "                                    'n/a'} - `));\n",
              "    const percent = span('0% done');\n",
              "    li.appendChild(percent);\n",
              "\n",
              "    outputElement.appendChild(li);\n",
              "\n",
              "    const fileDataPromise = new Promise((resolve) => {\n",
              "      const reader = new FileReader();\n",
              "      reader.onload = (e) => {\n",
              "        resolve(e.target.result);\n",
              "      };\n",
              "      reader.readAsArrayBuffer(file);\n",
              "    });\n",
              "    // Wait for the data to be ready.\n",
              "    let fileData = yield {\n",
              "      promise: fileDataPromise,\n",
              "      response: {\n",
              "        action: 'continue',\n",
              "      }\n",
              "    };\n",
              "\n",
              "    // Use a chunked sending to avoid message size limits. See b/62115660.\n",
              "    let position = 0;\n",
              "    do {\n",
              "      const length = Math.min(fileData.byteLength - position, MAX_PAYLOAD_SIZE);\n",
              "      const chunk = new Uint8Array(fileData, position, length);\n",
              "      position += length;\n",
              "\n",
              "      const base64 = btoa(String.fromCharCode.apply(null, chunk));\n",
              "      yield {\n",
              "        response: {\n",
              "          action: 'append',\n",
              "          file: file.name,\n",
              "          data: base64,\n",
              "        },\n",
              "      };\n",
              "\n",
              "      let percentDone = fileData.byteLength === 0 ?\n",
              "          100 :\n",
              "          Math.round((position / fileData.byteLength) * 100);\n",
              "      percent.textContent = `${percentDone}% done`;\n",
              "\n",
              "    } while (position < fileData.byteLength);\n",
              "  }\n",
              "\n",
              "  // All done.\n",
              "  yield {\n",
              "    response: {\n",
              "      action: 'complete',\n",
              "    }\n",
              "  };\n",
              "}\n",
              "\n",
              "scope.google = scope.google || {};\n",
              "scope.google.colab = scope.google.colab || {};\n",
              "scope.google.colab._files = {\n",
              "  _uploadFiles,\n",
              "  _uploadFilesContinue,\n",
              "};\n",
              "})(self);\n",
              "</script> "
            ]
          },
          "metadata": {}
        },
        {
          "output_type": "stream",
          "name": "stdout",
          "text": [
            "Saving campus1.csv to campus1.csv\n",
            "Saving campus2.csv to campus2.csv\n",
            "Saving campus3.csv to campus3.csv\n",
            "Saving campus3_site6.csv to campus3_site6.csv\n",
            "Saving campus3_site8.csv to campus3_site8.csv\n",
            "Saving campus3_site10.csv to campus3_site10.csv\n",
            "Saving campus3_site12.csv to campus3_site12.csv\n",
            "Saving campus4.csv to campus4.csv\n",
            "Saving campus5.csv to campus5.csv\n"
          ]
        }
      ]
    },
    {
      "cell_type": "code",
      "source": [
        "camp1 = camp1['SolarGeneration']\n",
        "camp2 = camp2['SolarGeneration']\n",
        "camp3 = camp3['SolarGeneration']\n",
        "camp4 = camp4['SolarGeneration']\n",
        "site6 = site6['SolarGeneration']\n",
        "site8 = site8['SolarGeneration']\n",
        "site10 = site10['SolarGeneration']\n",
        "site12 = site12['SolarGeneration']"
      ],
      "metadata": {
        "id": "SmqJbzCVpgJV"
      },
      "execution_count": 4,
      "outputs": []
    },
    {
      "cell_type": "code",
      "source": [
        "def print_last(res):\n",
        "  '''\n",
        "  Helper function to just print out the last training and testing loss \n",
        "  function values as well as the last metrics of a fitted model\n",
        "  '''\n",
        "  print(f\"Mean Absolute Error - Training: {np.round(res.history['loss'][-1], 5)}\")\n",
        "  print(f\"Mean Absolute Error - Testing: {np.round(res.history['val_loss'][-1], 5)}\")\n",
        "  print(f\"Root Mean Squared Error - Training: {np.round(np.sqrt(res.history['mse'][-1]), 5)}\")\n",
        "  print(f\"Root Mean Squared Error - Testing: {np.round(np.sqrt(res.history['val_mse'][-1]), 5)}\")"
      ],
      "metadata": {
        "id": "mJ84-o8pldZH"
      },
      "execution_count": 5,
      "outputs": []
    },
    {
      "cell_type": "code",
      "source": [
        "def best_model_1(df):\n",
        "  '''\n",
        "\n",
        "  '''\n",
        "  y_train, y_test = train_test_split(df, shuffle = False, test_size = 0.15)\n",
        "\n",
        "  early_stop = EarlyStopping(monitor = 'val_loss', patience = 5)\n",
        "\n",
        "  seq_length = 96\n",
        "  train_ds = timeseries_dataset_from_array(\n",
        "    y_train.to_numpy(),\n",
        "    targets = y_train[seq_length:],\n",
        "    sequence_length = seq_length,\n",
        "    batch_size = 672,\n",
        "    shuffle = True,\n",
        "    seed = 42\n",
        "  )\n",
        "\n",
        "  val_ds = timeseries_dataset_from_array(\n",
        "    y_test.to_numpy(),\n",
        "    targets = y_test[seq_length:],\n",
        "    sequence_length = seq_length,\n",
        "    batch_size = 672,\n",
        "  )\n",
        "\n",
        "  model = Sequential()\n",
        "\n",
        "  model.add(SimpleRNN(64, input_shape = [None,1]))\n",
        "  model.add(Dense(1, activation = 'linear'))\n",
        "\n",
        "  model.compile(loss = 'mae',\n",
        "                optimizer = Adam(learning_rate = 0.002), \n",
        "                metrics = ['mse'])\n",
        "\n",
        "  res = model.fit(train_ds, \n",
        "                  validation_data = val_ds, \n",
        "                  epochs = 50, \n",
        "                  verbose = 0,\n",
        "                  callbacks = [early_stop])\n",
        "\n",
        "  print_last(res)"
      ],
      "metadata": {
        "id": "m5s73BWboixi"
      },
      "execution_count": 6,
      "outputs": []
    },
    {
      "cell_type": "code",
      "source": [
        "def best_model_2(df):\n",
        "  '''\n",
        "\n",
        "  '''\n",
        "  y_train, y_test = train_test_split(df, shuffle = False, test_size = 0.15)\n",
        "\n",
        "  early_stop = EarlyStopping(monitor = 'val_loss', patience = 5)\n",
        "\n",
        "  seq_length = 16\n",
        "  train_ds = timeseries_dataset_from_array(\n",
        "    y_train.to_numpy(),\n",
        "    targets = y_train[seq_length:],\n",
        "    sequence_length = seq_length,\n",
        "    batch_size = 96,\n",
        "    shuffle = True,\n",
        "    seed = 42\n",
        "  )\n",
        "\n",
        "  val_ds = timeseries_dataset_from_array(\n",
        "    y_test.to_numpy(),\n",
        "    targets = y_test[seq_length:],\n",
        "    sequence_length = seq_length,\n",
        "    batch_size = 96,\n",
        "  )\n",
        "\n",
        "  model = Sequential()\n",
        "\n",
        "  model.add(SimpleRNN(32, input_shape = [None,1], return_sequences = True))\n",
        "  model.add(SimpleRNN(32, input_shape = [None,1]))\n",
        "  model.add(Dense(1, activation = 'linear'))\n",
        "\n",
        "  model.compile(loss = 'mae',\n",
        "                optimizer = Adam(learning_rate = 0.0015), \n",
        "                metrics = ['mse'])\n",
        "\n",
        "  res = model.fit(train_ds, \n",
        "                  validation_data = val_ds, \n",
        "                  epochs = 50, \n",
        "                  verbose = 0,\n",
        "                  callbacks = [early_stop])\n",
        "\n",
        "  print_last(res)"
      ],
      "metadata": {
        "id": "lfZiLno6qrKq"
      },
      "execution_count": 7,
      "outputs": []
    },
    {
      "cell_type": "markdown",
      "source": [
        "## Campus 1 (27 Individual Sites)"
      ],
      "metadata": {
        "id": "MDGvomhLQD2I"
      }
    },
    {
      "cell_type": "code",
      "source": [
        "best_model_1(camp1)"
      ],
      "metadata": {
        "colab": {
          "base_uri": "https://localhost:8080/"
        },
        "id": "FiP5n5vyqPaD",
        "outputId": "511433df-d759-489a-8550-3e57331e8e12"
      },
      "execution_count": 19,
      "outputs": [
        {
          "output_type": "stream",
          "name": "stdout",
          "text": [
            "Mean Absolute Error - Training: 16.52437\n",
            "Mean Absolute Error - Testing: 24.43195\n",
            "Root Mean Squared Error - Training: 41.72521\n",
            "Root Mean Squared Error - Testing: 51.46141\n"
          ]
        }
      ]
    },
    {
      "cell_type": "code",
      "source": [
        "best_model_2(camp1)"
      ],
      "metadata": {
        "colab": {
          "base_uri": "https://localhost:8080/"
        },
        "id": "rZTgL2WXpZ8-",
        "outputId": "cb14a19c-7144-4c22-b3bf-0bbad4f6b15b"
      },
      "execution_count": 23,
      "outputs": [
        {
          "output_type": "stream",
          "name": "stdout",
          "text": [
            "Mean Absolute Error - Training: 14.36009\n",
            "Mean Absolute Error - Testing: 19.40275\n",
            "Root Mean Squared Error - Training: 36.19741\n",
            "Root Mean Squared Error - Testing: 41.92194\n"
          ]
        }
      ]
    },
    {
      "cell_type": "code",
      "source": [
        "camp1.describe()"
      ],
      "metadata": {
        "colab": {
          "base_uri": "https://localhost:8080/"
        },
        "id": "grAV_PXJrQHr",
        "outputId": "c3ceebd1-d022-45d4-85a9-5d6a1eb87ce3"
      },
      "execution_count": 8,
      "outputs": [
        {
          "output_type": "execute_result",
          "data": {
            "text/plain": [
              "count    79805.000000\n",
              "mean        65.356255\n",
              "std        111.950191\n",
              "min          0.000000\n",
              "25%          0.000000\n",
              "50%          0.000000\n",
              "75%         83.318359\n",
              "max        488.087891\n",
              "Name: SolarGeneration, dtype: float64"
            ]
          },
          "metadata": {},
          "execution_count": 8
        }
      ]
    },
    {
      "cell_type": "markdown",
      "source": [
        "## Campus 2 (5 Individual Sites)"
      ],
      "metadata": {
        "id": "nqHFCiwBQboS"
      }
    },
    {
      "cell_type": "code",
      "source": [
        "best_model_1(camp2)"
      ],
      "metadata": {
        "colab": {
          "base_uri": "https://localhost:8080/"
        },
        "id": "a-tNUoNer7C_",
        "outputId": "b6c1bdbd-cedb-4171-9197-ca2a5c0d2751"
      },
      "execution_count": 24,
      "outputs": [
        {
          "output_type": "stream",
          "name": "stdout",
          "text": [
            "Mean Absolute Error - Training: 1.74422\n",
            "Mean Absolute Error - Testing: 1.85078\n",
            "Root Mean Squared Error - Training: 4.64117\n",
            "Root Mean Squared Error - Testing: 5.06055\n"
          ]
        }
      ]
    },
    {
      "cell_type": "code",
      "source": [
        "best_model_2(camp2)"
      ],
      "metadata": {
        "colab": {
          "base_uri": "https://localhost:8080/"
        },
        "id": "QdD3s-mxr7AT",
        "outputId": "7bf30d59-b717-42ec-aa9b-487b79652009"
      },
      "execution_count": 25,
      "outputs": [
        {
          "output_type": "stream",
          "name": "stdout",
          "text": [
            "Mean Absolute Error - Training: 1.78639\n",
            "Mean Absolute Error - Testing: 1.95337\n",
            "Root Mean Squared Error - Training: 4.68326\n",
            "Root Mean Squared Error - Testing: 5.13774\n"
          ]
        }
      ]
    },
    {
      "cell_type": "code",
      "source": [
        "camp2.describe()"
      ],
      "metadata": {
        "colab": {
          "base_uri": "https://localhost:8080/"
        },
        "id": "CTNhAerNr69o",
        "outputId": "f10efb11-f04a-4dc0-efaf-2fc3a6dffc49"
      },
      "execution_count": 9,
      "outputs": [
        {
          "output_type": "execute_result",
          "data": {
            "text/plain": [
              "count    79319.000000\n",
              "mean        10.708011\n",
              "std         16.009950\n",
              "min          0.000000\n",
              "25%          0.000000\n",
              "50%          0.000000\n",
              "75%         18.267578\n",
              "max         57.363281\n",
              "Name: SolarGeneration, dtype: float64"
            ]
          },
          "metadata": {},
          "execution_count": 9
        }
      ]
    },
    {
      "cell_type": "markdown",
      "source": [
        "# Campus 3 (8 Individual Sites)"
      ],
      "metadata": {
        "id": "jdiblkUSQmz0"
      }
    },
    {
      "cell_type": "code",
      "source": [
        "best_model_1(camp3)"
      ],
      "metadata": {
        "colab": {
          "base_uri": "https://localhost:8080/"
        },
        "id": "gxHV53gpr61r",
        "outputId": "3714066e-4fa8-4635-e3f5-b139da7beba5"
      },
      "execution_count": 26,
      "outputs": [
        {
          "output_type": "stream",
          "name": "stdout",
          "text": [
            "Mean Absolute Error - Training: 3.98758\n",
            "Mean Absolute Error - Testing: 8.07423\n",
            "Root Mean Squared Error - Training: 11.32356\n",
            "Root Mean Squared Error - Testing: 18.57514\n"
          ]
        }
      ]
    },
    {
      "cell_type": "code",
      "source": [
        "best_model_2(camp3)"
      ],
      "metadata": {
        "colab": {
          "base_uri": "https://localhost:8080/"
        },
        "id": "wqgeSUpGr6y7",
        "outputId": "7a074c96-6d1c-4f93-d972-1e160639356e"
      },
      "execution_count": 27,
      "outputs": [
        {
          "output_type": "stream",
          "name": "stdout",
          "text": [
            "Mean Absolute Error - Training: 3.83372\n",
            "Mean Absolute Error - Testing: 7.29851\n",
            "Root Mean Squared Error - Training: 11.04632\n",
            "Root Mean Squared Error - Testing: 17.88953\n"
          ]
        }
      ]
    },
    {
      "cell_type": "code",
      "source": [
        "camp3.describe()"
      ],
      "metadata": {
        "colab": {
          "base_uri": "https://localhost:8080/"
        },
        "id": "biIGckI0r6wI",
        "outputId": "fb6c18ab-386a-489a-c59a-13dbe7217265"
      },
      "execution_count": 10,
      "outputs": [
        {
          "output_type": "execute_result",
          "data": {
            "text/plain": [
              "count    79319.000000\n",
              "mean        23.040234\n",
              "std         42.159412\n",
              "min          0.000000\n",
              "25%          0.000000\n",
              "50%          0.000000\n",
              "75%         25.937500\n",
              "max        200.214844\n",
              "Name: SolarGeneration, dtype: float64"
            ]
          },
          "metadata": {},
          "execution_count": 10
        }
      ]
    },
    {
      "cell_type": "markdown",
      "source": [
        "## Campus 4 (1 Site)"
      ],
      "metadata": {
        "id": "ldZ737PwQxUk"
      }
    },
    {
      "cell_type": "code",
      "source": [
        "best_model_1(camp4)"
      ],
      "metadata": {
        "colab": {
          "base_uri": "https://localhost:8080/"
        },
        "id": "FBlexIKHr6qj",
        "outputId": "c0373818-72b7-4f02-9fd3-5cf045628998"
      },
      "execution_count": 28,
      "outputs": [
        {
          "output_type": "stream",
          "name": "stdout",
          "text": [
            "Mean Absolute Error - Training: 0.53562\n",
            "Mean Absolute Error - Testing: 0.79538\n",
            "Root Mean Squared Error - Training: 1.7806\n",
            "Root Mean Squared Error - Testing: 2.79865\n"
          ]
        }
      ]
    },
    {
      "cell_type": "code",
      "source": [
        "best_model_2(camp4)"
      ],
      "metadata": {
        "colab": {
          "base_uri": "https://localhost:8080/"
        },
        "id": "q7gJdfPir6n4",
        "outputId": "c9ea8505-7774-4378-fceb-24b642d35354"
      },
      "execution_count": 29,
      "outputs": [
        {
          "output_type": "stream",
          "name": "stdout",
          "text": [
            "Mean Absolute Error - Training: 0.54027\n",
            "Mean Absolute Error - Testing: 0.83392\n",
            "Root Mean Squared Error - Training: 1.75602\n",
            "Root Mean Squared Error - Testing: 2.76372\n"
          ]
        }
      ]
    },
    {
      "cell_type": "code",
      "source": [
        "camp4.describe()"
      ],
      "metadata": {
        "colab": {
          "base_uri": "https://localhost:8080/"
        },
        "id": "Hb7aFZ1Rr6lE",
        "outputId": "f367dfa3-ffbe-4335-c038-7b287022e6d6"
      },
      "execution_count": 11,
      "outputs": [
        {
          "output_type": "execute_result",
          "data": {
            "text/plain": [
              "count    79319.000000\n",
              "mean         4.021717\n",
              "std          5.999975\n",
              "min          0.000000\n",
              "25%          0.000000\n",
              "50%          0.000000\n",
              "75%          7.250000\n",
              "max         21.937500\n",
              "Name: SolarGeneration, dtype: float64"
            ]
          },
          "metadata": {},
          "execution_count": 11
        }
      ]
    },
    {
      "cell_type": "markdown",
      "source": [
        "---\n",
        "# Individual Sites on Campus 3 Modeled:"
      ],
      "metadata": {
        "id": "CZGRpwzKQ4vq"
      }
    },
    {
      "cell_type": "markdown",
      "source": [
        "### Site 6"
      ],
      "metadata": {
        "id": "RdzZy0z4Q_K3"
      }
    },
    {
      "cell_type": "code",
      "source": [
        "best_model_1(site6)"
      ],
      "metadata": {
        "colab": {
          "base_uri": "https://localhost:8080/"
        },
        "id": "JMwJSG_ashHk",
        "outputId": "d750fe04-8003-45d3-ee8e-3cdce7f5e748"
      },
      "execution_count": 30,
      "outputs": [
        {
          "output_type": "stream",
          "name": "stdout",
          "text": [
            "Mean Absolute Error - Training: 1.00163\n",
            "Mean Absolute Error - Testing: 0.8089\n",
            "Root Mean Squared Error - Training: 3.04606\n",
            "Root Mean Squared Error - Testing: 2.16687\n"
          ]
        }
      ]
    },
    {
      "cell_type": "code",
      "source": [
        "best_model_2(site6)"
      ],
      "metadata": {
        "colab": {
          "base_uri": "https://localhost:8080/"
        },
        "id": "VoIVfo2qshFD",
        "outputId": "7d5cc884-3db5-49d8-eae0-39cfab084540"
      },
      "execution_count": 31,
      "outputs": [
        {
          "output_type": "stream",
          "name": "stdout",
          "text": [
            "Mean Absolute Error - Training: 0.96492\n",
            "Mean Absolute Error - Testing: 0.87338\n",
            "Root Mean Squared Error - Training: 2.97394\n",
            "Root Mean Squared Error - Testing: 2.14722\n"
          ]
        }
      ]
    },
    {
      "cell_type": "code",
      "source": [
        "site6.describe()"
      ],
      "metadata": {
        "colab": {
          "base_uri": "https://localhost:8080/"
        },
        "id": "E1PzQoIkshCO",
        "outputId": "a3bef12a-c368-4f29-c453-7129596abfb6"
      },
      "execution_count": 12,
      "outputs": [
        {
          "output_type": "execute_result",
          "data": {
            "text/plain": [
              "count    42041.000000\n",
              "mean         5.200881\n",
              "std          7.994980\n",
              "min          0.000000\n",
              "25%          0.000000\n",
              "50%          0.000000\n",
              "75%          8.546875\n",
              "max         28.734375\n",
              "Name: SolarGeneration, dtype: float64"
            ]
          },
          "metadata": {},
          "execution_count": 12
        }
      ]
    },
    {
      "cell_type": "markdown",
      "source": [
        "### Site 8"
      ],
      "metadata": {
        "id": "pHu1lWfFRD85"
      }
    },
    {
      "cell_type": "code",
      "source": [
        "best_model_1(site8)"
      ],
      "metadata": {
        "colab": {
          "base_uri": "https://localhost:8080/"
        },
        "id": "CWDxF8bxspC0",
        "outputId": "5ff3682b-53bd-402c-d739-0f49de7236c5"
      },
      "execution_count": 32,
      "outputs": [
        {
          "output_type": "stream",
          "name": "stdout",
          "text": [
            "Mean Absolute Error - Training: 1.08763\n",
            "Mean Absolute Error - Testing: 0.83864\n",
            "Root Mean Squared Error - Training: 3.1308\n",
            "Root Mean Squared Error - Testing: 2.33301\n"
          ]
        }
      ]
    },
    {
      "cell_type": "code",
      "source": [
        "best_model_2(site8)"
      ],
      "metadata": {
        "colab": {
          "base_uri": "https://localhost:8080/"
        },
        "id": "JWFWjOIrspAH",
        "outputId": "d101dd38-92d8-408c-c63f-83a6f1f25d98"
      },
      "execution_count": 33,
      "outputs": [
        {
          "output_type": "stream",
          "name": "stdout",
          "text": [
            "Mean Absolute Error - Training: 0.9841\n",
            "Mean Absolute Error - Testing: 0.82053\n",
            "Root Mean Squared Error - Training: 2.96979\n",
            "Root Mean Squared Error - Testing: 2.29772\n"
          ]
        }
      ]
    },
    {
      "cell_type": "code",
      "source": [
        "site8.describe()"
      ],
      "metadata": {
        "colab": {
          "base_uri": "https://localhost:8080/"
        },
        "id": "dnWCTSLVso73",
        "outputId": "5c32edbe-1d60-4870-9082-222faaed5814"
      },
      "execution_count": 13,
      "outputs": [
        {
          "output_type": "execute_result",
          "data": {
            "text/plain": [
              "count    42041.000000\n",
              "mean         4.808123\n",
              "std          7.638348\n",
              "min          0.000000\n",
              "25%          0.000000\n",
              "50%          0.000000\n",
              "75%          7.453125\n",
              "max         26.968750\n",
              "Name: SolarGeneration, dtype: float64"
            ]
          },
          "metadata": {},
          "execution_count": 13
        }
      ]
    },
    {
      "cell_type": "markdown",
      "source": [
        "### Site 10"
      ],
      "metadata": {
        "id": "RhmxXo8PRHi5"
      }
    },
    {
      "cell_type": "code",
      "source": [
        "best_model_1(site10)"
      ],
      "metadata": {
        "colab": {
          "base_uri": "https://localhost:8080/"
        },
        "id": "f3CVNtm2so25",
        "outputId": "ecce1f53-fbd1-4618-cecb-b44018dc91c9"
      },
      "execution_count": 34,
      "outputs": [
        {
          "output_type": "stream",
          "name": "stdout",
          "text": [
            "Mean Absolute Error - Training: 0.29328\n",
            "Mean Absolute Error - Testing: 0.29072\n",
            "Root Mean Squared Error - Training: 0.84639\n",
            "Root Mean Squared Error - Testing: 0.88407\n"
          ]
        }
      ]
    },
    {
      "cell_type": "code",
      "source": [
        "best_model_2(site10)"
      ],
      "metadata": {
        "colab": {
          "base_uri": "https://localhost:8080/"
        },
        "id": "TlkrGZqpsoz-",
        "outputId": "086beba6-b426-4480-8674-b30a8981a223"
      },
      "execution_count": 35,
      "outputs": [
        {
          "output_type": "stream",
          "name": "stdout",
          "text": [
            "Mean Absolute Error - Training: 0.29991\n",
            "Mean Absolute Error - Testing: 0.29836\n",
            "Root Mean Squared Error - Training: 0.843\n",
            "Root Mean Squared Error - Testing: 0.88562\n"
          ]
        }
      ]
    },
    {
      "cell_type": "code",
      "source": [
        "site10.describe()"
      ],
      "metadata": {
        "colab": {
          "base_uri": "https://localhost:8080/"
        },
        "id": "cJS9rBtEsoxa",
        "outputId": "bbf95e39-9994-4319-f6da-27e16af11bf3"
      },
      "execution_count": 14,
      "outputs": [
        {
          "output_type": "execute_result",
          "data": {
            "text/plain": [
              "count    79319.000000\n",
              "mean         1.669451\n",
              "std          2.445814\n",
              "min          0.000000\n",
              "25%          0.000000\n",
              "50%          0.000000\n",
              "75%          3.046875\n",
              "max          7.750000\n",
              "Name: SolarGeneration, dtype: float64"
            ]
          },
          "metadata": {},
          "execution_count": 14
        }
      ]
    },
    {
      "cell_type": "markdown",
      "source": [
        "### Site 12"
      ],
      "metadata": {
        "id": "N-Kmu5grRPzD"
      }
    },
    {
      "cell_type": "code",
      "source": [
        "best_model_1(site12)"
      ],
      "metadata": {
        "colab": {
          "base_uri": "https://localhost:8080/"
        },
        "id": "gFaRN_OZsor9",
        "outputId": "8ac9847f-fc1a-41f7-aed4-07d2f1b8e9ef"
      },
      "execution_count": 36,
      "outputs": [
        {
          "output_type": "stream",
          "name": "stdout",
          "text": [
            "Mean Absolute Error - Training: 0.47677\n",
            "Mean Absolute Error - Testing: 0.93893\n",
            "Root Mean Squared Error - Training: 1.37274\n",
            "Root Mean Squared Error - Testing: 2.67354\n"
          ]
        }
      ]
    },
    {
      "cell_type": "code",
      "source": [
        "best_model_2(site12)"
      ],
      "metadata": {
        "colab": {
          "base_uri": "https://localhost:8080/"
        },
        "id": "mA32KrxWsopQ",
        "outputId": "b6a50f44-2be3-4e31-dc37-335940d97591"
      },
      "execution_count": 37,
      "outputs": [
        {
          "output_type": "stream",
          "name": "stdout",
          "text": [
            "Mean Absolute Error - Training: 0.46846\n",
            "Mean Absolute Error - Testing: 0.9102\n",
            "Root Mean Squared Error - Training: 1.34081\n",
            "Root Mean Squared Error - Testing: 2.64824\n"
          ]
        }
      ]
    },
    {
      "cell_type": "code",
      "source": [
        "site12.describe()"
      ],
      "metadata": {
        "colab": {
          "base_uri": "https://localhost:8080/"
        },
        "id": "yhm-d8Glsomk",
        "outputId": "0acec806-5bff-4660-da10-397b974ca130"
      },
      "execution_count": 15,
      "outputs": [
        {
          "output_type": "execute_result",
          "data": {
            "text/plain": [
              "count    79319.000000\n",
              "mean         2.827579\n",
              "std          4.491140\n",
              "min          0.000000\n",
              "25%          0.000000\n",
              "50%          0.000000\n",
              "75%          4.531250\n",
              "max         17.593700\n",
              "Name: SolarGeneration, dtype: float64"
            ]
          },
          "metadata": {},
          "execution_count": 15
        }
      ]
    }
  ]
}