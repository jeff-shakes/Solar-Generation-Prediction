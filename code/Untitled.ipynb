{
 "cells": [
  {
   "cell_type": "code",
   "execution_count": 28,
   "id": "b9a8efe1-fcf2-41a6-b068-56cddfcbff7d",
   "metadata": {},
   "outputs": [],
   "source": [
    "import numpy as np\n",
    "import pandas as pd\n",
    "\n",
    "from sklearn.model_selection import train_test_split\n",
    "from sklearn.preprocessing import StandardScaler\n",
    "from sklearn.metrics import accuracy_score, mean_squared_error\n",
    "\n",
    "from tensorflow.keras.models import Sequential\n",
    "from tensorflow.keras.layers import Dense, Dropout, LSTM, SimpleRNN, GRU\n",
    "from tensorflow.keras.optimizers import Adam\n",
    "from tensorflow.keras.preprocessing.sequence import TimeseriesGenerator"
   ]
  },
  {
   "cell_type": "code",
   "execution_count": 13,
   "id": "7cbd06e8-1ba8-44af-afc8-6d158f598d2e",
   "metadata": {},
   "outputs": [],
   "source": [
    "df = pd.read_csv('../data/cleaned/campus5.csv', index_col='Timestamp')\n",
    "df.index = pd.to_datetime(df.index)\n",
    "df1 = pd.date_range(start = df.index[0], end = df.index[-1], freq = '15min')\n",
    "df = df.reindex(df1, fill_value = 0)\n",
    "df.drop(columns = ['CampusKey', 'time'], inplace = True)"
   ]
  },
  {
   "cell_type": "code",
   "execution_count": 14,
   "id": "4f1dcf0e-3539-4507-ba18-6f9bbb03f706",
   "metadata": {},
   "outputs": [],
   "source": [
    "hourly = df.resample('H').mean()\n",
    "ww = df.iloc[33311:]"
   ]
  },
  {
   "cell_type": "code",
   "execution_count": 15,
   "id": "36124afc-7b67-44d8-93d5-7b152a69d99b",
   "metadata": {},
   "outputs": [],
   "source": [
    "ww = ww.interpolate(method = 'linear', limit_direction = 'forward')"
   ]
  },
  {
   "cell_type": "code",
   "execution_count": 21,
   "id": "bb32120d-66ec-4563-8862-b2df4a0a51d9",
   "metadata": {},
   "outputs": [],
   "source": [
    "features = [i for i in ww.columns if i != 'SolarGeneration']\n",
    "X = ww[features]\n",
    "y = ww['SolarGeneration']\n",
    "X_train, X_test, y_train, y_test = train_test_split(X, y, shuffle = False, test_size = 0.2)"
   ]
  },
  {
   "cell_type": "code",
   "execution_count": 22,
   "id": "3b8e120e-a455-4c05-9ea2-e35afcc0ad85",
   "metadata": {},
   "outputs": [
    {
     "data": {
      "text/html": [
       "<div>\n",
       "<style scoped>\n",
       "    .dataframe tbody tr th:only-of-type {\n",
       "        vertical-align: middle;\n",
       "    }\n",
       "\n",
       "    .dataframe tbody tr th {\n",
       "        vertical-align: top;\n",
       "    }\n",
       "\n",
       "    .dataframe thead th {\n",
       "        text-align: right;\n",
       "    }\n",
       "</style>\n",
       "<table border=\"1\" class=\"dataframe\">\n",
       "  <thead>\n",
       "    <tr style=\"text-align: right;\">\n",
       "      <th></th>\n",
       "      <th>ApparentTemperature</th>\n",
       "      <th>AirTemperature</th>\n",
       "      <th>DewPointTemperature</th>\n",
       "      <th>RelativeHumidity</th>\n",
       "      <th>WindSpeed</th>\n",
       "      <th>WindDirection</th>\n",
       "    </tr>\n",
       "  </thead>\n",
       "  <tbody>\n",
       "    <tr>\n",
       "      <th>2020-12-13 06:30:00</th>\n",
       "      <td>13.500000</td>\n",
       "      <td>16.333333</td>\n",
       "      <td>9.533333</td>\n",
       "      <td>64.000000</td>\n",
       "      <td>14.20</td>\n",
       "      <td>45.133333</td>\n",
       "    </tr>\n",
       "    <tr>\n",
       "      <th>2020-12-13 06:45:00</th>\n",
       "      <td>13.500000</td>\n",
       "      <td>16.600000</td>\n",
       "      <td>9.800000</td>\n",
       "      <td>64.000000</td>\n",
       "      <td>15.88</td>\n",
       "      <td>43.333333</td>\n",
       "    </tr>\n",
       "    <tr>\n",
       "      <th>2020-12-13 07:00:00</th>\n",
       "      <td>13.673333</td>\n",
       "      <td>16.920000</td>\n",
       "      <td>9.840000</td>\n",
       "      <td>63.066667</td>\n",
       "      <td>16.74</td>\n",
       "      <td>38.666667</td>\n",
       "    </tr>\n",
       "    <tr>\n",
       "      <th>2020-12-13 07:15:00</th>\n",
       "      <td>13.633333</td>\n",
       "      <td>17.386667</td>\n",
       "      <td>10.040000</td>\n",
       "      <td>61.933333</td>\n",
       "      <td>19.56</td>\n",
       "      <td>40.733333</td>\n",
       "    </tr>\n",
       "    <tr>\n",
       "      <th>2020-12-13 07:30:00</th>\n",
       "      <td>14.386667</td>\n",
       "      <td>17.986667</td>\n",
       "      <td>10.073333</td>\n",
       "      <td>59.866667</td>\n",
       "      <td>18.90</td>\n",
       "      <td>45.266667</td>\n",
       "    </tr>\n",
       "    <tr>\n",
       "      <th>...</th>\n",
       "      <td>...</td>\n",
       "      <td>...</td>\n",
       "      <td>...</td>\n",
       "      <td>...</td>\n",
       "      <td>...</td>\n",
       "      <td>...</td>\n",
       "    </tr>\n",
       "    <tr>\n",
       "      <th>2022-01-14 09:15:00</th>\n",
       "      <td>23.150000</td>\n",
       "      <td>24.850000</td>\n",
       "      <td>17.200000</td>\n",
       "      <td>62.500000</td>\n",
       "      <td>0.00</td>\n",
       "      <td>0.000000</td>\n",
       "    </tr>\n",
       "    <tr>\n",
       "      <th>2022-01-14 09:30:00</th>\n",
       "      <td>23.300000</td>\n",
       "      <td>25.400000</td>\n",
       "      <td>17.100000</td>\n",
       "      <td>60.000000</td>\n",
       "      <td>0.00</td>\n",
       "      <td>0.000000</td>\n",
       "    </tr>\n",
       "    <tr>\n",
       "      <th>2022-01-14 09:45:00</th>\n",
       "      <td>23.600000</td>\n",
       "      <td>25.400000</td>\n",
       "      <td>17.450000</td>\n",
       "      <td>61.000000</td>\n",
       "      <td>0.00</td>\n",
       "      <td>0.000000</td>\n",
       "    </tr>\n",
       "    <tr>\n",
       "      <th>2022-01-14 10:00:00</th>\n",
       "      <td>23.900000</td>\n",
       "      <td>25.400000</td>\n",
       "      <td>17.800000</td>\n",
       "      <td>62.000000</td>\n",
       "      <td>0.00</td>\n",
       "      <td>0.000000</td>\n",
       "    </tr>\n",
       "    <tr>\n",
       "      <th>2022-01-14 10:15:00</th>\n",
       "      <td>24.450000</td>\n",
       "      <td>25.650000</td>\n",
       "      <td>17.800000</td>\n",
       "      <td>61.500000</td>\n",
       "      <td>0.00</td>\n",
       "      <td>0.000000</td>\n",
       "    </tr>\n",
       "  </tbody>\n",
       "</table>\n",
       "<p>38128 rows × 6 columns</p>\n",
       "</div>"
      ],
      "text/plain": [
       "                     ApparentTemperature  AirTemperature  DewPointTemperature  \\\n",
       "2020-12-13 06:30:00            13.500000       16.333333             9.533333   \n",
       "2020-12-13 06:45:00            13.500000       16.600000             9.800000   \n",
       "2020-12-13 07:00:00            13.673333       16.920000             9.840000   \n",
       "2020-12-13 07:15:00            13.633333       17.386667            10.040000   \n",
       "2020-12-13 07:30:00            14.386667       17.986667            10.073333   \n",
       "...                                  ...             ...                  ...   \n",
       "2022-01-14 09:15:00            23.150000       24.850000            17.200000   \n",
       "2022-01-14 09:30:00            23.300000       25.400000            17.100000   \n",
       "2022-01-14 09:45:00            23.600000       25.400000            17.450000   \n",
       "2022-01-14 10:00:00            23.900000       25.400000            17.800000   \n",
       "2022-01-14 10:15:00            24.450000       25.650000            17.800000   \n",
       "\n",
       "                     RelativeHumidity  WindSpeed  WindDirection  \n",
       "2020-12-13 06:30:00         64.000000      14.20      45.133333  \n",
       "2020-12-13 06:45:00         64.000000      15.88      43.333333  \n",
       "2020-12-13 07:00:00         63.066667      16.74      38.666667  \n",
       "2020-12-13 07:15:00         61.933333      19.56      40.733333  \n",
       "2020-12-13 07:30:00         59.866667      18.90      45.266667  \n",
       "...                               ...        ...            ...  \n",
       "2022-01-14 09:15:00         62.500000       0.00       0.000000  \n",
       "2022-01-14 09:30:00         60.000000       0.00       0.000000  \n",
       "2022-01-14 09:45:00         61.000000       0.00       0.000000  \n",
       "2022-01-14 10:00:00         62.000000       0.00       0.000000  \n",
       "2022-01-14 10:15:00         61.500000       0.00       0.000000  \n",
       "\n",
       "[38128 rows x 6 columns]"
      ]
     },
     "execution_count": 22,
     "metadata": {},
     "output_type": "execute_result"
    }
   ],
   "source": [
    "X_train"
   ]
  },
  {
   "cell_type": "code",
   "execution_count": 26,
   "id": "ebcb78dd-2c77-404d-8da9-2cfadae76a53",
   "metadata": {},
   "outputs": [],
   "source": [
    "ss = StandardScaler()\n",
    "X_train_sc = ss.fit_transform(X_train)\n",
    "X_test_sc = ss.transform(X_test)"
   ]
  },
  {
   "cell_type": "code",
   "execution_count": 29,
   "id": "d7c68c96-40c6-4b0a-8f30-0b1077756e8d",
   "metadata": {},
   "outputs": [],
   "source": [
    "train_sequences = TimeseriesGenerator(X_train_sc, y_train, length = 4, batch_size = 64)\n",
    "test_sequences = TimeseriesGenerator(X_test_sc, y_test, length = 4, batch_size = 64)"
   ]
  },
  {
   "cell_type": "code",
   "execution_count": 30,
   "id": "90fb9f9d-1ed0-4719-a1a9-cdc39cc6168f",
   "metadata": {},
   "outputs": [],
   "source": [
    "input_shape = train_sequences[0][0][0].shape"
   ]
  },
  {
   "cell_type": "code",
   "execution_count": 33,
   "id": "515887e2-12e5-4ee0-bad1-03702de67fa9",
   "metadata": {},
   "outputs": [
    {
     "name": "stdout",
     "output_type": "stream",
     "text": [
      "Epoch 1/50\n",
      "596/596 [==============================] - 6s 5ms/step - loss: 0.4156 - val_loss: -12.2547\n",
      "Epoch 2/50\n",
      "596/596 [==============================] - 3s 4ms/step - loss: -3.5951 - val_loss: -12.1831\n",
      "Epoch 3/50\n",
      "596/596 [==============================] - 2s 4ms/step - loss: -3.6962 - val_loss: -11.8237\n",
      "Epoch 4/50\n",
      "596/596 [==============================] - 2s 4ms/step - loss: -3.7019 - val_loss: -12.2871\n",
      "Epoch 5/50\n",
      "596/596 [==============================] - 2s 4ms/step - loss: -3.7146 - val_loss: -12.2070\n",
      "Epoch 6/50\n",
      "596/596 [==============================] - 3s 5ms/step - loss: -2.9353 - val_loss: -5.4880\n",
      "Epoch 7/50\n",
      "596/596 [==============================] - 3s 5ms/step - loss: -1.6561 - val_loss: -5.4445\n",
      "Epoch 8/50\n",
      "596/596 [==============================] - 3s 5ms/step - loss: -1.6508 - val_loss: -5.4038\n",
      "Epoch 9/50\n",
      "596/596 [==============================] - 3s 5ms/step - loss: -1.6424 - val_loss: -5.4052\n",
      "Epoch 10/50\n",
      "596/596 [==============================] - 3s 4ms/step - loss: -1.6475 - val_loss: -5.4054\n",
      "Epoch 11/50\n",
      "596/596 [==============================] - 3s 5ms/step - loss: -1.6451 - val_loss: -5.4040\n",
      "Epoch 12/50\n",
      "596/596 [==============================] - 3s 5ms/step - loss: -1.6493 - val_loss: -5.4081\n",
      "Epoch 13/50\n",
      "596/596 [==============================] - 3s 5ms/step - loss: -1.6538 - val_loss: -5.4126\n",
      "Epoch 14/50\n",
      "596/596 [==============================] - 3s 5ms/step - loss: -1.6521 - val_loss: -5.4821\n",
      "Epoch 15/50\n",
      "596/596 [==============================] - 3s 5ms/step - loss: -3.6026 - val_loss: -12.1795\n",
      "Epoch 16/50\n",
      "596/596 [==============================] - 3s 4ms/step - loss: -3.7017 - val_loss: -12.0751\n",
      "Epoch 17/50\n",
      "596/596 [==============================] - 2s 4ms/step - loss: -3.7239 - val_loss: -12.4783\n",
      "Epoch 18/50\n",
      "596/596 [==============================] - 3s 5ms/step - loss: -3.7172 - val_loss: -12.4878\n",
      "Epoch 19/50\n",
      "596/596 [==============================] - 3s 5ms/step - loss: -3.7146 - val_loss: -12.2957\n",
      "Epoch 20/50\n",
      "596/596 [==============================] - 3s 4ms/step - loss: -3.7339 - val_loss: -12.6632\n",
      "Epoch 21/50\n",
      "596/596 [==============================] - 3s 5ms/step - loss: -3.7216 - val_loss: -12.3246\n",
      "Epoch 22/50\n",
      "596/596 [==============================] - 3s 5ms/step - loss: -3.7311 - val_loss: -12.4072\n",
      "Epoch 23/50\n",
      "596/596 [==============================] - 3s 5ms/step - loss: -3.7438 - val_loss: -12.6099\n",
      "Epoch 24/50\n",
      "596/596 [==============================] - 3s 5ms/step - loss: -3.7375 - val_loss: -12.5322\n",
      "Epoch 25/50\n",
      "596/596 [==============================] - 3s 5ms/step - loss: -3.7529 - val_loss: -12.2685\n",
      "Epoch 26/50\n",
      "596/596 [==============================] - 3s 5ms/step - loss: -3.7509 - val_loss: -12.4090\n",
      "Epoch 27/50\n",
      "596/596 [==============================] - 3s 5ms/step - loss: -3.7470 - val_loss: -12.4598\n",
      "Epoch 28/50\n",
      "596/596 [==============================] - 3s 5ms/step - loss: -3.7447 - val_loss: -12.5720\n",
      "Epoch 29/50\n",
      "596/596 [==============================] - 3s 5ms/step - loss: -3.7470 - val_loss: -12.5201\n",
      "Epoch 30/50\n",
      "596/596 [==============================] - 3s 4ms/step - loss: -3.7582 - val_loss: -12.2654\n",
      "Epoch 31/50\n",
      "596/596 [==============================] - 2s 3ms/step - loss: -3.7581 - val_loss: -12.3837\n",
      "Epoch 32/50\n",
      "596/596 [==============================] - 2s 3ms/step - loss: -3.7750 - val_loss: -12.1560\n",
      "Epoch 33/50\n",
      "596/596 [==============================] - 2s 3ms/step - loss: -3.7749 - val_loss: -12.4734\n",
      "Epoch 34/50\n",
      "596/596 [==============================] - 2s 3ms/step - loss: -3.7619 - val_loss: -12.4331\n",
      "Epoch 35/50\n",
      "596/596 [==============================] - 2s 3ms/step - loss: -3.7619 - val_loss: -12.3383\n",
      "Epoch 36/50\n",
      "596/596 [==============================] - 2s 3ms/step - loss: -2.1275 - val_loss: -5.5711\n",
      "Epoch 37/50\n",
      "596/596 [==============================] - 2s 3ms/step - loss: -1.6836 - val_loss: -5.5393\n",
      "Epoch 38/50\n",
      "596/596 [==============================] - 2s 3ms/step - loss: -1.6832 - val_loss: -5.5294\n",
      "Epoch 39/50\n",
      "596/596 [==============================] - 2s 3ms/step - loss: -1.6825 - val_loss: -5.6381\n",
      "Epoch 40/50\n",
      "596/596 [==============================] - 2s 3ms/step - loss: -2.7521 - val_loss: -12.8290\n",
      "Epoch 41/50\n",
      "596/596 [==============================] - 3s 4ms/step - loss: -3.6676 - val_loss: -12.6764\n",
      "Epoch 42/50\n",
      "596/596 [==============================] - 3s 4ms/step - loss: -3.7310 - val_loss: -12.6571\n",
      "Epoch 43/50\n",
      "596/596 [==============================] - 3s 5ms/step - loss: -3.7685 - val_loss: -12.4326\n",
      "Epoch 44/50\n",
      "596/596 [==============================] - 2s 4ms/step - loss: -3.7799 - val_loss: -12.3602\n",
      "Epoch 45/50\n",
      "596/596 [==============================] - 3s 4ms/step - loss: -3.7724 - val_loss: -12.3137\n",
      "Epoch 46/50\n",
      "596/596 [==============================] - 2s 4ms/step - loss: -3.7731 - val_loss: -12.5112\n",
      "Epoch 47/50\n",
      "596/596 [==============================] - 2s 4ms/step - loss: -3.7779 - val_loss: -12.5413\n",
      "Epoch 48/50\n",
      "596/596 [==============================] - 4s 6ms/step - loss: -3.7678 - val_loss: -12.1988\n",
      "Epoch 49/50\n",
      "596/596 [==============================] - 3s 5ms/step - loss: -3.7718 - val_loss: -12.0465\n",
      "Epoch 50/50\n",
      "596/596 [==============================] - 2s 4ms/step - loss: -3.7736 - val_loss: -12.4731\n"
     ]
    }
   ],
   "source": [
    "model = Sequential()\n",
    "\n",
    "model.add(GRU(8, input_shape = input_shape, return_sequences = False))\n",
    "model.add(Dense(1))\n",
    "\n",
    "model.compile(loss = 'bce', optimizer = 'adam')\n",
    "\n",
    "res = model.fit(train_sequences, validation_data = test_sequences, epochs = 50)"
   ]
  },
  {
   "cell_type": "code",
   "execution_count": 2,
   "id": "5b632531-736f-430c-9d31-cf65728df0cd",
   "metadata": {},
   "outputs": [
    {
     "data": {
      "text/plain": [
       "'1.24.2'"
      ]
     },
     "execution_count": 2,
     "metadata": {},
     "output_type": "execute_result"
    }
   ],
   "source": [
    "np.__version__"
   ]
  },
  {
   "cell_type": "code",
   "execution_count": 3,
   "id": "45a5e5bf-d025-4082-b3d2-a0ba9b014716",
   "metadata": {},
   "outputs": [
    {
     "name": "stdout",
     "output_type": "stream",
     "text": [
      "/c/Users/jeffr/anaconda3/envs/myenv/python\n"
     ]
    }
   ],
   "source": [
    "!which python"
   ]
  },
  {
   "cell_type": "code",
   "execution_count": 4,
   "id": "cc0ca055-2d91-4416-8331-0a66bfbf6bae",
   "metadata": {},
   "outputs": [
    {
     "name": "stdout",
     "output_type": "stream",
     "text": [
      "Name: numpy\n",
      "Version: 1.19.5\n",
      "Summary: NumPy is the fundamental package for array computing with Python.\n",
      "Home-page: https://www.numpy.org\n",
      "Author: Travis E. Oliphant et al.\n",
      "Author-email: \n",
      "License: BSD\n",
      "Location: c:\\users\\jeffr\\anaconda3\\envs\\myenv\\lib\\site-packages\n",
      "Requires: \n",
      "Required-by: h5py, Keras-Preprocessing, opt-einsum, tensorboard, tensorflow\n"
     ]
    }
   ],
   "source": [
    "!pip show numpy"
   ]
  },
  {
   "cell_type": "code",
   "execution_count": 5,
   "id": "0c517922-e63b-433f-bd19-8dae3b501649",
   "metadata": {},
   "outputs": [
    {
     "data": {
      "text/plain": [
       "'1.24.2'"
      ]
     },
     "execution_count": 5,
     "metadata": {},
     "output_type": "execute_result"
    }
   ],
   "source": [
    "np.version.version"
   ]
  },
  {
   "cell_type": "code",
   "execution_count": 6,
   "id": "0592a695-1002-4796-aa4c-753578b976bf",
   "metadata": {},
   "outputs": [
    {
     "name": "stdout",
     "output_type": "stream",
     "text": [
      "Requirement already satisfied: numpy==1.19.5 in c:\\users\\jeffr\\anaconda3\\envs\\myenv\\lib\\site-packages (1.19.5)\n"
     ]
    }
   ],
   "source": [
    "!pip install numpy==1.19.5"
   ]
  },
  {
   "cell_type": "code",
   "execution_count": null,
   "id": "19017628-f54d-4e5f-ad9a-749f83cf78e0",
   "metadata": {},
   "outputs": [],
   "source": []
  }
 ],
 "metadata": {
  "kernelspec": {
   "display_name": "Python 3 (ipykernel)",
   "language": "python",
   "name": "python3"
  },
  "language_info": {
   "codemirror_mode": {
    "name": "ipython",
    "version": 3
   },
   "file_extension": ".py",
   "mimetype": "text/x-python",
   "name": "python",
   "nbconvert_exporter": "python",
   "pygments_lexer": "ipython3",
   "version": "3.9.13"
  }
 },
 "nbformat": 4,
 "nbformat_minor": 5
}
